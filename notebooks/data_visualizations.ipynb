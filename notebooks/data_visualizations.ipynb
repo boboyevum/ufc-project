{
 "cells": [
  {
   "cell_type": "code",
   "execution_count": 58,
   "id": "7497a763-9cd1-4df1-8b24-1633f4d37645",
   "metadata": {},
   "outputs": [],
   "source": [
    "import pandas as pd\n",
    "import numpy as np\n",
    "\n",
    "import matplotlib.pyplot as plt\n",
    "import seaborn as sns\n",
    "import plotly.express as px\n",
    "import plotly.figure_factory as ff\n",
    "from scipy.stats import gaussian_kde\n",
    "import plotly.graph_objects as go"
   ]
  },
  {
   "cell_type": "code",
   "execution_count": 3,
   "id": "574fbd4f-2851-4cb7-9af8-a15baa091e8d",
   "metadata": {},
   "outputs": [],
   "source": [
    "# some settings:\n",
    "sns.set(style = 'whitegrid')\n",
    "plt.rcParams['figure.figsize'] = (12, 6)"
   ]
  },
  {
   "cell_type": "code",
   "execution_count": 4,
   "id": "5627e25c-d847-4c83-b713-38422e91623e",
   "metadata": {},
   "outputs": [
    {
     "data": {
      "text/html": [
       "<div>\n",
       "<style scoped>\n",
       "    .dataframe tbody tr th:only-of-type {\n",
       "        vertical-align: middle;\n",
       "    }\n",
       "\n",
       "    .dataframe tbody tr th {\n",
       "        vertical-align: top;\n",
       "    }\n",
       "\n",
       "    .dataframe thead th {\n",
       "        text-align: right;\n",
       "    }\n",
       "</style>\n",
       "<table border=\"1\" class=\"dataframe\">\n",
       "  <thead>\n",
       "    <tr style=\"text-align: right;\">\n",
       "      <th></th>\n",
       "      <th>RedFighter</th>\n",
       "      <th>BlueFighter</th>\n",
       "      <th>RedOdds</th>\n",
       "      <th>BlueOdds</th>\n",
       "      <th>RedExpectedValue</th>\n",
       "      <th>BlueExpectedValue</th>\n",
       "      <th>Date</th>\n",
       "      <th>Location</th>\n",
       "      <th>Country</th>\n",
       "      <th>Winner</th>\n",
       "      <th>TitleBout</th>\n",
       "      <th>WeightClass</th>\n",
       "      <th>Gender</th>\n",
       "      <th>NumberOfRounds</th>\n",
       "      <th>BlueCurrentLoseStreak</th>\n",
       "      <th>BlueCurrentWinStreak</th>\n",
       "      <th>BlueDraws</th>\n",
       "      <th>BlueAvgSigStrLanded</th>\n",
       "      <th>BlueAvgSigStrPct</th>\n",
       "      <th>BlueAvgSubAtt</th>\n",
       "      <th>BlueAvgTDLanded</th>\n",
       "      <th>BlueAvgTDPct</th>\n",
       "      <th>BlueLongestWinStreak</th>\n",
       "      <th>BlueLosses</th>\n",
       "      <th>BlueTotalRoundsFought</th>\n",
       "      <th>BlueTotalTitleBouts</th>\n",
       "      <th>BlueWinsByDecisionMajority</th>\n",
       "      <th>BlueWinsByDecisionSplit</th>\n",
       "      <th>BlueWinsByDecisionUnanimous</th>\n",
       "      <th>BlueWinsByKO</th>\n",
       "      <th>BlueWinsBySubmission</th>\n",
       "      <th>BlueWinsByTKODoctorStoppage</th>\n",
       "      <th>BlueWins</th>\n",
       "      <th>BlueStance</th>\n",
       "      <th>BlueHeightCms</th>\n",
       "      <th>BlueReachCms</th>\n",
       "      <th>BlueWeightLbs</th>\n",
       "      <th>RedCurrentLoseStreak</th>\n",
       "      <th>RedCurrentWinStreak</th>\n",
       "      <th>RedDraws</th>\n",
       "      <th>RedAvgSigStrLanded</th>\n",
       "      <th>RedAvgSigStrPct</th>\n",
       "      <th>RedAvgSubAtt</th>\n",
       "      <th>RedAvgTDLanded</th>\n",
       "      <th>RedAvgTDPct</th>\n",
       "      <th>RedLongestWinStreak</th>\n",
       "      <th>RedLosses</th>\n",
       "      <th>RedTotalRoundsFought</th>\n",
       "      <th>RedTotalTitleBouts</th>\n",
       "      <th>RedWinsByDecisionMajority</th>\n",
       "      <th>...</th>\n",
       "      <th>TotalTitleBoutDif</th>\n",
       "      <th>KODif</th>\n",
       "      <th>SubDif</th>\n",
       "      <th>HeightDif</th>\n",
       "      <th>ReachDif</th>\n",
       "      <th>AgeDif</th>\n",
       "      <th>SigStrDif</th>\n",
       "      <th>AvgSubAttDif</th>\n",
       "      <th>AvgTDDif</th>\n",
       "      <th>EmptyArena</th>\n",
       "      <th>BMatchWCRank</th>\n",
       "      <th>RMatchWCRank</th>\n",
       "      <th>RWFlyweightRank</th>\n",
       "      <th>RWFeatherweightRank</th>\n",
       "      <th>RWStrawweightRank</th>\n",
       "      <th>RWBantamweightRank</th>\n",
       "      <th>RHeavyweightRank</th>\n",
       "      <th>RLightHeavyweightRank</th>\n",
       "      <th>RMiddleweightRank</th>\n",
       "      <th>RWelterweightRank</th>\n",
       "      <th>RLightweightRank</th>\n",
       "      <th>RFeatherweightRank</th>\n",
       "      <th>RBantamweightRank</th>\n",
       "      <th>RFlyweightRank</th>\n",
       "      <th>RPFPRank</th>\n",
       "      <th>BWFlyweightRank</th>\n",
       "      <th>BWFeatherweightRank</th>\n",
       "      <th>BWStrawweightRank</th>\n",
       "      <th>BWBantamweightRank</th>\n",
       "      <th>BHeavyweightRank</th>\n",
       "      <th>BLightHeavyweightRank</th>\n",
       "      <th>BMiddleweightRank</th>\n",
       "      <th>BWelterweightRank</th>\n",
       "      <th>BLightweightRank</th>\n",
       "      <th>BFeatherweightRank</th>\n",
       "      <th>BBantamweightRank</th>\n",
       "      <th>BFlyweightRank</th>\n",
       "      <th>BPFPRank</th>\n",
       "      <th>BetterRank</th>\n",
       "      <th>Finish</th>\n",
       "      <th>FinishDetails</th>\n",
       "      <th>FinishRound</th>\n",
       "      <th>FinishRoundTime</th>\n",
       "      <th>TotalFightTimeSecs</th>\n",
       "      <th>RedDecOdds</th>\n",
       "      <th>BlueDecOdds</th>\n",
       "      <th>RSubOdds</th>\n",
       "      <th>BSubOdds</th>\n",
       "      <th>RKOOdds</th>\n",
       "      <th>BKOOdds</th>\n",
       "    </tr>\n",
       "  </thead>\n",
       "  <tbody>\n",
       "    <tr>\n",
       "      <th>0</th>\n",
       "      <td>Alexandre Pantoja</td>\n",
       "      <td>Kai Asakura</td>\n",
       "      <td>-250.0</td>\n",
       "      <td>215.0</td>\n",
       "      <td>40.0000</td>\n",
       "      <td>215.0</td>\n",
       "      <td>2024-12-07</td>\n",
       "      <td>Las Vegas, Nevada, USA</td>\n",
       "      <td>USA</td>\n",
       "      <td>Red</td>\n",
       "      <td>True</td>\n",
       "      <td>Flyweight</td>\n",
       "      <td>MALE</td>\n",
       "      <td>5</td>\n",
       "      <td>0</td>\n",
       "      <td>0</td>\n",
       "      <td>0</td>\n",
       "      <td>0.00</td>\n",
       "      <td>0.00</td>\n",
       "      <td>0.0</td>\n",
       "      <td>0.00</td>\n",
       "      <td>0.00</td>\n",
       "      <td>0</td>\n",
       "      <td>0</td>\n",
       "      <td>0</td>\n",
       "      <td>0</td>\n",
       "      <td>0</td>\n",
       "      <td>0</td>\n",
       "      <td>0</td>\n",
       "      <td>0</td>\n",
       "      <td>0</td>\n",
       "      <td>0</td>\n",
       "      <td>0</td>\n",
       "      <td>Orthodox</td>\n",
       "      <td>172.72</td>\n",
       "      <td>175.26</td>\n",
       "      <td>125</td>\n",
       "      <td>0</td>\n",
       "      <td>6</td>\n",
       "      <td>0</td>\n",
       "      <td>4.41</td>\n",
       "      <td>0.49</td>\n",
       "      <td>0.8</td>\n",
       "      <td>2.61</td>\n",
       "      <td>0.47</td>\n",
       "      <td>6</td>\n",
       "      <td>3</td>\n",
       "      <td>42</td>\n",
       "      <td>3</td>\n",
       "      <td>0</td>\n",
       "      <td>...</td>\n",
       "      <td>-3</td>\n",
       "      <td>-2</td>\n",
       "      <td>-4</td>\n",
       "      <td>7.62</td>\n",
       "      <td>5.08</td>\n",
       "      <td>-3</td>\n",
       "      <td>-4.41</td>\n",
       "      <td>-0.8</td>\n",
       "      <td>-2.61</td>\n",
       "      <td>NaN</td>\n",
       "      <td>NaN</td>\n",
       "      <td>0.0</td>\n",
       "      <td>NaN</td>\n",
       "      <td>NaN</td>\n",
       "      <td>NaN</td>\n",
       "      <td>NaN</td>\n",
       "      <td>NaN</td>\n",
       "      <td>NaN</td>\n",
       "      <td>NaN</td>\n",
       "      <td>NaN</td>\n",
       "      <td>NaN</td>\n",
       "      <td>NaN</td>\n",
       "      <td>NaN</td>\n",
       "      <td>0.0</td>\n",
       "      <td>11.0</td>\n",
       "      <td>NaN</td>\n",
       "      <td>NaN</td>\n",
       "      <td>NaN</td>\n",
       "      <td>NaN</td>\n",
       "      <td>NaN</td>\n",
       "      <td>NaN</td>\n",
       "      <td>NaN</td>\n",
       "      <td>NaN</td>\n",
       "      <td>NaN</td>\n",
       "      <td>NaN</td>\n",
       "      <td>NaN</td>\n",
       "      <td>NaN</td>\n",
       "      <td>NaN</td>\n",
       "      <td>Red</td>\n",
       "      <td>SUB</td>\n",
       "      <td>Rear Naked Choke</td>\n",
       "      <td>2.0</td>\n",
       "      <td>2:05</td>\n",
       "      <td>425.0</td>\n",
       "      <td>300.0</td>\n",
       "      <td>800.0</td>\n",
       "      <td>150.0</td>\n",
       "      <td>2500.0</td>\n",
       "      <td>400.0</td>\n",
       "      <td>350.0</td>\n",
       "    </tr>\n",
       "    <tr>\n",
       "      <th>1</th>\n",
       "      <td>Shavkat Rakhmonov</td>\n",
       "      <td>Ian Machado Garry</td>\n",
       "      <td>-210.0</td>\n",
       "      <td>295.0</td>\n",
       "      <td>47.6190</td>\n",
       "      <td>295.0</td>\n",
       "      <td>2024-12-07</td>\n",
       "      <td>Las Vegas, Nevada, USA</td>\n",
       "      <td>USA</td>\n",
       "      <td>Red</td>\n",
       "      <td>False</td>\n",
       "      <td>Welterweight</td>\n",
       "      <td>MALE</td>\n",
       "      <td>3</td>\n",
       "      <td>0</td>\n",
       "      <td>8</td>\n",
       "      <td>0</td>\n",
       "      <td>5.50</td>\n",
       "      <td>0.55</td>\n",
       "      <td>0.3</td>\n",
       "      <td>0.77</td>\n",
       "      <td>0.55</td>\n",
       "      <td>8</td>\n",
       "      <td>0</td>\n",
       "      <td>20</td>\n",
       "      <td>0</td>\n",
       "      <td>0</td>\n",
       "      <td>1</td>\n",
       "      <td>4</td>\n",
       "      <td>3</td>\n",
       "      <td>0</td>\n",
       "      <td>0</td>\n",
       "      <td>8</td>\n",
       "      <td>Orthodox</td>\n",
       "      <td>190.50</td>\n",
       "      <td>187.96</td>\n",
       "      <td>170</td>\n",
       "      <td>0</td>\n",
       "      <td>6</td>\n",
       "      <td>0</td>\n",
       "      <td>4.12</td>\n",
       "      <td>0.61</td>\n",
       "      <td>1.8</td>\n",
       "      <td>1.49</td>\n",
       "      <td>0.29</td>\n",
       "      <td>6</td>\n",
       "      <td>0</td>\n",
       "      <td>11</td>\n",
       "      <td>0</td>\n",
       "      <td>0</td>\n",
       "      <td>...</td>\n",
       "      <td>0</td>\n",
       "      <td>2</td>\n",
       "      <td>-5</td>\n",
       "      <td>5.08</td>\n",
       "      <td>-7.62</td>\n",
       "      <td>-3</td>\n",
       "      <td>1.38</td>\n",
       "      <td>-1.5</td>\n",
       "      <td>-0.72</td>\n",
       "      <td>NaN</td>\n",
       "      <td>7.0</td>\n",
       "      <td>3.0</td>\n",
       "      <td>NaN</td>\n",
       "      <td>NaN</td>\n",
       "      <td>NaN</td>\n",
       "      <td>NaN</td>\n",
       "      <td>NaN</td>\n",
       "      <td>NaN</td>\n",
       "      <td>NaN</td>\n",
       "      <td>3.0</td>\n",
       "      <td>NaN</td>\n",
       "      <td>NaN</td>\n",
       "      <td>NaN</td>\n",
       "      <td>NaN</td>\n",
       "      <td>NaN</td>\n",
       "      <td>NaN</td>\n",
       "      <td>NaN</td>\n",
       "      <td>NaN</td>\n",
       "      <td>NaN</td>\n",
       "      <td>NaN</td>\n",
       "      <td>NaN</td>\n",
       "      <td>NaN</td>\n",
       "      <td>7.0</td>\n",
       "      <td>NaN</td>\n",
       "      <td>NaN</td>\n",
       "      <td>NaN</td>\n",
       "      <td>NaN</td>\n",
       "      <td>NaN</td>\n",
       "      <td>Red</td>\n",
       "      <td>U-DEC</td>\n",
       "      <td>NaN</td>\n",
       "      <td>5.0</td>\n",
       "      <td>5:00</td>\n",
       "      <td>1500.0</td>\n",
       "      <td>250.0</td>\n",
       "      <td>650.0</td>\n",
       "      <td>180.0</td>\n",
       "      <td>3000.0</td>\n",
       "      <td>240.0</td>\n",
       "      <td>700.0</td>\n",
       "    </tr>\n",
       "    <tr>\n",
       "      <th>2</th>\n",
       "      <td>Ciryl Gane</td>\n",
       "      <td>Alexander Volkov</td>\n",
       "      <td>-380.0</td>\n",
       "      <td>300.0</td>\n",
       "      <td>26.3158</td>\n",
       "      <td>300.0</td>\n",
       "      <td>2024-12-07</td>\n",
       "      <td>Las Vegas, Nevada, USA</td>\n",
       "      <td>USA</td>\n",
       "      <td>Red</td>\n",
       "      <td>False</td>\n",
       "      <td>Heavyweight</td>\n",
       "      <td>MALE</td>\n",
       "      <td>3</td>\n",
       "      <td>0</td>\n",
       "      <td>4</td>\n",
       "      <td>0</td>\n",
       "      <td>5.13</td>\n",
       "      <td>0.57</td>\n",
       "      <td>0.2</td>\n",
       "      <td>0.45</td>\n",
       "      <td>0.63</td>\n",
       "      <td>4</td>\n",
       "      <td>4</td>\n",
       "      <td>44</td>\n",
       "      <td>0</td>\n",
       "      <td>0</td>\n",
       "      <td>1</td>\n",
       "      <td>4</td>\n",
       "      <td>6</td>\n",
       "      <td>1</td>\n",
       "      <td>0</td>\n",
       "      <td>12</td>\n",
       "      <td>Orthodox</td>\n",
       "      <td>200.66</td>\n",
       "      <td>203.20</td>\n",
       "      <td>250</td>\n",
       "      <td>0</td>\n",
       "      <td>1</td>\n",
       "      <td>0</td>\n",
       "      <td>5.49</td>\n",
       "      <td>0.60</td>\n",
       "      <td>0.5</td>\n",
       "      <td>0.58</td>\n",
       "      <td>0.21</td>\n",
       "      <td>7</td>\n",
       "      <td>2</td>\n",
       "      <td>33</td>\n",
       "      <td>3</td>\n",
       "      <td>0</td>\n",
       "      <td>...</td>\n",
       "      <td>-3</td>\n",
       "      <td>2</td>\n",
       "      <td>-1</td>\n",
       "      <td>7.62</td>\n",
       "      <td>-2.54</td>\n",
       "      <td>2</td>\n",
       "      <td>-0.36</td>\n",
       "      <td>-0.3</td>\n",
       "      <td>-0.13</td>\n",
       "      <td>NaN</td>\n",
       "      <td>3.0</td>\n",
       "      <td>2.0</td>\n",
       "      <td>NaN</td>\n",
       "      <td>NaN</td>\n",
       "      <td>NaN</td>\n",
       "      <td>NaN</td>\n",
       "      <td>2.0</td>\n",
       "      <td>NaN</td>\n",
       "      <td>NaN</td>\n",
       "      <td>NaN</td>\n",
       "      <td>NaN</td>\n",
       "      <td>NaN</td>\n",
       "      <td>NaN</td>\n",
       "      <td>NaN</td>\n",
       "      <td>NaN</td>\n",
       "      <td>NaN</td>\n",
       "      <td>NaN</td>\n",
       "      <td>NaN</td>\n",
       "      <td>NaN</td>\n",
       "      <td>3.0</td>\n",
       "      <td>NaN</td>\n",
       "      <td>NaN</td>\n",
       "      <td>NaN</td>\n",
       "      <td>NaN</td>\n",
       "      <td>NaN</td>\n",
       "      <td>NaN</td>\n",
       "      <td>NaN</td>\n",
       "      <td>NaN</td>\n",
       "      <td>Red</td>\n",
       "      <td>S-DEC</td>\n",
       "      <td>NaN</td>\n",
       "      <td>3.0</td>\n",
       "      <td>5:00</td>\n",
       "      <td>900.0</td>\n",
       "      <td>-160.0</td>\n",
       "      <td>450.0</td>\n",
       "      <td>1100.0</td>\n",
       "      <td>3000.0</td>\n",
       "      <td>350.0</td>\n",
       "      <td>1100.0</td>\n",
       "    </tr>\n",
       "    <tr>\n",
       "      <th>3</th>\n",
       "      <td>Bryce Mitchell</td>\n",
       "      <td>Kron Gracie</td>\n",
       "      <td>-950.0</td>\n",
       "      <td>625.0</td>\n",
       "      <td>10.5263</td>\n",
       "      <td>625.0</td>\n",
       "      <td>2024-12-07</td>\n",
       "      <td>Las Vegas, Nevada, USA</td>\n",
       "      <td>USA</td>\n",
       "      <td>Red</td>\n",
       "      <td>False</td>\n",
       "      <td>Featherweight</td>\n",
       "      <td>MALE</td>\n",
       "      <td>3</td>\n",
       "      <td>2</td>\n",
       "      <td>0</td>\n",
       "      <td>0</td>\n",
       "      <td>3.74</td>\n",
       "      <td>0.44</td>\n",
       "      <td>0.5</td>\n",
       "      <td>0.47</td>\n",
       "      <td>0.25</td>\n",
       "      <td>1</td>\n",
       "      <td>2</td>\n",
       "      <td>7</td>\n",
       "      <td>0</td>\n",
       "      <td>0</td>\n",
       "      <td>0</td>\n",
       "      <td>0</td>\n",
       "      <td>0</td>\n",
       "      <td>1</td>\n",
       "      <td>0</td>\n",
       "      <td>1</td>\n",
       "      <td>Southpaw</td>\n",
       "      <td>175.26</td>\n",
       "      <td>177.80</td>\n",
       "      <td>145</td>\n",
       "      <td>1</td>\n",
       "      <td>0</td>\n",
       "      <td>0</td>\n",
       "      <td>2.30</td>\n",
       "      <td>0.58</td>\n",
       "      <td>1.6</td>\n",
       "      <td>3.45</td>\n",
       "      <td>0.41</td>\n",
       "      <td>6</td>\n",
       "      <td>2</td>\n",
       "      <td>22</td>\n",
       "      <td>0</td>\n",
       "      <td>1</td>\n",
       "      <td>...</td>\n",
       "      <td>0</td>\n",
       "      <td>0</td>\n",
       "      <td>0</td>\n",
       "      <td>-2.54</td>\n",
       "      <td>0.00</td>\n",
       "      <td>6</td>\n",
       "      <td>1.44</td>\n",
       "      <td>-1.1</td>\n",
       "      <td>-2.98</td>\n",
       "      <td>NaN</td>\n",
       "      <td>NaN</td>\n",
       "      <td>13.0</td>\n",
       "      <td>NaN</td>\n",
       "      <td>NaN</td>\n",
       "      <td>NaN</td>\n",
       "      <td>NaN</td>\n",
       "      <td>NaN</td>\n",
       "      <td>NaN</td>\n",
       "      <td>NaN</td>\n",
       "      <td>NaN</td>\n",
       "      <td>NaN</td>\n",
       "      <td>13.0</td>\n",
       "      <td>NaN</td>\n",
       "      <td>NaN</td>\n",
       "      <td>NaN</td>\n",
       "      <td>NaN</td>\n",
       "      <td>NaN</td>\n",
       "      <td>NaN</td>\n",
       "      <td>NaN</td>\n",
       "      <td>NaN</td>\n",
       "      <td>NaN</td>\n",
       "      <td>NaN</td>\n",
       "      <td>NaN</td>\n",
       "      <td>NaN</td>\n",
       "      <td>NaN</td>\n",
       "      <td>NaN</td>\n",
       "      <td>NaN</td>\n",
       "      <td>NaN</td>\n",
       "      <td>Red</td>\n",
       "      <td>KO/TKO</td>\n",
       "      <td>Elbows</td>\n",
       "      <td>3.0</td>\n",
       "      <td>0:39</td>\n",
       "      <td>639.0</td>\n",
       "      <td>-200.0</td>\n",
       "      <td>1100.0</td>\n",
       "      <td>380.0</td>\n",
       "      <td>1400.0</td>\n",
       "      <td>500.0</td>\n",
       "      <td>4000.0</td>\n",
       "    </tr>\n",
       "    <tr>\n",
       "      <th>4</th>\n",
       "      <td>Nate Landwehr</td>\n",
       "      <td>Dooho Choi</td>\n",
       "      <td>-130.0</td>\n",
       "      <td>110.0</td>\n",
       "      <td>76.9231</td>\n",
       "      <td>110.0</td>\n",
       "      <td>2024-12-07</td>\n",
       "      <td>Las Vegas, Nevada, USA</td>\n",
       "      <td>USA</td>\n",
       "      <td>Blue</td>\n",
       "      <td>False</td>\n",
       "      <td>Featherweight</td>\n",
       "      <td>MALE</td>\n",
       "      <td>3</td>\n",
       "      <td>0</td>\n",
       "      <td>1</td>\n",
       "      <td>1</td>\n",
       "      <td>4.41</td>\n",
       "      <td>0.53</td>\n",
       "      <td>0.8</td>\n",
       "      <td>0.75</td>\n",
       "      <td>0.37</td>\n",
       "      <td>3</td>\n",
       "      <td>3</td>\n",
       "      <td>15</td>\n",
       "      <td>0</td>\n",
       "      <td>0</td>\n",
       "      <td>0</td>\n",
       "      <td>0</td>\n",
       "      <td>4</td>\n",
       "      <td>0</td>\n",
       "      <td>0</td>\n",
       "      <td>4</td>\n",
       "      <td>Orthodox</td>\n",
       "      <td>177.80</td>\n",
       "      <td>177.80</td>\n",
       "      <td>145</td>\n",
       "      <td>0</td>\n",
       "      <td>1</td>\n",
       "      <td>0</td>\n",
       "      <td>6.25</td>\n",
       "      <td>0.46</td>\n",
       "      <td>1.0</td>\n",
       "      <td>1.00</td>\n",
       "      <td>0.41</td>\n",
       "      <td>3</td>\n",
       "      <td>3</td>\n",
       "      <td>17</td>\n",
       "      <td>0</td>\n",
       "      <td>1</td>\n",
       "      <td>...</td>\n",
       "      <td>0</td>\n",
       "      <td>3</td>\n",
       "      <td>-2</td>\n",
       "      <td>2.54</td>\n",
       "      <td>-5.08</td>\n",
       "      <td>-3</td>\n",
       "      <td>-1.84</td>\n",
       "      <td>-0.2</td>\n",
       "      <td>-0.25</td>\n",
       "      <td>NaN</td>\n",
       "      <td>NaN</td>\n",
       "      <td>NaN</td>\n",
       "      <td>NaN</td>\n",
       "      <td>NaN</td>\n",
       "      <td>NaN</td>\n",
       "      <td>NaN</td>\n",
       "      <td>NaN</td>\n",
       "      <td>NaN</td>\n",
       "      <td>NaN</td>\n",
       "      <td>NaN</td>\n",
       "      <td>NaN</td>\n",
       "      <td>NaN</td>\n",
       "      <td>NaN</td>\n",
       "      <td>NaN</td>\n",
       "      <td>NaN</td>\n",
       "      <td>NaN</td>\n",
       "      <td>NaN</td>\n",
       "      <td>NaN</td>\n",
       "      <td>NaN</td>\n",
       "      <td>NaN</td>\n",
       "      <td>NaN</td>\n",
       "      <td>NaN</td>\n",
       "      <td>NaN</td>\n",
       "      <td>NaN</td>\n",
       "      <td>NaN</td>\n",
       "      <td>NaN</td>\n",
       "      <td>NaN</td>\n",
       "      <td>NaN</td>\n",
       "      <td>neither</td>\n",
       "      <td>KO/TKO</td>\n",
       "      <td>Elbows</td>\n",
       "      <td>3.0</td>\n",
       "      <td>3:21</td>\n",
       "      <td>801.0</td>\n",
       "      <td>275.0</td>\n",
       "      <td>550.0</td>\n",
       "      <td>500.0</td>\n",
       "      <td>700.0</td>\n",
       "      <td>300.0</td>\n",
       "      <td>250.0</td>\n",
       "    </tr>\n",
       "  </tbody>\n",
       "</table>\n",
       "<p>5 rows × 118 columns</p>\n",
       "</div>"
      ],
      "text/plain": [
       "          RedFighter        BlueFighter  RedOdds  BlueOdds  RedExpectedValue  \\\n",
       "0  Alexandre Pantoja        Kai Asakura   -250.0     215.0           40.0000   \n",
       "1  Shavkat Rakhmonov  Ian Machado Garry   -210.0     295.0           47.6190   \n",
       "2         Ciryl Gane   Alexander Volkov   -380.0     300.0           26.3158   \n",
       "3     Bryce Mitchell        Kron Gracie   -950.0     625.0           10.5263   \n",
       "4      Nate Landwehr         Dooho Choi   -130.0     110.0           76.9231   \n",
       "\n",
       "   BlueExpectedValue        Date                Location Country Winner  \\\n",
       "0              215.0  2024-12-07  Las Vegas, Nevada, USA     USA    Red   \n",
       "1              295.0  2024-12-07  Las Vegas, Nevada, USA     USA    Red   \n",
       "2              300.0  2024-12-07  Las Vegas, Nevada, USA     USA    Red   \n",
       "3              625.0  2024-12-07  Las Vegas, Nevada, USA     USA    Red   \n",
       "4              110.0  2024-12-07  Las Vegas, Nevada, USA     USA   Blue   \n",
       "\n",
       "   TitleBout    WeightClass Gender  NumberOfRounds  BlueCurrentLoseStreak  \\\n",
       "0       True      Flyweight   MALE               5                      0   \n",
       "1      False   Welterweight   MALE               3                      0   \n",
       "2      False    Heavyweight   MALE               3                      0   \n",
       "3      False  Featherweight   MALE               3                      2   \n",
       "4      False  Featherweight   MALE               3                      0   \n",
       "\n",
       "   BlueCurrentWinStreak  BlueDraws  BlueAvgSigStrLanded  BlueAvgSigStrPct  \\\n",
       "0                     0          0                 0.00              0.00   \n",
       "1                     8          0                 5.50              0.55   \n",
       "2                     4          0                 5.13              0.57   \n",
       "3                     0          0                 3.74              0.44   \n",
       "4                     1          1                 4.41              0.53   \n",
       "\n",
       "   BlueAvgSubAtt  BlueAvgTDLanded  BlueAvgTDPct  BlueLongestWinStreak  \\\n",
       "0            0.0             0.00          0.00                     0   \n",
       "1            0.3             0.77          0.55                     8   \n",
       "2            0.2             0.45          0.63                     4   \n",
       "3            0.5             0.47          0.25                     1   \n",
       "4            0.8             0.75          0.37                     3   \n",
       "\n",
       "   BlueLosses  BlueTotalRoundsFought  BlueTotalTitleBouts  \\\n",
       "0           0                      0                    0   \n",
       "1           0                     20                    0   \n",
       "2           4                     44                    0   \n",
       "3           2                      7                    0   \n",
       "4           3                     15                    0   \n",
       "\n",
       "   BlueWinsByDecisionMajority  BlueWinsByDecisionSplit  \\\n",
       "0                           0                        0   \n",
       "1                           0                        1   \n",
       "2                           0                        1   \n",
       "3                           0                        0   \n",
       "4                           0                        0   \n",
       "\n",
       "   BlueWinsByDecisionUnanimous  BlueWinsByKO  BlueWinsBySubmission  \\\n",
       "0                            0             0                     0   \n",
       "1                            4             3                     0   \n",
       "2                            4             6                     1   \n",
       "3                            0             0                     1   \n",
       "4                            0             4                     0   \n",
       "\n",
       "   BlueWinsByTKODoctorStoppage  BlueWins BlueStance  BlueHeightCms  \\\n",
       "0                            0         0   Orthodox         172.72   \n",
       "1                            0         8   Orthodox         190.50   \n",
       "2                            0        12   Orthodox         200.66   \n",
       "3                            0         1   Southpaw         175.26   \n",
       "4                            0         4   Orthodox         177.80   \n",
       "\n",
       "   BlueReachCms  BlueWeightLbs  RedCurrentLoseStreak  RedCurrentWinStreak  \\\n",
       "0        175.26            125                     0                    6   \n",
       "1        187.96            170                     0                    6   \n",
       "2        203.20            250                     0                    1   \n",
       "3        177.80            145                     1                    0   \n",
       "4        177.80            145                     0                    1   \n",
       "\n",
       "   RedDraws  RedAvgSigStrLanded  RedAvgSigStrPct  RedAvgSubAtt  \\\n",
       "0         0                4.41             0.49           0.8   \n",
       "1         0                4.12             0.61           1.8   \n",
       "2         0                5.49             0.60           0.5   \n",
       "3         0                2.30             0.58           1.6   \n",
       "4         0                6.25             0.46           1.0   \n",
       "\n",
       "   RedAvgTDLanded  RedAvgTDPct  RedLongestWinStreak  RedLosses  \\\n",
       "0            2.61         0.47                    6          3   \n",
       "1            1.49         0.29                    6          0   \n",
       "2            0.58         0.21                    7          2   \n",
       "3            3.45         0.41                    6          2   \n",
       "4            1.00         0.41                    3          3   \n",
       "\n",
       "   RedTotalRoundsFought  RedTotalTitleBouts  RedWinsByDecisionMajority  ...  \\\n",
       "0                    42                   3                          0  ...   \n",
       "1                    11                   0                          0  ...   \n",
       "2                    33                   3                          0  ...   \n",
       "3                    22                   0                          1  ...   \n",
       "4                    17                   0                          1  ...   \n",
       "\n",
       "   TotalTitleBoutDif  KODif  SubDif  HeightDif  ReachDif  AgeDif SigStrDif  \\\n",
       "0                 -3     -2      -4       7.62      5.08      -3     -4.41   \n",
       "1                  0      2      -5       5.08     -7.62      -3      1.38   \n",
       "2                 -3      2      -1       7.62     -2.54       2     -0.36   \n",
       "3                  0      0       0      -2.54      0.00       6      1.44   \n",
       "4                  0      3      -2       2.54     -5.08      -3     -1.84   \n",
       "\n",
       "   AvgSubAttDif  AvgTDDif  EmptyArena  BMatchWCRank  RMatchWCRank  \\\n",
       "0          -0.8     -2.61         NaN           NaN           0.0   \n",
       "1          -1.5     -0.72         NaN           7.0           3.0   \n",
       "2          -0.3     -0.13         NaN           3.0           2.0   \n",
       "3          -1.1     -2.98         NaN           NaN          13.0   \n",
       "4          -0.2     -0.25         NaN           NaN           NaN   \n",
       "\n",
       "   RWFlyweightRank  RWFeatherweightRank  RWStrawweightRank  \\\n",
       "0              NaN                  NaN                NaN   \n",
       "1              NaN                  NaN                NaN   \n",
       "2              NaN                  NaN                NaN   \n",
       "3              NaN                  NaN                NaN   \n",
       "4              NaN                  NaN                NaN   \n",
       "\n",
       "   RWBantamweightRank  RHeavyweightRank  RLightHeavyweightRank  \\\n",
       "0                 NaN               NaN                    NaN   \n",
       "1                 NaN               NaN                    NaN   \n",
       "2                 NaN               2.0                    NaN   \n",
       "3                 NaN               NaN                    NaN   \n",
       "4                 NaN               NaN                    NaN   \n",
       "\n",
       "   RMiddleweightRank  RWelterweightRank  RLightweightRank  RFeatherweightRank  \\\n",
       "0                NaN                NaN               NaN                 NaN   \n",
       "1                NaN                3.0               NaN                 NaN   \n",
       "2                NaN                NaN               NaN                 NaN   \n",
       "3                NaN                NaN               NaN                13.0   \n",
       "4                NaN                NaN               NaN                 NaN   \n",
       "\n",
       "   RBantamweightRank  RFlyweightRank  RPFPRank  BWFlyweightRank  \\\n",
       "0                NaN             0.0      11.0              NaN   \n",
       "1                NaN             NaN       NaN              NaN   \n",
       "2                NaN             NaN       NaN              NaN   \n",
       "3                NaN             NaN       NaN              NaN   \n",
       "4                NaN             NaN       NaN              NaN   \n",
       "\n",
       "   BWFeatherweightRank  BWStrawweightRank  BWBantamweightRank  \\\n",
       "0                  NaN                NaN                 NaN   \n",
       "1                  NaN                NaN                 NaN   \n",
       "2                  NaN                NaN                 NaN   \n",
       "3                  NaN                NaN                 NaN   \n",
       "4                  NaN                NaN                 NaN   \n",
       "\n",
       "   BHeavyweightRank  BLightHeavyweightRank  BMiddleweightRank  \\\n",
       "0               NaN                    NaN                NaN   \n",
       "1               NaN                    NaN                NaN   \n",
       "2               3.0                    NaN                NaN   \n",
       "3               NaN                    NaN                NaN   \n",
       "4               NaN                    NaN                NaN   \n",
       "\n",
       "   BWelterweightRank  BLightweightRank  BFeatherweightRank  BBantamweightRank  \\\n",
       "0                NaN               NaN                 NaN                NaN   \n",
       "1                7.0               NaN                 NaN                NaN   \n",
       "2                NaN               NaN                 NaN                NaN   \n",
       "3                NaN               NaN                 NaN                NaN   \n",
       "4                NaN               NaN                 NaN                NaN   \n",
       "\n",
       "   BFlyweightRank  BPFPRank  BetterRank  Finish     FinishDetails  \\\n",
       "0             NaN       NaN         Red     SUB  Rear Naked Choke   \n",
       "1             NaN       NaN         Red   U-DEC               NaN   \n",
       "2             NaN       NaN         Red   S-DEC               NaN   \n",
       "3             NaN       NaN         Red  KO/TKO            Elbows   \n",
       "4             NaN       NaN     neither  KO/TKO            Elbows   \n",
       "\n",
       "   FinishRound  FinishRoundTime  TotalFightTimeSecs  RedDecOdds  BlueDecOdds  \\\n",
       "0          2.0             2:05               425.0       300.0        800.0   \n",
       "1          5.0             5:00              1500.0       250.0        650.0   \n",
       "2          3.0             5:00               900.0      -160.0        450.0   \n",
       "3          3.0             0:39               639.0      -200.0       1100.0   \n",
       "4          3.0             3:21               801.0       275.0        550.0   \n",
       "\n",
       "   RSubOdds  BSubOdds  RKOOdds  BKOOdds  \n",
       "0     150.0    2500.0    400.0    350.0  \n",
       "1     180.0    3000.0    240.0    700.0  \n",
       "2    1100.0    3000.0    350.0   1100.0  \n",
       "3     380.0    1400.0    500.0   4000.0  \n",
       "4     500.0     700.0    300.0    250.0  \n",
       "\n",
       "[5 rows x 118 columns]"
      ]
     },
     "execution_count": 4,
     "metadata": {},
     "output_type": "execute_result"
    }
   ],
   "source": [
    "ufc = pd.read_csv('../data/ufc-master.csv')\n",
    "ufc.head()"
   ]
  },
  {
   "cell_type": "code",
   "execution_count": 24,
   "id": "26a8c88b-7bab-4b53-a309-90bd45aa834c",
   "metadata": {},
   "outputs": [
    {
     "data": {
      "application/vnd.plotly.v1+json": {
       "config": {
        "plotlyServerURL": "https://plot.ly"
       },
       "data": [
        {
         "hovertemplate": "Winner=%{x}<br>Count=%{y}<extra></extra>",
         "legendgroup": "Red",
         "marker": {
          "color": "#FF6B6B",
          "line": {
           "color": "rgba(0,0,0,0.1)",
           "width": 0.5
          },
          "pattern": {
           "shape": ""
          }
         },
         "name": "Red",
         "orientation": "v",
         "showlegend": true,
         "textposition": "auto",
         "type": "bar",
         "x": [
          "Red"
         ],
         "xaxis": "x",
         "y": {
          "bdata": "yw4=",
          "dtype": "i2"
         },
         "yaxis": "y"
        },
        {
         "hovertemplate": "Winner=%{x}<br>Count=%{y}<extra></extra>",
         "legendgroup": "Blue",
         "marker": {
          "color": "#4D96FF",
          "line": {
           "color": "rgba(0,0,0,0.1)",
           "width": 0.5
          },
          "pattern": {
           "shape": ""
          }
         },
         "name": "Blue",
         "orientation": "v",
         "showlegend": true,
         "textposition": "auto",
         "type": "bar",
         "x": [
          "Blue"
         ],
         "xaxis": "x",
         "y": {
          "bdata": "tQo=",
          "dtype": "i2"
         },
         "yaxis": "y"
        }
       ],
       "layout": {
        "bargap": 0.4,
        "barmode": "relative",
        "font": {
         "color": "#333",
         "family": "Helvetica Neue",
         "size": 14
        },
        "legend": {
         "title": {
          "text": "Winner"
         },
         "tracegroupgap": 0
        },
        "paper_bgcolor": "white",
        "plot_bgcolor": "white",
        "showlegend": false,
        "template": {
         "data": {
          "bar": [
           {
            "error_x": {
             "color": "#2a3f5f"
            },
            "error_y": {
             "color": "#2a3f5f"
            },
            "marker": {
             "line": {
              "color": "#E5ECF6",
              "width": 0.5
             },
             "pattern": {
              "fillmode": "overlay",
              "size": 10,
              "solidity": 0.2
             }
            },
            "type": "bar"
           }
          ],
          "barpolar": [
           {
            "marker": {
             "line": {
              "color": "#E5ECF6",
              "width": 0.5
             },
             "pattern": {
              "fillmode": "overlay",
              "size": 10,
              "solidity": 0.2
             }
            },
            "type": "barpolar"
           }
          ],
          "carpet": [
           {
            "aaxis": {
             "endlinecolor": "#2a3f5f",
             "gridcolor": "white",
             "linecolor": "white",
             "minorgridcolor": "white",
             "startlinecolor": "#2a3f5f"
            },
            "baxis": {
             "endlinecolor": "#2a3f5f",
             "gridcolor": "white",
             "linecolor": "white",
             "minorgridcolor": "white",
             "startlinecolor": "#2a3f5f"
            },
            "type": "carpet"
           }
          ],
          "choropleth": [
           {
            "colorbar": {
             "outlinewidth": 0,
             "ticks": ""
            },
            "type": "choropleth"
           }
          ],
          "contour": [
           {
            "colorbar": {
             "outlinewidth": 0,
             "ticks": ""
            },
            "colorscale": [
             [
              0,
              "#0d0887"
             ],
             [
              0.1111111111111111,
              "#46039f"
             ],
             [
              0.2222222222222222,
              "#7201a8"
             ],
             [
              0.3333333333333333,
              "#9c179e"
             ],
             [
              0.4444444444444444,
              "#bd3786"
             ],
             [
              0.5555555555555556,
              "#d8576b"
             ],
             [
              0.6666666666666666,
              "#ed7953"
             ],
             [
              0.7777777777777778,
              "#fb9f3a"
             ],
             [
              0.8888888888888888,
              "#fdca26"
             ],
             [
              1,
              "#f0f921"
             ]
            ],
            "type": "contour"
           }
          ],
          "contourcarpet": [
           {
            "colorbar": {
             "outlinewidth": 0,
             "ticks": ""
            },
            "type": "contourcarpet"
           }
          ],
          "heatmap": [
           {
            "colorbar": {
             "outlinewidth": 0,
             "ticks": ""
            },
            "colorscale": [
             [
              0,
              "#0d0887"
             ],
             [
              0.1111111111111111,
              "#46039f"
             ],
             [
              0.2222222222222222,
              "#7201a8"
             ],
             [
              0.3333333333333333,
              "#9c179e"
             ],
             [
              0.4444444444444444,
              "#bd3786"
             ],
             [
              0.5555555555555556,
              "#d8576b"
             ],
             [
              0.6666666666666666,
              "#ed7953"
             ],
             [
              0.7777777777777778,
              "#fb9f3a"
             ],
             [
              0.8888888888888888,
              "#fdca26"
             ],
             [
              1,
              "#f0f921"
             ]
            ],
            "type": "heatmap"
           }
          ],
          "histogram": [
           {
            "marker": {
             "pattern": {
              "fillmode": "overlay",
              "size": 10,
              "solidity": 0.2
             }
            },
            "type": "histogram"
           }
          ],
          "histogram2d": [
           {
            "colorbar": {
             "outlinewidth": 0,
             "ticks": ""
            },
            "colorscale": [
             [
              0,
              "#0d0887"
             ],
             [
              0.1111111111111111,
              "#46039f"
             ],
             [
              0.2222222222222222,
              "#7201a8"
             ],
             [
              0.3333333333333333,
              "#9c179e"
             ],
             [
              0.4444444444444444,
              "#bd3786"
             ],
             [
              0.5555555555555556,
              "#d8576b"
             ],
             [
              0.6666666666666666,
              "#ed7953"
             ],
             [
              0.7777777777777778,
              "#fb9f3a"
             ],
             [
              0.8888888888888888,
              "#fdca26"
             ],
             [
              1,
              "#f0f921"
             ]
            ],
            "type": "histogram2d"
           }
          ],
          "histogram2dcontour": [
           {
            "colorbar": {
             "outlinewidth": 0,
             "ticks": ""
            },
            "colorscale": [
             [
              0,
              "#0d0887"
             ],
             [
              0.1111111111111111,
              "#46039f"
             ],
             [
              0.2222222222222222,
              "#7201a8"
             ],
             [
              0.3333333333333333,
              "#9c179e"
             ],
             [
              0.4444444444444444,
              "#bd3786"
             ],
             [
              0.5555555555555556,
              "#d8576b"
             ],
             [
              0.6666666666666666,
              "#ed7953"
             ],
             [
              0.7777777777777778,
              "#fb9f3a"
             ],
             [
              0.8888888888888888,
              "#fdca26"
             ],
             [
              1,
              "#f0f921"
             ]
            ],
            "type": "histogram2dcontour"
           }
          ],
          "mesh3d": [
           {
            "colorbar": {
             "outlinewidth": 0,
             "ticks": ""
            },
            "type": "mesh3d"
           }
          ],
          "parcoords": [
           {
            "line": {
             "colorbar": {
              "outlinewidth": 0,
              "ticks": ""
             }
            },
            "type": "parcoords"
           }
          ],
          "pie": [
           {
            "automargin": true,
            "type": "pie"
           }
          ],
          "scatter": [
           {
            "fillpattern": {
             "fillmode": "overlay",
             "size": 10,
             "solidity": 0.2
            },
            "type": "scatter"
           }
          ],
          "scatter3d": [
           {
            "line": {
             "colorbar": {
              "outlinewidth": 0,
              "ticks": ""
             }
            },
            "marker": {
             "colorbar": {
              "outlinewidth": 0,
              "ticks": ""
             }
            },
            "type": "scatter3d"
           }
          ],
          "scattercarpet": [
           {
            "marker": {
             "colorbar": {
              "outlinewidth": 0,
              "ticks": ""
             }
            },
            "type": "scattercarpet"
           }
          ],
          "scattergeo": [
           {
            "marker": {
             "colorbar": {
              "outlinewidth": 0,
              "ticks": ""
             }
            },
            "type": "scattergeo"
           }
          ],
          "scattergl": [
           {
            "marker": {
             "colorbar": {
              "outlinewidth": 0,
              "ticks": ""
             }
            },
            "type": "scattergl"
           }
          ],
          "scattermap": [
           {
            "marker": {
             "colorbar": {
              "outlinewidth": 0,
              "ticks": ""
             }
            },
            "type": "scattermap"
           }
          ],
          "scattermapbox": [
           {
            "marker": {
             "colorbar": {
              "outlinewidth": 0,
              "ticks": ""
             }
            },
            "type": "scattermapbox"
           }
          ],
          "scatterpolar": [
           {
            "marker": {
             "colorbar": {
              "outlinewidth": 0,
              "ticks": ""
             }
            },
            "type": "scatterpolar"
           }
          ],
          "scatterpolargl": [
           {
            "marker": {
             "colorbar": {
              "outlinewidth": 0,
              "ticks": ""
             }
            },
            "type": "scatterpolargl"
           }
          ],
          "scatterternary": [
           {
            "marker": {
             "colorbar": {
              "outlinewidth": 0,
              "ticks": ""
             }
            },
            "type": "scatterternary"
           }
          ],
          "surface": [
           {
            "colorbar": {
             "outlinewidth": 0,
             "ticks": ""
            },
            "colorscale": [
             [
              0,
              "#0d0887"
             ],
             [
              0.1111111111111111,
              "#46039f"
             ],
             [
              0.2222222222222222,
              "#7201a8"
             ],
             [
              0.3333333333333333,
              "#9c179e"
             ],
             [
              0.4444444444444444,
              "#bd3786"
             ],
             [
              0.5555555555555556,
              "#d8576b"
             ],
             [
              0.6666666666666666,
              "#ed7953"
             ],
             [
              0.7777777777777778,
              "#fb9f3a"
             ],
             [
              0.8888888888888888,
              "#fdca26"
             ],
             [
              1,
              "#f0f921"
             ]
            ],
            "type": "surface"
           }
          ],
          "table": [
           {
            "cells": {
             "fill": {
              "color": "#EBF0F8"
             },
             "line": {
              "color": "white"
             }
            },
            "header": {
             "fill": {
              "color": "#C8D4E3"
             },
             "line": {
              "color": "white"
             }
            },
            "type": "table"
           }
          ]
         },
         "layout": {
          "annotationdefaults": {
           "arrowcolor": "#2a3f5f",
           "arrowhead": 0,
           "arrowwidth": 1
          },
          "autotypenumbers": "strict",
          "coloraxis": {
           "colorbar": {
            "outlinewidth": 0,
            "ticks": ""
           }
          },
          "colorscale": {
           "diverging": [
            [
             0,
             "#8e0152"
            ],
            [
             0.1,
             "#c51b7d"
            ],
            [
             0.2,
             "#de77ae"
            ],
            [
             0.3,
             "#f1b6da"
            ],
            [
             0.4,
             "#fde0ef"
            ],
            [
             0.5,
             "#f7f7f7"
            ],
            [
             0.6,
             "#e6f5d0"
            ],
            [
             0.7,
             "#b8e186"
            ],
            [
             0.8,
             "#7fbc41"
            ],
            [
             0.9,
             "#4d9221"
            ],
            [
             1,
             "#276419"
            ]
           ],
           "sequential": [
            [
             0,
             "#0d0887"
            ],
            [
             0.1111111111111111,
             "#46039f"
            ],
            [
             0.2222222222222222,
             "#7201a8"
            ],
            [
             0.3333333333333333,
             "#9c179e"
            ],
            [
             0.4444444444444444,
             "#bd3786"
            ],
            [
             0.5555555555555556,
             "#d8576b"
            ],
            [
             0.6666666666666666,
             "#ed7953"
            ],
            [
             0.7777777777777778,
             "#fb9f3a"
            ],
            [
             0.8888888888888888,
             "#fdca26"
            ],
            [
             1,
             "#f0f921"
            ]
           ],
           "sequentialminus": [
            [
             0,
             "#0d0887"
            ],
            [
             0.1111111111111111,
             "#46039f"
            ],
            [
             0.2222222222222222,
             "#7201a8"
            ],
            [
             0.3333333333333333,
             "#9c179e"
            ],
            [
             0.4444444444444444,
             "#bd3786"
            ],
            [
             0.5555555555555556,
             "#d8576b"
            ],
            [
             0.6666666666666666,
             "#ed7953"
            ],
            [
             0.7777777777777778,
             "#fb9f3a"
            ],
            [
             0.8888888888888888,
             "#fdca26"
            ],
            [
             1,
             "#f0f921"
            ]
           ]
          },
          "colorway": [
           "#636efa",
           "#EF553B",
           "#00cc96",
           "#ab63fa",
           "#FFA15A",
           "#19d3f3",
           "#FF6692",
           "#B6E880",
           "#FF97FF",
           "#FECB52"
          ],
          "font": {
           "color": "#2a3f5f"
          },
          "geo": {
           "bgcolor": "white",
           "lakecolor": "white",
           "landcolor": "#E5ECF6",
           "showlakes": true,
           "showland": true,
           "subunitcolor": "white"
          },
          "hoverlabel": {
           "align": "left"
          },
          "hovermode": "closest",
          "mapbox": {
           "style": "light"
          },
          "paper_bgcolor": "white",
          "plot_bgcolor": "#E5ECF6",
          "polar": {
           "angularaxis": {
            "gridcolor": "white",
            "linecolor": "white",
            "ticks": ""
           },
           "bgcolor": "#E5ECF6",
           "radialaxis": {
            "gridcolor": "white",
            "linecolor": "white",
            "ticks": ""
           }
          },
          "scene": {
           "xaxis": {
            "backgroundcolor": "#E5ECF6",
            "gridcolor": "white",
            "gridwidth": 2,
            "linecolor": "white",
            "showbackground": true,
            "ticks": "",
            "zerolinecolor": "white"
           },
           "yaxis": {
            "backgroundcolor": "#E5ECF6",
            "gridcolor": "white",
            "gridwidth": 2,
            "linecolor": "white",
            "showbackground": true,
            "ticks": "",
            "zerolinecolor": "white"
           },
           "zaxis": {
            "backgroundcolor": "#E5ECF6",
            "gridcolor": "white",
            "gridwidth": 2,
            "linecolor": "white",
            "showbackground": true,
            "ticks": "",
            "zerolinecolor": "white"
           }
          },
          "shapedefaults": {
           "line": {
            "color": "#2a3f5f"
           }
          },
          "ternary": {
           "aaxis": {
            "gridcolor": "white",
            "linecolor": "white",
            "ticks": ""
           },
           "baxis": {
            "gridcolor": "white",
            "linecolor": "white",
            "ticks": ""
           },
           "bgcolor": "#E5ECF6",
           "caxis": {
            "gridcolor": "white",
            "linecolor": "white",
            "ticks": ""
           }
          },
          "title": {
           "x": 0.05
          },
          "xaxis": {
           "automargin": true,
           "gridcolor": "white",
           "linecolor": "white",
           "ticks": "",
           "title": {
            "standoff": 15
           },
           "zerolinecolor": "white",
           "zerolinewidth": 2
          },
          "yaxis": {
           "automargin": true,
           "gridcolor": "white",
           "linecolor": "white",
           "ticks": "",
           "title": {
            "standoff": 15
           },
           "zerolinecolor": "white",
           "zerolinewidth": 2
          }
         }
        },
        "title": {
         "text": "Winner Distribution: red vs blue",
         "x": 0.05
        },
        "xaxis": {
         "anchor": "y",
         "categoryarray": [
          "Red",
          "Blue"
         ],
         "categoryorder": "array",
         "domain": [
          0,
          1
         ],
         "title": {
          "text": ""
         }
        },
        "yaxis": {
         "anchor": "x",
         "domain": [
          0,
          1
         ],
         "gridcolor": "rgba(0,0,0,0.05)",
         "title": {
          "text": "Count"
         }
        }
       }
      },
      "image/png": "[encoded data removed]"
     },
     "metadata": {},
     "output_type": "display_data"
    }
   ],
   "source": [
    "color_map = {'Red': '#FF6B6B', 'Blue': '#4D96FF'}  # pastel red & blue\n",
    "\n",
    "winner_counts = ufc['Winner'].value_counts().reset_index()\n",
    "winner_counts.columns = ['Winner', 'Count']\n",
    "\n",
    "fig = px.bar(winner_counts, x = 'Winner', y = 'Count', color = 'Winner', color_discrete_map = color_map, title = 'Winner Distribution: red vs blue')\n",
    "\n",
    "fig.update_layout(plot_bgcolor = 'white', paper_bgcolor = 'white', font = dict(family = \"Helvetica Neue\", size = 14, color = \"#333\"),\n",
    "                xaxis = dict(title = ''), yaxis = dict(title = 'Count', gridcolor = 'rgba(0,0,0,0.05)'), title_x = 0.05, showlegend = False, bargap = 0.4)\n",
    "\n",
    "fig.update_traces(marker_line_width = 0.5, marker_line_color = 'rgba(0,0,0,0.1)')\n",
    "fig.show()"
   ]
  },
  {
   "cell_type": "code",
   "execution_count": 37,
   "id": "5478db3c-ade3-4f50-b5fd-a1e05ca760b8",
   "metadata": {},
   "outputs": [
    {
     "data": {
      "application/vnd.plotly.v1+json": {
       "config": {
        "plotlyServerURL": "https://plot.ly"
       },
       "data": [
        {
         "hovertemplate": "TitleBout=%{x}<br>Count=%{y}<extra></extra>",
         "legendgroup": "Non-Title Fight",
         "marker": {
          "color": "rgb(102, 197, 204)",
          "line": {
           "color": "rgba(0,0,0,0.1)",
           "width": 0.5
          },
          "pattern": {
           "shape": ""
          }
         },
         "name": "Non-Title Fight",
         "orientation": "v",
         "showlegend": true,
         "textposition": "auto",
         "type": "bar",
         "x": [
          "Non-Title Fight"
         ],
         "xaxis": "x",
         "y": {
          "bdata": "Uhg=",
          "dtype": "i2"
         },
         "yaxis": "y"
        },
        {
         "hovertemplate": "TitleBout=%{x}<br>Count=%{y}<extra></extra>",
         "legendgroup": "Title Fight",
         "marker": {
          "color": "rgb(246, 207, 113)",
          "line": {
           "color": "rgba(0,0,0,0.1)",
           "width": 0.5
          },
          "pattern": {
           "shape": ""
          }
         },
         "name": "Title Fight",
         "orientation": "v",
         "showlegend": true,
         "textposition": "auto",
         "type": "bar",
         "x": [
          "Title Fight"
         ],
         "xaxis": "x",
         "y": {
          "bdata": "LgE=",
          "dtype": "i2"
         },
         "yaxis": "y"
        }
       ],
       "layout": {
        "bargap": 0.4,
        "barmode": "relative",
        "font": {
         "color": "#333",
         "family": "Helvetica Neue",
         "size": 14
        },
        "legend": {
         "title": {
          "text": "TitleBout"
         },
         "tracegroupgap": 0
        },
        "paper_bgcolor": "white",
        "plot_bgcolor": "white",
        "showlegend": false,
        "template": {
         "data": {
          "bar": [
           {
            "error_x": {
             "color": "#2a3f5f"
            },
            "error_y": {
             "color": "#2a3f5f"
            },
            "marker": {
             "line": {
              "color": "#E5ECF6",
              "width": 0.5
             },
             "pattern": {
              "fillmode": "overlay",
              "size": 10,
              "solidity": 0.2
             }
            },
            "type": "bar"
           }
          ],
          "barpolar": [
           {
            "marker": {
             "line": {
              "color": "#E5ECF6",
              "width": 0.5
             },
             "pattern": {
              "fillmode": "overlay",
              "size": 10,
              "solidity": 0.2
             }
            },
            "type": "barpolar"
           }
          ],
          "carpet": [
           {
            "aaxis": {
             "endlinecolor": "#2a3f5f",
             "gridcolor": "white",
             "linecolor": "white",
             "minorgridcolor": "white",
             "startlinecolor": "#2a3f5f"
            },
            "baxis": {
             "endlinecolor": "#2a3f5f",
             "gridcolor": "white",
             "linecolor": "white",
             "minorgridcolor": "white",
             "startlinecolor": "#2a3f5f"
            },
            "type": "carpet"
           }
          ],
          "choropleth": [
           {
            "colorbar": {
             "outlinewidth": 0,
             "ticks": ""
            },
            "type": "choropleth"
           }
          ],
          "contour": [
           {
            "colorbar": {
             "outlinewidth": 0,
             "ticks": ""
            },
            "colorscale": [
             [
              0,
              "#0d0887"
             ],
             [
              0.1111111111111111,
              "#46039f"
             ],
             [
              0.2222222222222222,
              "#7201a8"
             ],
             [
              0.3333333333333333,
              "#9c179e"
             ],
             [
              0.4444444444444444,
              "#bd3786"
             ],
             [
              0.5555555555555556,
              "#d8576b"
             ],
             [
              0.6666666666666666,
              "#ed7953"
             ],
             [
              0.7777777777777778,
              "#fb9f3a"
             ],
             [
              0.8888888888888888,
              "#fdca26"
             ],
             [
              1,
              "#f0f921"
             ]
            ],
            "type": "contour"
           }
          ],
          "contourcarpet": [
           {
            "colorbar": {
             "outlinewidth": 0,
             "ticks": ""
            },
            "type": "contourcarpet"
           }
          ],
          "heatmap": [
           {
            "colorbar": {
             "outlinewidth": 0,
             "ticks": ""
            },
            "colorscale": [
             [
              0,
              "#0d0887"
             ],
             [
              0.1111111111111111,
              "#46039f"
             ],
             [
              0.2222222222222222,
              "#7201a8"
             ],
             [
              0.3333333333333333,
              "#9c179e"
             ],
             [
              0.4444444444444444,
              "#bd3786"
             ],
             [
              0.5555555555555556,
              "#d8576b"
             ],
             [
              0.6666666666666666,
              "#ed7953"
             ],
             [
              0.7777777777777778,
              "#fb9f3a"
             ],
             [
              0.8888888888888888,
              "#fdca26"
             ],
             [
              1,
              "#f0f921"
             ]
            ],
            "type": "heatmap"
           }
          ],
          "histogram": [
           {
            "marker": {
             "pattern": {
              "fillmode": "overlay",
              "size": 10,
              "solidity": 0.2
             }
            },
            "type": "histogram"
           }
          ],
          "histogram2d": [
           {
            "colorbar": {
             "outlinewidth": 0,
             "ticks": ""
            },
            "colorscale": [
             [
              0,
              "#0d0887"
             ],
             [
              0.1111111111111111,
              "#46039f"
             ],
             [
              0.2222222222222222,
              "#7201a8"
             ],
             [
              0.3333333333333333,
              "#9c179e"
             ],
             [
              0.4444444444444444,
              "#bd3786"
             ],
             [
              0.5555555555555556,
              "#d8576b"
             ],
             [
              0.6666666666666666,
              "#ed7953"
             ],
             [
              0.7777777777777778,
              "#fb9f3a"
             ],
             [
              0.8888888888888888,
              "#fdca26"
             ],
             [
              1,
              "#f0f921"
             ]
            ],
            "type": "histogram2d"
           }
          ],
          "histogram2dcontour": [
           {
            "colorbar": {
             "outlinewidth": 0,
             "ticks": ""
            },
            "colorscale": [
             [
              0,
              "#0d0887"
             ],
             [
              0.1111111111111111,
              "#46039f"
             ],
             [
              0.2222222222222222,
              "#7201a8"
             ],
             [
              0.3333333333333333,
              "#9c179e"
             ],
             [
              0.4444444444444444,
              "#bd3786"
             ],
             [
              0.5555555555555556,
              "#d8576b"
             ],
             [
              0.6666666666666666,
              "#ed7953"
             ],
             [
              0.7777777777777778,
              "#fb9f3a"
             ],
             [
              0.8888888888888888,
              "#fdca26"
             ],
             [
              1,
              "#f0f921"
             ]
            ],
            "type": "histogram2dcontour"
           }
          ],
          "mesh3d": [
           {
            "colorbar": {
             "outlinewidth": 0,
             "ticks": ""
            },
            "type": "mesh3d"
           }
          ],
          "parcoords": [
           {
            "line": {
             "colorbar": {
              "outlinewidth": 0,
              "ticks": ""
             }
            },
            "type": "parcoords"
           }
          ],
          "pie": [
           {
            "automargin": true,
            "type": "pie"
           }
          ],
          "scatter": [
           {
            "fillpattern": {
             "fillmode": "overlay",
             "size": 10,
             "solidity": 0.2
            },
            "type": "scatter"
           }
          ],
          "scatter3d": [
           {
            "line": {
             "colorbar": {
              "outlinewidth": 0,
              "ticks": ""
             }
            },
            "marker": {
             "colorbar": {
              "outlinewidth": 0,
              "ticks": ""
             }
            },
            "type": "scatter3d"
           }
          ],
          "scattercarpet": [
           {
            "marker": {
             "colorbar": {
              "outlinewidth": 0,
              "ticks": ""
             }
            },
            "type": "scattercarpet"
           }
          ],
          "scattergeo": [
           {
            "marker": {
             "colorbar": {
              "outlinewidth": 0,
              "ticks": ""
             }
            },
            "type": "scattergeo"
           }
          ],
          "scattergl": [
           {
            "marker": {
             "colorbar": {
              "outlinewidth": 0,
              "ticks": ""
             }
            },
            "type": "scattergl"
           }
          ],
          "scattermap": [
           {
            "marker": {
             "colorbar": {
              "outlinewidth": 0,
              "ticks": ""
             }
            },
            "type": "scattermap"
           }
          ],
          "scattermapbox": [
           {
            "marker": {
             "colorbar": {
              "outlinewidth": 0,
              "ticks": ""
             }
            },
            "type": "scattermapbox"
           }
          ],
          "scatterpolar": [
           {
            "marker": {
             "colorbar": {
              "outlinewidth": 0,
              "ticks": ""
             }
            },
            "type": "scatterpolar"
           }
          ],
          "scatterpolargl": [
           {
            "marker": {
             "colorbar": {
              "outlinewidth": 0,
              "ticks": ""
             }
            },
            "type": "scatterpolargl"
           }
          ],
          "scatterternary": [
           {
            "marker": {
             "colorbar": {
              "outlinewidth": 0,
              "ticks": ""
             }
            },
            "type": "scatterternary"
           }
          ],
          "surface": [
           {
            "colorbar": {
             "outlinewidth": 0,
             "ticks": ""
            },
            "colorscale": [
             [
              0,
              "#0d0887"
             ],
             [
              0.1111111111111111,
              "#46039f"
             ],
             [
              0.2222222222222222,
              "#7201a8"
             ],
             [
              0.3333333333333333,
              "#9c179e"
             ],
             [
              0.4444444444444444,
              "#bd3786"
             ],
             [
              0.5555555555555556,
              "#d8576b"
             ],
             [
              0.6666666666666666,
              "#ed7953"
             ],
             [
              0.7777777777777778,
              "#fb9f3a"
             ],
             [
              0.8888888888888888,
              "#fdca26"
             ],
             [
              1,
              "#f0f921"
             ]
            ],
            "type": "surface"
           }
          ],
          "table": [
           {
            "cells": {
             "fill": {
              "color": "#EBF0F8"
             },
             "line": {
              "color": "white"
             }
            },
            "header": {
             "fill": {
              "color": "#C8D4E3"
             },
             "line": {
              "color": "white"
             }
            },
            "type": "table"
           }
          ]
         },
         "layout": {
          "annotationdefaults": {
           "arrowcolor": "#2a3f5f",
           "arrowhead": 0,
           "arrowwidth": 1
          },
          "autotypenumbers": "strict",
          "coloraxis": {
           "colorbar": {
            "outlinewidth": 0,
            "ticks": ""
           }
          },
          "colorscale": {
           "diverging": [
            [
             0,
             "#8e0152"
            ],
            [
             0.1,
             "#c51b7d"
            ],
            [
             0.2,
             "#de77ae"
            ],
            [
             0.3,
             "#f1b6da"
            ],
            [
             0.4,
             "#fde0ef"
            ],
            [
             0.5,
             "#f7f7f7"
            ],
            [
             0.6,
             "#e6f5d0"
            ],
            [
             0.7,
             "#b8e186"
            ],
            [
             0.8,
             "#7fbc41"
            ],
            [
             0.9,
             "#4d9221"
            ],
            [
             1,
             "#276419"
            ]
           ],
           "sequential": [
            [
             0,
             "#0d0887"
            ],
            [
             0.1111111111111111,
             "#46039f"
            ],
            [
             0.2222222222222222,
             "#7201a8"
            ],
            [
             0.3333333333333333,
             "#9c179e"
            ],
            [
             0.4444444444444444,
             "#bd3786"
            ],
            [
             0.5555555555555556,
             "#d8576b"
            ],
            [
             0.6666666666666666,
             "#ed7953"
            ],
            [
             0.7777777777777778,
             "#fb9f3a"
            ],
            [
             0.8888888888888888,
             "#fdca26"
            ],
            [
             1,
             "#f0f921"
            ]
           ],
           "sequentialminus": [
            [
             0,
             "#0d0887"
            ],
            [
             0.1111111111111111,
             "#46039f"
            ],
            [
             0.2222222222222222,
             "#7201a8"
            ],
            [
             0.3333333333333333,
             "#9c179e"
            ],
            [
             0.4444444444444444,
             "#bd3786"
            ],
            [
             0.5555555555555556,
             "#d8576b"
            ],
            [
             0.6666666666666666,
             "#ed7953"
            ],
            [
             0.7777777777777778,
             "#fb9f3a"
            ],
            [
             0.8888888888888888,
             "#fdca26"
            ],
            [
             1,
             "#f0f921"
            ]
           ]
          },
          "colorway": [
           "#636efa",
           "#EF553B",
           "#00cc96",
           "#ab63fa",
           "#FFA15A",
           "#19d3f3",
           "#FF6692",
           "#B6E880",
           "#FF97FF",
           "#FECB52"
          ],
          "font": {
           "color": "#2a3f5f"
          },
          "geo": {
           "bgcolor": "white",
           "lakecolor": "white",
           "landcolor": "#E5ECF6",
           "showlakes": true,
           "showland": true,
           "subunitcolor": "white"
          },
          "hoverlabel": {
           "align": "left"
          },
          "hovermode": "closest",
          "mapbox": {
           "style": "light"
          },
          "paper_bgcolor": "white",
          "plot_bgcolor": "#E5ECF6",
          "polar": {
           "angularaxis": {
            "gridcolor": "white",
            "linecolor": "white",
            "ticks": ""
           },
           "bgcolor": "#E5ECF6",
           "radialaxis": {
            "gridcolor": "white",
            "linecolor": "white",
            "ticks": ""
           }
          },
          "scene": {
           "xaxis": {
            "backgroundcolor": "#E5ECF6",
            "gridcolor": "white",
            "gridwidth": 2,
            "linecolor": "white",
            "showbackground": true,
            "ticks": "",
            "zerolinecolor": "white"
           },
           "yaxis": {
            "backgroundcolor": "#E5ECF6",
            "gridcolor": "white",
            "gridwidth": 2,
            "linecolor": "white",
            "showbackground": true,
            "ticks": "",
            "zerolinecolor": "white"
           },
           "zaxis": {
            "backgroundcolor": "#E5ECF6",
            "gridcolor": "white",
            "gridwidth": 2,
            "linecolor": "white",
            "showbackground": true,
            "ticks": "",
            "zerolinecolor": "white"
           }
          },
          "shapedefaults": {
           "line": {
            "color": "#2a3f5f"
           }
          },
          "ternary": {
           "aaxis": {
            "gridcolor": "white",
            "linecolor": "white",
            "ticks": ""
           },
           "baxis": {
            "gridcolor": "white",
            "linecolor": "white",
            "ticks": ""
           },
           "bgcolor": "#E5ECF6",
           "caxis": {
            "gridcolor": "white",
            "linecolor": "white",
            "ticks": ""
           }
          },
          "title": {
           "x": 0.05
          },
          "xaxis": {
           "automargin": true,
           "gridcolor": "white",
           "linecolor": "white",
           "ticks": "",
           "title": {
            "standoff": 15
           },
           "zerolinecolor": "white",
           "zerolinewidth": 2
          },
          "yaxis": {
           "automargin": true,
           "gridcolor": "white",
           "linecolor": "white",
           "ticks": "",
           "title": {
            "standoff": 15
           },
           "zerolinecolor": "white",
           "zerolinewidth": 2
          }
         }
        },
        "title": {
         "text": "4.63% Were Title Fights",
         "x": 0.05
        },
        "xaxis": {
         "anchor": "y",
         "categoryarray": [
          "Non-Title Fight",
          "Title Fight"
         ],
         "categoryorder": "array",
         "domain": [
          0,
          1
         ],
         "title": {
          "text": ""
         }
        },
        "yaxis": {
         "anchor": "x",
         "domain": [
          0,
          1
         ],
         "gridcolor": "rgba(0,0,0,0.05)",
         "title": {
          "text": "Count"
         }
        }
       }
      },
      "image/png": "[encoded data removed]"
     },
     "metadata": {},
     "output_type": "display_data"
    }
   ],
   "source": [
    "title_counts = ufc['TitleBout'].value_counts().reset_index()\n",
    "title_counts.columns = ['TitleBout', 'Count']\n",
    "title_counts['TitleBout'] = title_counts['TitleBout'].map({True: 'Title Fight', False: 'Non-Title Fight'})\n",
    "\n",
    "total_fights = title_counts['Count'].sum()\n",
    "title_fight_count = title_counts[title_counts['TitleBout'] == 'Title Fight']['Count'].values[0]\n",
    "title_ratio = title_fight_count / total_fights * 100\n",
    "\n",
    "fig = px.bar(title_counts, x = 'TitleBout', y = 'Count',\n",
    "             color = 'TitleBout', color_discrete_sequence = px.colors.qualitative.Pastel,\n",
    "             title = f'{title_ratio:.2f}% Were Title Fights')\n",
    "\n",
    "fig.update_layout(plot_bgcolor = 'white', paper_bgcolor = 'white',\n",
    "                  font = dict(family = \"Helvetica Neue\", size = 14, color = \"#333\"),\n",
    "                  xaxis = dict(title = ''), yaxis = dict(title = 'Count', gridcolor = 'rgba(0,0,0,0.05)'),\n",
    "                  title_x = 0.05, showlegend = False, bargap = 0.4)\n",
    "\n",
    "fig.update_traces(marker_line_width = 0.5, marker_line_color = 'rgba(0,0,0,0.1)')\n",
    "fig.show()"
   ]
  },
  {
   "cell_type": "code",
   "execution_count": 22,
   "id": "371752fa-283d-47e5-810e-efaed97e3de1",
   "metadata": {},
   "outputs": [
    {
     "data": {
      "application/vnd.plotly.v1+json": {
       "config": {
        "plotlyServerURL": "https://plot.ly"
       },
       "data": [
        {
         "hovertemplate": "Finish=%{y}<br>Count=%{x}<extra></extra>",
         "legendgroup": "U-DEC",
         "marker": {
          "color": "rgb(102, 197, 204)",
          "line": {
           "color": "rgba(0,0,0,0.1)",
           "width": 0.5
          },
          "pattern": {
           "shape": ""
          }
         },
         "name": "U-DEC",
         "orientation": "h",
         "showlegend": true,
         "textposition": "auto",
         "type": "bar",
         "x": {
          "bdata": "ZAk=",
          "dtype": "i2"
         },
         "xaxis": "x",
         "y": [
          "U-DEC"
         ],
         "yaxis": "y"
        },
        {
         "hovertemplate": "Finish=%{y}<br>Count=%{x}<extra></extra>",
         "legendgroup": "KO/TKO",
         "marker": {
          "color": "rgb(246, 207, 113)",
          "line": {
           "color": "rgba(0,0,0,0.1)",
           "width": 0.5
          },
          "pattern": {
           "shape": ""
          }
         },
         "name": "KO/TKO",
         "orientation": "h",
         "showlegend": true,
         "textposition": "auto",
         "type": "bar",
         "x": {
          "bdata": "2Qc=",
          "dtype": "i2"
         },
         "xaxis": "x",
         "y": [
          "KO/TKO"
         ],
         "yaxis": "y"
        },
        {
         "hovertemplate": "Finish=%{y}<br>Count=%{x}<extra></extra>",
         "legendgroup": "SUB",
         "marker": {
          "color": "rgb(248, 156, 116)",
          "line": {
           "color": "rgba(0,0,0,0.1)",
           "width": 0.5
          },
          "pattern": {
           "shape": ""
          }
         },
         "name": "SUB",
         "orientation": "h",
         "showlegend": true,
         "textposition": "auto",
         "type": "bar",
         "x": {
          "bdata": "hQQ=",
          "dtype": "i2"
         },
         "xaxis": "x",
         "y": [
          "SUB"
         ],
         "yaxis": "y"
        },
        {
         "hovertemplate": "Finish=%{y}<br>Count=%{x}<extra></extra>",
         "legendgroup": "S-DEC",
         "marker": {
          "color": "rgb(220, 176, 242)",
          "line": {
           "color": "rgba(0,0,0,0.1)",
           "width": 0.5
          },
          "pattern": {
           "shape": ""
          }
         },
         "name": "S-DEC",
         "orientation": "h",
         "showlegend": true,
         "textposition": "auto",
         "type": "bar",
         "x": {
          "bdata": "jgI=",
          "dtype": "i2"
         },
         "xaxis": "x",
         "y": [
          "S-DEC"
         ],
         "yaxis": "y"
        },
        {
         "hovertemplate": "Finish=%{y}<br>Count=%{x}<extra></extra>",
         "legendgroup": "M-DEC",
         "marker": {
          "color": "rgb(135, 197, 95)",
          "line": {
           "color": "rgba(0,0,0,0.1)",
           "width": 0.5
          },
          "pattern": {
           "shape": ""
          }
         },
         "name": "M-DEC",
         "orientation": "h",
         "showlegend": true,
         "textposition": "auto",
         "type": "bar",
         "x": {
          "bdata": "Lg==",
          "dtype": "i1"
         },
         "xaxis": "x",
         "y": [
          "M-DEC"
         ],
         "yaxis": "y"
        },
        {
         "hovertemplate": "Finish=%{y}<br>Count=%{x}<extra></extra>",
         "legendgroup": "DQ",
         "marker": {
          "color": "rgb(158, 185, 243)",
          "line": {
           "color": "rgba(0,0,0,0.1)",
           "width": 0.5
          },
          "pattern": {
           "shape": ""
          }
         },
         "name": "DQ",
         "orientation": "h",
         "showlegend": true,
         "textposition": "auto",
         "type": "bar",
         "x": {
          "bdata": "Eg==",
          "dtype": "i1"
         },
         "xaxis": "x",
         "y": [
          "DQ"
         ],
         "yaxis": "y"
        },
        {
         "hovertemplate": "Finish=%{y}<br>Count=%{x}<extra></extra>",
         "legendgroup": "Overturned",
         "marker": {
          "color": "rgb(254, 136, 177)",
          "line": {
           "color": "rgba(0,0,0,0.1)",
           "width": 0.5
          },
          "pattern": {
           "shape": ""
          }
         },
         "name": "Overturned",
         "orientation": "h",
         "showlegend": true,
         "textposition": "auto",
         "type": "bar",
         "x": {
          "bdata": "Ag==",
          "dtype": "i1"
         },
         "xaxis": "x",
         "y": [
          "Overturned"
         ],
         "yaxis": "y"
        }
       ],
       "layout": {
        "bargap": 0.3,
        "barmode": "relative",
        "font": {
         "color": "#333",
         "family": "Helvetica Neue",
         "size": 14
        },
        "legend": {
         "title": {
          "text": "Finish"
         },
         "tracegroupgap": 0
        },
        "paper_bgcolor": "white",
        "plot_bgcolor": "white",
        "showlegend": false,
        "template": {
         "data": {
          "bar": [
           {
            "error_x": {
             "color": "#2a3f5f"
            },
            "error_y": {
             "color": "#2a3f5f"
            },
            "marker": {
             "line": {
              "color": "#E5ECF6",
              "width": 0.5
             },
             "pattern": {
              "fillmode": "overlay",
              "size": 10,
              "solidity": 0.2
             }
            },
            "type": "bar"
           }
          ],
          "barpolar": [
           {
            "marker": {
             "line": {
              "color": "#E5ECF6",
              "width": 0.5
             },
             "pattern": {
              "fillmode": "overlay",
              "size": 10,
              "solidity": 0.2
             }
            },
            "type": "barpolar"
           }
          ],
          "carpet": [
           {
            "aaxis": {
             "endlinecolor": "#2a3f5f",
             "gridcolor": "white",
             "linecolor": "white",
             "minorgridcolor": "white",
             "startlinecolor": "#2a3f5f"
            },
            "baxis": {
             "endlinecolor": "#2a3f5f",
             "gridcolor": "white",
             "linecolor": "white",
             "minorgridcolor": "white",
             "startlinecolor": "#2a3f5f"
            },
            "type": "carpet"
           }
          ],
          "choropleth": [
           {
            "colorbar": {
             "outlinewidth": 0,
             "ticks": ""
            },
            "type": "choropleth"
           }
          ],
          "contour": [
           {
            "colorbar": {
             "outlinewidth": 0,
             "ticks": ""
            },
            "colorscale": [
             [
              0,
              "#0d0887"
             ],
             [
              0.1111111111111111,
              "#46039f"
             ],
             [
              0.2222222222222222,
              "#7201a8"
             ],
             [
              0.3333333333333333,
              "#9c179e"
             ],
             [
              0.4444444444444444,
              "#bd3786"
             ],
             [
              0.5555555555555556,
              "#d8576b"
             ],
             [
              0.6666666666666666,
              "#ed7953"
             ],
             [
              0.7777777777777778,
              "#fb9f3a"
             ],
             [
              0.8888888888888888,
              "#fdca26"
             ],
             [
              1,
              "#f0f921"
             ]
            ],
            "type": "contour"
           }
          ],
          "contourcarpet": [
           {
            "colorbar": {
             "outlinewidth": 0,
             "ticks": ""
            },
            "type": "contourcarpet"
           }
          ],
          "heatmap": [
           {
            "colorbar": {
             "outlinewidth": 0,
             "ticks": ""
            },
            "colorscale": [
             [
              0,
              "#0d0887"
             ],
             [
              0.1111111111111111,
              "#46039f"
             ],
             [
              0.2222222222222222,
              "#7201a8"
             ],
             [
              0.3333333333333333,
              "#9c179e"
             ],
             [
              0.4444444444444444,
              "#bd3786"
             ],
             [
              0.5555555555555556,
              "#d8576b"
             ],
             [
              0.6666666666666666,
              "#ed7953"
             ],
             [
              0.7777777777777778,
              "#fb9f3a"
             ],
             [
              0.8888888888888888,
              "#fdca26"
             ],
             [
              1,
              "#f0f921"
             ]
            ],
            "type": "heatmap"
           }
          ],
          "histogram": [
           {
            "marker": {
             "pattern": {
              "fillmode": "overlay",
              "size": 10,
              "solidity": 0.2
             }
            },
            "type": "histogram"
           }
          ],
          "histogram2d": [
           {
            "colorbar": {
             "outlinewidth": 0,
             "ticks": ""
            },
            "colorscale": [
             [
              0,
              "#0d0887"
             ],
             [
              0.1111111111111111,
              "#46039f"
             ],
             [
              0.2222222222222222,
              "#7201a8"
             ],
             [
              0.3333333333333333,
              "#9c179e"
             ],
             [
              0.4444444444444444,
              "#bd3786"
             ],
             [
              0.5555555555555556,
              "#d8576b"
             ],
             [
              0.6666666666666666,
              "#ed7953"
             ],
             [
              0.7777777777777778,
              "#fb9f3a"
             ],
             [
              0.8888888888888888,
              "#fdca26"
             ],
             [
              1,
              "#f0f921"
             ]
            ],
            "type": "histogram2d"
           }
          ],
          "histogram2dcontour": [
           {
            "colorbar": {
             "outlinewidth": 0,
             "ticks": ""
            },
            "colorscale": [
             [
              0,
              "#0d0887"
             ],
             [
              0.1111111111111111,
              "#46039f"
             ],
             [
              0.2222222222222222,
              "#7201a8"
             ],
             [
              0.3333333333333333,
              "#9c179e"
             ],
             [
              0.4444444444444444,
              "#bd3786"
             ],
             [
              0.5555555555555556,
              "#d8576b"
             ],
             [
              0.6666666666666666,
              "#ed7953"
             ],
             [
              0.7777777777777778,
              "#fb9f3a"
             ],
             [
              0.8888888888888888,
              "#fdca26"
             ],
             [
              1,
              "#f0f921"
             ]
            ],
            "type": "histogram2dcontour"
           }
          ],
          "mesh3d": [
           {
            "colorbar": {
             "outlinewidth": 0,
             "ticks": ""
            },
            "type": "mesh3d"
           }
          ],
          "parcoords": [
           {
            "line": {
             "colorbar": {
              "outlinewidth": 0,
              "ticks": ""
             }
            },
            "type": "parcoords"
           }
          ],
          "pie": [
           {
            "automargin": true,
            "type": "pie"
           }
          ],
          "scatter": [
           {
            "fillpattern": {
             "fillmode": "overlay",
             "size": 10,
             "solidity": 0.2
            },
            "type": "scatter"
           }
          ],
          "scatter3d": [
           {
            "line": {
             "colorbar": {
              "outlinewidth": 0,
              "ticks": ""
             }
            },
            "marker": {
             "colorbar": {
              "outlinewidth": 0,
              "ticks": ""
             }
            },
            "type": "scatter3d"
           }
          ],
          "scattercarpet": [
           {
            "marker": {
             "colorbar": {
              "outlinewidth": 0,
              "ticks": ""
             }
            },
            "type": "scattercarpet"
           }
          ],
          "scattergeo": [
           {
            "marker": {
             "colorbar": {
              "outlinewidth": 0,
              "ticks": ""
             }
            },
            "type": "scattergeo"
           }
          ],
          "scattergl": [
           {
            "marker": {
             "colorbar": {
              "outlinewidth": 0,
              "ticks": ""
             }
            },
            "type": "scattergl"
           }
          ],
          "scattermap": [
           {
            "marker": {
             "colorbar": {
              "outlinewidth": 0,
              "ticks": ""
             }
            },
            "type": "scattermap"
           }
          ],
          "scattermapbox": [
           {
            "marker": {
             "colorbar": {
              "outlinewidth": 0,
              "ticks": ""
             }
            },
            "type": "scattermapbox"
           }
          ],
          "scatterpolar": [
           {
            "marker": {
             "colorbar": {
              "outlinewidth": 0,
              "ticks": ""
             }
            },
            "type": "scatterpolar"
           }
          ],
          "scatterpolargl": [
           {
            "marker": {
             "colorbar": {
              "outlinewidth": 0,
              "ticks": ""
             }
            },
            "type": "scatterpolargl"
           }
          ],
          "scatterternary": [
           {
            "marker": {
             "colorbar": {
              "outlinewidth": 0,
              "ticks": ""
             }
            },
            "type": "scatterternary"
           }
          ],
          "surface": [
           {
            "colorbar": {
             "outlinewidth": 0,
             "ticks": ""
            },
            "colorscale": [
             [
              0,
              "#0d0887"
             ],
             [
              0.1111111111111111,
              "#46039f"
             ],
             [
              0.2222222222222222,
              "#7201a8"
             ],
             [
              0.3333333333333333,
              "#9c179e"
             ],
             [
              0.4444444444444444,
              "#bd3786"
             ],
             [
              0.5555555555555556,
              "#d8576b"
             ],
             [
              0.6666666666666666,
              "#ed7953"
             ],
             [
              0.7777777777777778,
              "#fb9f3a"
             ],
             [
              0.8888888888888888,
              "#fdca26"
             ],
             [
              1,
              "#f0f921"
             ]
            ],
            "type": "surface"
           }
          ],
          "table": [
           {
            "cells": {
             "fill": {
              "color": "#EBF0F8"
             },
             "line": {
              "color": "white"
             }
            },
            "header": {
             "fill": {
              "color": "#C8D4E3"
             },
             "line": {
              "color": "white"
             }
            },
            "type": "table"
           }
          ]
         },
         "layout": {
          "annotationdefaults": {
           "arrowcolor": "#2a3f5f",
           "arrowhead": 0,
           "arrowwidth": 1
          },
          "autotypenumbers": "strict",
          "coloraxis": {
           "colorbar": {
            "outlinewidth": 0,
            "ticks": ""
           }
          },
          "colorscale": {
           "diverging": [
            [
             0,
             "#8e0152"
            ],
            [
             0.1,
             "#c51b7d"
            ],
            [
             0.2,
             "#de77ae"
            ],
            [
             0.3,
             "#f1b6da"
            ],
            [
             0.4,
             "#fde0ef"
            ],
            [
             0.5,
             "#f7f7f7"
            ],
            [
             0.6,
             "#e6f5d0"
            ],
            [
             0.7,
             "#b8e186"
            ],
            [
             0.8,
             "#7fbc41"
            ],
            [
             0.9,
             "#4d9221"
            ],
            [
             1,
             "#276419"
            ]
           ],
           "sequential": [
            [
             0,
             "#0d0887"
            ],
            [
             0.1111111111111111,
             "#46039f"
            ],
            [
             0.2222222222222222,
             "#7201a8"
            ],
            [
             0.3333333333333333,
             "#9c179e"
            ],
            [
             0.4444444444444444,
             "#bd3786"
            ],
            [
             0.5555555555555556,
             "#d8576b"
            ],
            [
             0.6666666666666666,
             "#ed7953"
            ],
            [
             0.7777777777777778,
             "#fb9f3a"
            ],
            [
             0.8888888888888888,
             "#fdca26"
            ],
            [
             1,
             "#f0f921"
            ]
           ],
           "sequentialminus": [
            [
             0,
             "#0d0887"
            ],
            [
             0.1111111111111111,
             "#46039f"
            ],
            [
             0.2222222222222222,
             "#7201a8"
            ],
            [
             0.3333333333333333,
             "#9c179e"
            ],
            [
             0.4444444444444444,
             "#bd3786"
            ],
            [
             0.5555555555555556,
             "#d8576b"
            ],
            [
             0.6666666666666666,
             "#ed7953"
            ],
            [
             0.7777777777777778,
             "#fb9f3a"
            ],
            [
             0.8888888888888888,
             "#fdca26"
            ],
            [
             1,
             "#f0f921"
            ]
           ]
          },
          "colorway": [
           "#636efa",
           "#EF553B",
           "#00cc96",
           "#ab63fa",
           "#FFA15A",
           "#19d3f3",
           "#FF6692",
           "#B6E880",
           "#FF97FF",
           "#FECB52"
          ],
          "font": {
           "color": "#2a3f5f"
          },
          "geo": {
           "bgcolor": "white",
           "lakecolor": "white",
           "landcolor": "#E5ECF6",
           "showlakes": true,
           "showland": true,
           "subunitcolor": "white"
          },
          "hoverlabel": {
           "align": "left"
          },
          "hovermode": "closest",
          "mapbox": {
           "style": "light"
          },
          "paper_bgcolor": "white",
          "plot_bgcolor": "#E5ECF6",
          "polar": {
           "angularaxis": {
            "gridcolor": "white",
            "linecolor": "white",
            "ticks": ""
           },
           "bgcolor": "#E5ECF6",
           "radialaxis": {
            "gridcolor": "white",
            "linecolor": "white",
            "ticks": ""
           }
          },
          "scene": {
           "xaxis": {
            "backgroundcolor": "#E5ECF6",
            "gridcolor": "white",
            "gridwidth": 2,
            "linecolor": "white",
            "showbackground": true,
            "ticks": "",
            "zerolinecolor": "white"
           },
           "yaxis": {
            "backgroundcolor": "#E5ECF6",
            "gridcolor": "white",
            "gridwidth": 2,
            "linecolor": "white",
            "showbackground": true,
            "ticks": "",
            "zerolinecolor": "white"
           },
           "zaxis": {
            "backgroundcolor": "#E5ECF6",
            "gridcolor": "white",
            "gridwidth": 2,
            "linecolor": "white",
            "showbackground": true,
            "ticks": "",
            "zerolinecolor": "white"
           }
          },
          "shapedefaults": {
           "line": {
            "color": "#2a3f5f"
           }
          },
          "ternary": {
           "aaxis": {
            "gridcolor": "white",
            "linecolor": "white",
            "ticks": ""
           },
           "baxis": {
            "gridcolor": "white",
            "linecolor": "white",
            "ticks": ""
           },
           "bgcolor": "#E5ECF6",
           "caxis": {
            "gridcolor": "white",
            "linecolor": "white",
            "ticks": ""
           }
          },
          "title": {
           "x": 0.05
          },
          "xaxis": {
           "automargin": true,
           "gridcolor": "white",
           "linecolor": "white",
           "ticks": "",
           "title": {
            "standoff": 15
           },
           "zerolinecolor": "white",
           "zerolinewidth": 2
          },
          "yaxis": {
           "automargin": true,
           "gridcolor": "white",
           "linecolor": "white",
           "ticks": "",
           "title": {
            "standoff": 15
           },
           "zerolinecolor": "white",
           "zerolinewidth": 2
          }
         }
        },
        "title": {
         "text": "Fight Finish Types",
         "x": 0.05
        },
        "xaxis": {
         "anchor": "y",
         "domain": [
          0,
          1
         ],
         "gridcolor": "rgba(0,0,0,0.05)",
         "title": {
          "text": "count"
         }
        },
        "yaxis": {
         "anchor": "x",
         "categoryarray": [
          "Overturned",
          "DQ",
          "M-DEC",
          "S-DEC",
          "SUB",
          "KO/TKO",
          "U-DEC"
         ],
         "categoryorder": "array",
         "domain": [
          0,
          1
         ],
         "title": {
          "text": ""
         }
        }
       }
      },
      "image/png": "[encoded data removed]"
     },
     "metadata": {},
     "output_type": "display_data"
    }
   ],
   "source": [
    "finish_counts = ufc['Finish'].value_counts().reset_index()\n",
    "finish_counts.columns = ['Finish', 'Count']\n",
    "\n",
    "fig = px.bar(finish_counts, x = 'Count', y = 'Finish', orientation = 'h',\n",
    "             color = 'Finish', color_discrete_sequence = px.colors.qualitative.Pastel,\n",
    "             title = 'Fight Finish Types')\n",
    "\n",
    "fig.update_layout(plot_bgcolor = 'white', paper_bgcolor = 'white',\n",
    "                  font = dict(family = \"Helvetica Neue\", size = 14, color = \"#333\"),\n",
    "                  xaxis = dict(title = 'count', gridcolor = 'rgba(0,0,0,0.05)'),\n",
    "                  yaxis = dict(title = ''), title_x = 0.05, showlegend = False, bargap = 0.3)\n",
    "\n",
    "fig.update_traces(marker_line_width = 0.5, marker_line_color = 'rgba(0,0,0,0.1)')\n",
    "fig.show()"
   ]
  },
  {
   "cell_type": "code",
   "execution_count": 86,
   "id": "d998fc58-dc1f-4e6f-987f-b6339069c28c",
   "metadata": {},
   "outputs": [
    {
     "data": {
      "application/vnd.plotly.v1+json": {
       "config": {
        "plotlyServerURL": "https://plot.ly"
       },
       "data": [
        {
         "hovertemplate": "Finish Type=%{x}<br>Number of Fights=%{text}<extra></extra>",
         "legendgroup": "",
         "marker": {
          "color": "#636efa",
          "pattern": {
           "shape": ""
          }
         },
         "name": "",
         "orientation": "v",
         "showlegend": false,
         "text": {
          "bdata": "AAAAAAAohUAAAAAAANiEQAAAAAAA0HxAAAAAAACgaEAAAAAAAEBjQAAAAAAAgF1AAAAAAADAWEAAAAAAAABYQAAAAAAAAFVAAAAAAACAS0AAAAAAAIBCQAAAAAAAAEFAAAAAAAAAOUAAAAAAAAA5QAAAAAAAADZAAAAAAAAANkAAAAAAAAAxQAAAAAAAACxAAAAAAAAAKEAAAAAAAAAmQAAAAAAAACJAAAAAAAAAIEAAAAAAAAAgQAAAAAAAABhAAAAAAAAAFEAAAAAAAAAUQAAAAAAAABBAAAAAAAAAEEAAAAAAAAAIQAAAAAAAAABAAAAAAAAAAEAAAAAAAAAAQAAAAAAAAPA/AAAAAAAA8D8AAAAAAADwPwAAAAAAAPA/AAAAAAAA8D8AAAAAAADwPwAAAAAAAPA/",
          "dtype": "f8"
         },
         "textposition": "outside",
         "type": "bar",
         "x": [
          "Punch",
          "Punches",
          "Rear Naked Choke",
          "Guillotine Choke",
          "Kick",
          "Armbar",
          "Arm Triangle",
          "Elbows",
          "Knee",
          "Triangle Choke",
          "D'Arce Choke",
          "Elbow",
          "Kimura",
          "Flying Knee",
          "Knees",
          "Anaconda Choke",
          "Kneebar",
          "Other - Choke",
          "Heel Hook",
          "Neck Crank",
          "Spinning Back Fist",
          "Spinning Back Kick",
          "Slam",
          "Other - Lock",
          "Spinning Back Elbow",
          "Triangle Armbar",
          "Kicks",
          "North-South Choke",
          "Injury",
          "Inverted Triangle",
          "Keylock",
          "Omoplata",
          "Ezekiel Choke",
          "Twister",
          "Von Flue Choke",
          "Scarf Hold",
          "Straight Armbar",
          "Ankle Lock",
          "Peruvian Necktie"
         ],
         "xaxis": "x",
         "y": {
          "bdata": "pQKbAs0BxQCaAHYAYwBgAFQANwAlACIAGQAZABYAFgARAA4ADAALAAkACAAIAAYABQAFAAQABAADAAIAAgACAAEAAQABAAEAAQABAAEA",
          "dtype": "i2"
         },
         "yaxis": "y"
        }
       ],
       "layout": {
        "barmode": "relative",
        "font": {
         "color": "#333",
         "family": "Helvetica Neue",
         "size": 14
        },
        "height": 500,
        "legend": {
         "tracegroupgap": 0
        },
        "paper_bgcolor": "white",
        "plot_bgcolor": "white",
        "template": {
         "data": {
          "bar": [
           {
            "error_x": {
             "color": "#2a3f5f"
            },
            "error_y": {
             "color": "#2a3f5f"
            },
            "marker": {
             "line": {
              "color": "#E5ECF6",
              "width": 0.5
             },
             "pattern": {
              "fillmode": "overlay",
              "size": 10,
              "solidity": 0.2
             }
            },
            "type": "bar"
           }
          ],
          "barpolar": [
           {
            "marker": {
             "line": {
              "color": "#E5ECF6",
              "width": 0.5
             },
             "pattern": {
              "fillmode": "overlay",
              "size": 10,
              "solidity": 0.2
             }
            },
            "type": "barpolar"
           }
          ],
          "carpet": [
           {
            "aaxis": {
             "endlinecolor": "#2a3f5f",
             "gridcolor": "white",
             "linecolor": "white",
             "minorgridcolor": "white",
             "startlinecolor": "#2a3f5f"
            },
            "baxis": {
             "endlinecolor": "#2a3f5f",
             "gridcolor": "white",
             "linecolor": "white",
             "minorgridcolor": "white",
             "startlinecolor": "#2a3f5f"
            },
            "type": "carpet"
           }
          ],
          "choropleth": [
           {
            "colorbar": {
             "outlinewidth": 0,
             "ticks": ""
            },
            "type": "choropleth"
           }
          ],
          "contour": [
           {
            "colorbar": {
             "outlinewidth": 0,
             "ticks": ""
            },
            "colorscale": [
             [
              0,
              "#0d0887"
             ],
             [
              0.1111111111111111,
              "#46039f"
             ],
             [
              0.2222222222222222,
              "#7201a8"
             ],
             [
              0.3333333333333333,
              "#9c179e"
             ],
             [
              0.4444444444444444,
              "#bd3786"
             ],
             [
              0.5555555555555556,
              "#d8576b"
             ],
             [
              0.6666666666666666,
              "#ed7953"
             ],
             [
              0.7777777777777778,
              "#fb9f3a"
             ],
             [
              0.8888888888888888,
              "#fdca26"
             ],
             [
              1,
              "#f0f921"
             ]
            ],
            "type": "contour"
           }
          ],
          "contourcarpet": [
           {
            "colorbar": {
             "outlinewidth": 0,
             "ticks": ""
            },
            "type": "contourcarpet"
           }
          ],
          "heatmap": [
           {
            "colorbar": {
             "outlinewidth": 0,
             "ticks": ""
            },
            "colorscale": [
             [
              0,
              "#0d0887"
             ],
             [
              0.1111111111111111,
              "#46039f"
             ],
             [
              0.2222222222222222,
              "#7201a8"
             ],
             [
              0.3333333333333333,
              "#9c179e"
             ],
             [
              0.4444444444444444,
              "#bd3786"
             ],
             [
              0.5555555555555556,
              "#d8576b"
             ],
             [
              0.6666666666666666,
              "#ed7953"
             ],
             [
              0.7777777777777778,
              "#fb9f3a"
             ],
             [
              0.8888888888888888,
              "#fdca26"
             ],
             [
              1,
              "#f0f921"
             ]
            ],
            "type": "heatmap"
           }
          ],
          "histogram": [
           {
            "marker": {
             "pattern": {
              "fillmode": "overlay",
              "size": 10,
              "solidity": 0.2
             }
            },
            "type": "histogram"
           }
          ],
          "histogram2d": [
           {
            "colorbar": {
             "outlinewidth": 0,
             "ticks": ""
            },
            "colorscale": [
             [
              0,
              "#0d0887"
             ],
             [
              0.1111111111111111,
              "#46039f"
             ],
             [
              0.2222222222222222,
              "#7201a8"
             ],
             [
              0.3333333333333333,
              "#9c179e"
             ],
             [
              0.4444444444444444,
              "#bd3786"
             ],
             [
              0.5555555555555556,
              "#d8576b"
             ],
             [
              0.6666666666666666,
              "#ed7953"
             ],
             [
              0.7777777777777778,
              "#fb9f3a"
             ],
             [
              0.8888888888888888,
              "#fdca26"
             ],
             [
              1,
              "#f0f921"
             ]
            ],
            "type": "histogram2d"
           }
          ],
          "histogram2dcontour": [
           {
            "colorbar": {
             "outlinewidth": 0,
             "ticks": ""
            },
            "colorscale": [
             [
              0,
              "#0d0887"
             ],
             [
              0.1111111111111111,
              "#46039f"
             ],
             [
              0.2222222222222222,
              "#7201a8"
             ],
             [
              0.3333333333333333,
              "#9c179e"
             ],
             [
              0.4444444444444444,
              "#bd3786"
             ],
             [
              0.5555555555555556,
              "#d8576b"
             ],
             [
              0.6666666666666666,
              "#ed7953"
             ],
             [
              0.7777777777777778,
              "#fb9f3a"
             ],
             [
              0.8888888888888888,
              "#fdca26"
             ],
             [
              1,
              "#f0f921"
             ]
            ],
            "type": "histogram2dcontour"
           }
          ],
          "mesh3d": [
           {
            "colorbar": {
             "outlinewidth": 0,
             "ticks": ""
            },
            "type": "mesh3d"
           }
          ],
          "parcoords": [
           {
            "line": {
             "colorbar": {
              "outlinewidth": 0,
              "ticks": ""
             }
            },
            "type": "parcoords"
           }
          ],
          "pie": [
           {
            "automargin": true,
            "type": "pie"
           }
          ],
          "scatter": [
           {
            "fillpattern": {
             "fillmode": "overlay",
             "size": 10,
             "solidity": 0.2
            },
            "type": "scatter"
           }
          ],
          "scatter3d": [
           {
            "line": {
             "colorbar": {
              "outlinewidth": 0,
              "ticks": ""
             }
            },
            "marker": {
             "colorbar": {
              "outlinewidth": 0,
              "ticks": ""
             }
            },
            "type": "scatter3d"
           }
          ],
          "scattercarpet": [
           {
            "marker": {
             "colorbar": {
              "outlinewidth": 0,
              "ticks": ""
             }
            },
            "type": "scattercarpet"
           }
          ],
          "scattergeo": [
           {
            "marker": {
             "colorbar": {
              "outlinewidth": 0,
              "ticks": ""
             }
            },
            "type": "scattergeo"
           }
          ],
          "scattergl": [
           {
            "marker": {
             "colorbar": {
              "outlinewidth": 0,
              "ticks": ""
             }
            },
            "type": "scattergl"
           }
          ],
          "scattermap": [
           {
            "marker": {
             "colorbar": {
              "outlinewidth": 0,
              "ticks": ""
             }
            },
            "type": "scattermap"
           }
          ],
          "scattermapbox": [
           {
            "marker": {
             "colorbar": {
              "outlinewidth": 0,
              "ticks": ""
             }
            },
            "type": "scattermapbox"
           }
          ],
          "scatterpolar": [
           {
            "marker": {
             "colorbar": {
              "outlinewidth": 0,
              "ticks": ""
             }
            },
            "type": "scatterpolar"
           }
          ],
          "scatterpolargl": [
           {
            "marker": {
             "colorbar": {
              "outlinewidth": 0,
              "ticks": ""
             }
            },
            "type": "scatterpolargl"
           }
          ],
          "scatterternary": [
           {
            "marker": {
             "colorbar": {
              "outlinewidth": 0,
              "ticks": ""
             }
            },
            "type": "scatterternary"
           }
          ],
          "surface": [
           {
            "colorbar": {
             "outlinewidth": 0,
             "ticks": ""
            },
            "colorscale": [
             [
              0,
              "#0d0887"
             ],
             [
              0.1111111111111111,
              "#46039f"
             ],
             [
              0.2222222222222222,
              "#7201a8"
             ],
             [
              0.3333333333333333,
              "#9c179e"
             ],
             [
              0.4444444444444444,
              "#bd3786"
             ],
             [
              0.5555555555555556,
              "#d8576b"
             ],
             [
              0.6666666666666666,
              "#ed7953"
             ],
             [
              0.7777777777777778,
              "#fb9f3a"
             ],
             [
              0.8888888888888888,
              "#fdca26"
             ],
             [
              1,
              "#f0f921"
             ]
            ],
            "type": "surface"
           }
          ],
          "table": [
           {
            "cells": {
             "fill": {
              "color": "#EBF0F8"
             },
             "line": {
              "color": "white"
             }
            },
            "header": {
             "fill": {
              "color": "#C8D4E3"
             },
             "line": {
              "color": "white"
             }
            },
            "type": "table"
           }
          ]
         },
         "layout": {
          "annotationdefaults": {
           "arrowcolor": "#2a3f5f",
           "arrowhead": 0,
           "arrowwidth": 1
          },
          "autotypenumbers": "strict",
          "coloraxis": {
           "colorbar": {
            "outlinewidth": 0,
            "ticks": ""
           }
          },
          "colorscale": {
           "diverging": [
            [
             0,
             "#8e0152"
            ],
            [
             0.1,
             "#c51b7d"
            ],
            [
             0.2,
             "#de77ae"
            ],
            [
             0.3,
             "#f1b6da"
            ],
            [
             0.4,
             "#fde0ef"
            ],
            [
             0.5,
             "#f7f7f7"
            ],
            [
             0.6,
             "#e6f5d0"
            ],
            [
             0.7,
             "#b8e186"
            ],
            [
             0.8,
             "#7fbc41"
            ],
            [
             0.9,
             "#4d9221"
            ],
            [
             1,
             "#276419"
            ]
           ],
           "sequential": [
            [
             0,
             "#0d0887"
            ],
            [
             0.1111111111111111,
             "#46039f"
            ],
            [
             0.2222222222222222,
             "#7201a8"
            ],
            [
             0.3333333333333333,
             "#9c179e"
            ],
            [
             0.4444444444444444,
             "#bd3786"
            ],
            [
             0.5555555555555556,
             "#d8576b"
            ],
            [
             0.6666666666666666,
             "#ed7953"
            ],
            [
             0.7777777777777778,
             "#fb9f3a"
            ],
            [
             0.8888888888888888,
             "#fdca26"
            ],
            [
             1,
             "#f0f921"
            ]
           ],
           "sequentialminus": [
            [
             0,
             "#0d0887"
            ],
            [
             0.1111111111111111,
             "#46039f"
            ],
            [
             0.2222222222222222,
             "#7201a8"
            ],
            [
             0.3333333333333333,
             "#9c179e"
            ],
            [
             0.4444444444444444,
             "#bd3786"
            ],
            [
             0.5555555555555556,
             "#d8576b"
            ],
            [
             0.6666666666666666,
             "#ed7953"
            ],
            [
             0.7777777777777778,
             "#fb9f3a"
            ],
            [
             0.8888888888888888,
             "#fdca26"
            ],
            [
             1,
             "#f0f921"
            ]
           ]
          },
          "colorway": [
           "#636efa",
           "#EF553B",
           "#00cc96",
           "#ab63fa",
           "#FFA15A",
           "#19d3f3",
           "#FF6692",
           "#B6E880",
           "#FF97FF",
           "#FECB52"
          ],
          "font": {
           "color": "#2a3f5f"
          },
          "geo": {
           "bgcolor": "white",
           "lakecolor": "white",
           "landcolor": "#E5ECF6",
           "showlakes": true,
           "showland": true,
           "subunitcolor": "white"
          },
          "hoverlabel": {
           "align": "left"
          },
          "hovermode": "closest",
          "mapbox": {
           "style": "light"
          },
          "paper_bgcolor": "white",
          "plot_bgcolor": "#E5ECF6",
          "polar": {
           "angularaxis": {
            "gridcolor": "white",
            "linecolor": "white",
            "ticks": ""
           },
           "bgcolor": "#E5ECF6",
           "radialaxis": {
            "gridcolor": "white",
            "linecolor": "white",
            "ticks": ""
           }
          },
          "scene": {
           "xaxis": {
            "backgroundcolor": "#E5ECF6",
            "gridcolor": "white",
            "gridwidth": 2,
            "linecolor": "white",
            "showbackground": true,
            "ticks": "",
            "zerolinecolor": "white"
           },
           "yaxis": {
            "backgroundcolor": "#E5ECF6",
            "gridcolor": "white",
            "gridwidth": 2,
            "linecolor": "white",
            "showbackground": true,
            "ticks": "",
            "zerolinecolor": "white"
           },
           "zaxis": {
            "backgroundcolor": "#E5ECF6",
            "gridcolor": "white",
            "gridwidth": 2,
            "linecolor": "white",
            "showbackground": true,
            "ticks": "",
            "zerolinecolor": "white"
           }
          },
          "shapedefaults": {
           "line": {
            "color": "#2a3f5f"
           }
          },
          "ternary": {
           "aaxis": {
            "gridcolor": "white",
            "linecolor": "white",
            "ticks": ""
           },
           "baxis": {
            "gridcolor": "white",
            "linecolor": "white",
            "ticks": ""
           },
           "bgcolor": "#E5ECF6",
           "caxis": {
            "gridcolor": "white",
            "linecolor": "white",
            "ticks": ""
           }
          },
          "title": {
           "x": 0.05
          },
          "xaxis": {
           "automargin": true,
           "gridcolor": "white",
           "linecolor": "white",
           "ticks": "",
           "title": {
            "standoff": 15
           },
           "zerolinecolor": "white",
           "zerolinewidth": 2
          },
          "yaxis": {
           "automargin": true,
           "gridcolor": "white",
           "linecolor": "white",
           "ticks": "",
           "title": {
            "standoff": 15
           },
           "zerolinecolor": "white",
           "zerolinewidth": 2
          }
         }
        },
        "title": {
         "text": "Distribution of Fight Finish Types",
         "x": 0.05
        },
        "width": 900,
        "xaxis": {
         "anchor": "y",
         "domain": [
          0,
          1
         ],
         "tickangle": -45,
         "title": {
          "text": "Finish Type"
         }
        },
        "yaxis": {
         "anchor": "x",
         "domain": [
          0,
          1
         ],
         "title": {
          "text": "Number of Fights"
         }
        }
       }
      },
      "image/png": "[encoded data removed]"
     },
     "metadata": {},
     "output_type": "display_data"
    }
   ],
   "source": [
    "finish_counts = ufc['FinishDetails'].value_counts().reset_index()\n",
    "finish_counts.columns = ['Finish Type', 'Count']\n",
    "\n",
    "fig = px.bar(finish_counts, x = 'Finish Type', y = 'Count',\n",
    "             title = 'Distribution of Fight Finish Types',\n",
    "             labels = {'Finish Type': 'Finish Type', 'Count': 'Number of Fights'}, text = 'Count')\n",
    "\n",
    "fig.update_traces(textposition = 'outside')\n",
    "fig.update_layout(xaxis_tickangle = -45, plot_bgcolor = 'white', paper_bgcolor = 'white',\n",
    "                  font = dict(family = 'Helvetica Neue', size = 14, color = '#333'), \n",
    "                  width = 900, height = 500, title_x = 0.05)\n",
    "fig.show()"
   ]
  },
  {
   "cell_type": "code",
   "execution_count": 38,
   "id": "dc684cf9-3850-4eba-a739-38eebeb4aa79",
   "metadata": {},
   "outputs": [
    {
     "data": {
      "application/vnd.plotly.v1+json": {
       "config": {
        "plotlyServerURL": "https://plot.ly"
       },
       "data": [
        {
         "hovertemplate": "WeightClass=%{y}<br>Count=%{x}<extra></extra>",
         "legendgroup": "Lightweight",
         "marker": {
          "color": "rgb(102, 197, 204)",
          "line": {
           "color": "rgba(0,0,0,0.1)",
           "width": 0.5
          },
          "pattern": {
           "shape": ""
          }
         },
         "name": "Lightweight",
         "orientation": "h",
         "showlegend": true,
         "textposition": "auto",
         "type": "bar",
         "x": {
          "bdata": "MgQ=",
          "dtype": "i2"
         },
         "xaxis": "x",
         "y": [
          "Lightweight"
         ],
         "yaxis": "y"
        },
        {
         "hovertemplate": "WeightClass=%{y}<br>Count=%{x}<extra></extra>",
         "legendgroup": "Welterweight",
         "marker": {
          "color": "rgb(246, 207, 113)",
          "line": {
           "color": "rgba(0,0,0,0.1)",
           "width": 0.5
          },
          "pattern": {
           "shape": ""
          }
         },
         "name": "Welterweight",
         "orientation": "h",
         "showlegend": true,
         "textposition": "auto",
         "type": "bar",
         "x": {
          "bdata": "AgQ=",
          "dtype": "i2"
         },
         "xaxis": "x",
         "y": [
          "Welterweight"
         ],
         "yaxis": "y"
        },
        {
         "hovertemplate": "WeightClass=%{y}<br>Count=%{x}<extra></extra>",
         "legendgroup": "Middleweight",
         "marker": {
          "color": "rgb(248, 156, 116)",
          "line": {
           "color": "rgba(0,0,0,0.1)",
           "width": 0.5
          },
          "pattern": {
           "shape": ""
          }
         },
         "name": "Middleweight",
         "orientation": "h",
         "showlegend": true,
         "textposition": "auto",
         "type": "bar",
         "x": {
          "bdata": "DwM=",
          "dtype": "i2"
         },
         "xaxis": "x",
         "y": [
          "Middleweight"
         ],
         "yaxis": "y"
        },
        {
         "hovertemplate": "WeightClass=%{y}<br>Count=%{x}<extra></extra>",
         "legendgroup": "Featherweight",
         "marker": {
          "color": "rgb(220, 176, 242)",
          "line": {
           "color": "rgba(0,0,0,0.1)",
           "width": 0.5
          },
          "pattern": {
           "shape": ""
          }
         },
         "name": "Featherweight",
         "orientation": "h",
         "showlegend": true,
         "textposition": "auto",
         "type": "bar",
         "x": {
          "bdata": "8gI=",
          "dtype": "i2"
         },
         "xaxis": "x",
         "y": [
          "Featherweight"
         ],
         "yaxis": "y"
        },
        {
         "hovertemplate": "WeightClass=%{y}<br>Count=%{x}<extra></extra>",
         "legendgroup": "Bantamweight",
         "marker": {
          "color": "rgb(135, 197, 95)",
          "line": {
           "color": "rgba(0,0,0,0.1)",
           "width": 0.5
          },
          "pattern": {
           "shape": ""
          }
         },
         "name": "Bantamweight",
         "orientation": "h",
         "showlegend": true,
         "textposition": "auto",
         "type": "bar",
         "x": {
          "bdata": "pwI=",
          "dtype": "i2"
         },
         "xaxis": "x",
         "y": [
          "Bantamweight"
         ],
         "yaxis": "y"
        },
        {
         "hovertemplate": "WeightClass=%{y}<br>Count=%{x}<extra></extra>",
         "legendgroup": "Light Heavyweight",
         "marker": {
          "color": "rgb(158, 185, 243)",
          "line": {
           "color": "rgba(0,0,0,0.1)",
           "width": 0.5
          },
          "pattern": {
           "shape": ""
          }
         },
         "name": "Light Heavyweight",
         "orientation": "h",
         "showlegend": true,
         "textposition": "auto",
         "type": "bar",
         "x": {
          "bdata": "9QE=",
          "dtype": "i2"
         },
         "xaxis": "x",
         "y": [
          "Light Heavyweight"
         ],
         "yaxis": "y"
        },
        {
         "hovertemplate": "WeightClass=%{y}<br>Count=%{x}<extra></extra>",
         "legendgroup": "Heavyweight",
         "marker": {
          "color": "rgb(254, 136, 177)",
          "line": {
           "color": "rgba(0,0,0,0.1)",
           "width": 0.5
          },
          "pattern": {
           "shape": ""
          }
         },
         "name": "Heavyweight",
         "orientation": "h",
         "showlegend": true,
         "textposition": "auto",
         "type": "bar",
         "x": {
          "bdata": "8AE=",
          "dtype": "i2"
         },
         "xaxis": "x",
         "y": [
          "Heavyweight"
         ],
         "yaxis": "y"
        },
        {
         "hovertemplate": "WeightClass=%{y}<br>Count=%{x}<extra></extra>",
         "legendgroup": "Flyweight",
         "marker": {
          "color": "rgb(201, 219, 116)",
          "line": {
           "color": "rgba(0,0,0,0.1)",
           "width": 0.5
          },
          "pattern": {
           "shape": ""
          }
         },
         "name": "Flyweight",
         "orientation": "h",
         "showlegend": true,
         "textposition": "auto",
         "type": "bar",
         "x": {
          "bdata": "YQE=",
          "dtype": "i2"
         },
         "xaxis": "x",
         "y": [
          "Flyweight"
         ],
         "yaxis": "y"
        },
        {
         "hovertemplate": "WeightClass=%{y}<br>Count=%{x}<extra></extra>",
         "legendgroup": "Women's Strawweight",
         "marker": {
          "color": "rgb(139, 224, 164)",
          "line": {
           "color": "rgba(0,0,0,0.1)",
           "width": 0.5
          },
          "pattern": {
           "shape": ""
          }
         },
         "name": "Women's Strawweight",
         "orientation": "h",
         "showlegend": true,
         "textposition": "auto",
         "type": "bar",
         "x": {
          "bdata": "QAE=",
          "dtype": "i2"
         },
         "xaxis": "x",
         "y": [
          "Women's Strawweight"
         ],
         "yaxis": "y"
        },
        {
         "hovertemplate": "WeightClass=%{y}<br>Count=%{x}<extra></extra>",
         "legendgroup": "Women's Flyweight",
         "marker": {
          "color": "rgb(180, 151, 231)",
          "line": {
           "color": "rgba(0,0,0,0.1)",
           "width": 0.5
          },
          "pattern": {
           "shape": ""
          }
         },
         "name": "Women's Flyweight",
         "orientation": "h",
         "showlegend": true,
         "textposition": "auto",
         "type": "bar",
         "x": {
          "bdata": "7wA=",
          "dtype": "i2"
         },
         "xaxis": "x",
         "y": [
          "Women's Flyweight"
         ],
         "yaxis": "y"
        },
        {
         "hovertemplate": "WeightClass=%{y}<br>Count=%{x}<extra></extra>",
         "legendgroup": "Women's Bantamweight",
         "marker": {
          "color": "rgb(179, 179, 179)",
          "line": {
           "color": "rgba(0,0,0,0.1)",
           "width": 0.5
          },
          "pattern": {
           "shape": ""
          }
         },
         "name": "Women's Bantamweight",
         "orientation": "h",
         "showlegend": true,
         "textposition": "auto",
         "type": "bar",
         "x": {
          "bdata": "1QA=",
          "dtype": "i2"
         },
         "xaxis": "x",
         "y": [
          "Women's Bantamweight"
         ],
         "yaxis": "y"
        },
        {
         "hovertemplate": "WeightClass=%{y}<br>Count=%{x}<extra></extra>",
         "legendgroup": "Catch Weight",
         "marker": {
          "color": "rgb(102, 197, 204)",
          "line": {
           "color": "rgba(0,0,0,0.1)",
           "width": 0.5
          },
          "pattern": {
           "shape": ""
          }
         },
         "name": "Catch Weight",
         "orientation": "h",
         "showlegend": true,
         "textposition": "auto",
         "type": "bar",
         "x": {
          "bdata": "PQ==",
          "dtype": "i1"
         },
         "xaxis": "x",
         "y": [
          "Catch Weight"
         ],
         "yaxis": "y"
        },
        {
         "hovertemplate": "WeightClass=%{y}<br>Count=%{x}<extra></extra>",
         "legendgroup": "Women's Featherweight",
         "marker": {
          "color": "rgb(246, 207, 113)",
          "line": {
           "color": "rgba(0,0,0,0.1)",
           "width": 0.5
          },
          "pattern": {
           "shape": ""
          }
         },
         "name": "Women's Featherweight",
         "orientation": "h",
         "showlegend": true,
         "textposition": "auto",
         "type": "bar",
         "x": {
          "bdata": "HQ==",
          "dtype": "i1"
         },
         "xaxis": "x",
         "y": [
          "Women's Featherweight"
         ],
         "yaxis": "y"
        }
       ],
       "layout": {
        "bargap": 0.3,
        "barmode": "relative",
        "font": {
         "color": "#333",
         "family": "Helvetica Neue",
         "size": 14
        },
        "height": 600,
        "legend": {
         "title": {
          "text": "WeightClass"
         },
         "tracegroupgap": 0
        },
        "paper_bgcolor": "white",
        "plot_bgcolor": "white",
        "showlegend": false,
        "template": {
         "data": {
          "bar": [
           {
            "error_x": {
             "color": "#2a3f5f"
            },
            "error_y": {
             "color": "#2a3f5f"
            },
            "marker": {
             "line": {
              "color": "#E5ECF6",
              "width": 0.5
             },
             "pattern": {
              "fillmode": "overlay",
              "size": 10,
              "solidity": 0.2
             }
            },
            "type": "bar"
           }
          ],
          "barpolar": [
           {
            "marker": {
             "line": {
              "color": "#E5ECF6",
              "width": 0.5
             },
             "pattern": {
              "fillmode": "overlay",
              "size": 10,
              "solidity": 0.2
             }
            },
            "type": "barpolar"
           }
          ],
          "carpet": [
           {
            "aaxis": {
             "endlinecolor": "#2a3f5f",
             "gridcolor": "white",
             "linecolor": "white",
             "minorgridcolor": "white",
             "startlinecolor": "#2a3f5f"
            },
            "baxis": {
             "endlinecolor": "#2a3f5f",
             "gridcolor": "white",
             "linecolor": "white",
             "minorgridcolor": "white",
             "startlinecolor": "#2a3f5f"
            },
            "type": "carpet"
           }
          ],
          "choropleth": [
           {
            "colorbar": {
             "outlinewidth": 0,
             "ticks": ""
            },
            "type": "choropleth"
           }
          ],
          "contour": [
           {
            "colorbar": {
             "outlinewidth": 0,
             "ticks": ""
            },
            "colorscale": [
             [
              0,
              "#0d0887"
             ],
             [
              0.1111111111111111,
              "#46039f"
             ],
             [
              0.2222222222222222,
              "#7201a8"
             ],
             [
              0.3333333333333333,
              "#9c179e"
             ],
             [
              0.4444444444444444,
              "#bd3786"
             ],
             [
              0.5555555555555556,
              "#d8576b"
             ],
             [
              0.6666666666666666,
              "#ed7953"
             ],
             [
              0.7777777777777778,
              "#fb9f3a"
             ],
             [
              0.8888888888888888,
              "#fdca26"
             ],
             [
              1,
              "#f0f921"
             ]
            ],
            "type": "contour"
           }
          ],
          "contourcarpet": [
           {
            "colorbar": {
             "outlinewidth": 0,
             "ticks": ""
            },
            "type": "contourcarpet"
           }
          ],
          "heatmap": [
           {
            "colorbar": {
             "outlinewidth": 0,
             "ticks": ""
            },
            "colorscale": [
             [
              0,
              "#0d0887"
             ],
             [
              0.1111111111111111,
              "#46039f"
             ],
             [
              0.2222222222222222,
              "#7201a8"
             ],
             [
              0.3333333333333333,
              "#9c179e"
             ],
             [
              0.4444444444444444,
              "#bd3786"
             ],
             [
              0.5555555555555556,
              "#d8576b"
             ],
             [
              0.6666666666666666,
              "#ed7953"
             ],
             [
              0.7777777777777778,
              "#fb9f3a"
             ],
             [
              0.8888888888888888,
              "#fdca26"
             ],
             [
              1,
              "#f0f921"
             ]
            ],
            "type": "heatmap"
           }
          ],
          "histogram": [
           {
            "marker": {
             "pattern": {
              "fillmode": "overlay",
              "size": 10,
              "solidity": 0.2
             }
            },
            "type": "histogram"
           }
          ],
          "histogram2d": [
           {
            "colorbar": {
             "outlinewidth": 0,
             "ticks": ""
            },
            "colorscale": [
             [
              0,
              "#0d0887"
             ],
             [
              0.1111111111111111,
              "#46039f"
             ],
             [
              0.2222222222222222,
              "#7201a8"
             ],
             [
              0.3333333333333333,
              "#9c179e"
             ],
             [
              0.4444444444444444,
              "#bd3786"
             ],
             [
              0.5555555555555556,
              "#d8576b"
             ],
             [
              0.6666666666666666,
              "#ed7953"
             ],
             [
              0.7777777777777778,
              "#fb9f3a"
             ],
             [
              0.8888888888888888,
              "#fdca26"
             ],
             [
              1,
              "#f0f921"
             ]
            ],
            "type": "histogram2d"
           }
          ],
          "histogram2dcontour": [
           {
            "colorbar": {
             "outlinewidth": 0,
             "ticks": ""
            },
            "colorscale": [
             [
              0,
              "#0d0887"
             ],
             [
              0.1111111111111111,
              "#46039f"
             ],
             [
              0.2222222222222222,
              "#7201a8"
             ],
             [
              0.3333333333333333,
              "#9c179e"
             ],
             [
              0.4444444444444444,
              "#bd3786"
             ],
             [
              0.5555555555555556,
              "#d8576b"
             ],
             [
              0.6666666666666666,
              "#ed7953"
             ],
             [
              0.7777777777777778,
              "#fb9f3a"
             ],
             [
              0.8888888888888888,
              "#fdca26"
             ],
             [
              1,
              "#f0f921"
             ]
            ],
            "type": "histogram2dcontour"
           }
          ],
          "mesh3d": [
           {
            "colorbar": {
             "outlinewidth": 0,
             "ticks": ""
            },
            "type": "mesh3d"
           }
          ],
          "parcoords": [
           {
            "line": {
             "colorbar": {
              "outlinewidth": 0,
              "ticks": ""
             }
            },
            "type": "parcoords"
           }
          ],
          "pie": [
           {
            "automargin": true,
            "type": "pie"
           }
          ],
          "scatter": [
           {
            "fillpattern": {
             "fillmode": "overlay",
             "size": 10,
             "solidity": 0.2
            },
            "type": "scatter"
           }
          ],
          "scatter3d": [
           {
            "line": {
             "colorbar": {
              "outlinewidth": 0,
              "ticks": ""
             }
            },
            "marker": {
             "colorbar": {
              "outlinewidth": 0,
              "ticks": ""
             }
            },
            "type": "scatter3d"
           }
          ],
          "scattercarpet": [
           {
            "marker": {
             "colorbar": {
              "outlinewidth": 0,
              "ticks": ""
             }
            },
            "type": "scattercarpet"
           }
          ],
          "scattergeo": [
           {
            "marker": {
             "colorbar": {
              "outlinewidth": 0,
              "ticks": ""
             }
            },
            "type": "scattergeo"
           }
          ],
          "scattergl": [
           {
            "marker": {
             "colorbar": {
              "outlinewidth": 0,
              "ticks": ""
             }
            },
            "type": "scattergl"
           }
          ],
          "scattermap": [
           {
            "marker": {
             "colorbar": {
              "outlinewidth": 0,
              "ticks": ""
             }
            },
            "type": "scattermap"
           }
          ],
          "scattermapbox": [
           {
            "marker": {
             "colorbar": {
              "outlinewidth": 0,
              "ticks": ""
             }
            },
            "type": "scattermapbox"
           }
          ],
          "scatterpolar": [
           {
            "marker": {
             "colorbar": {
              "outlinewidth": 0,
              "ticks": ""
             }
            },
            "type": "scatterpolar"
           }
          ],
          "scatterpolargl": [
           {
            "marker": {
             "colorbar": {
              "outlinewidth": 0,
              "ticks": ""
             }
            },
            "type": "scatterpolargl"
           }
          ],
          "scatterternary": [
           {
            "marker": {
             "colorbar": {
              "outlinewidth": 0,
              "ticks": ""
             }
            },
            "type": "scatterternary"
           }
          ],
          "surface": [
           {
            "colorbar": {
             "outlinewidth": 0,
             "ticks": ""
            },
            "colorscale": [
             [
              0,
              "#0d0887"
             ],
             [
              0.1111111111111111,
              "#46039f"
             ],
             [
              0.2222222222222222,
              "#7201a8"
             ],
             [
              0.3333333333333333,
              "#9c179e"
             ],
             [
              0.4444444444444444,
              "#bd3786"
             ],
             [
              0.5555555555555556,
              "#d8576b"
             ],
             [
              0.6666666666666666,
              "#ed7953"
             ],
             [
              0.7777777777777778,
              "#fb9f3a"
             ],
             [
              0.8888888888888888,
              "#fdca26"
             ],
             [
              1,
              "#f0f921"
             ]
            ],
            "type": "surface"
           }
          ],
          "table": [
           {
            "cells": {
             "fill": {
              "color": "#EBF0F8"
             },
             "line": {
              "color": "white"
             }
            },
            "header": {
             "fill": {
              "color": "#C8D4E3"
             },
             "line": {
              "color": "white"
             }
            },
            "type": "table"
           }
          ]
         },
         "layout": {
          "annotationdefaults": {
           "arrowcolor": "#2a3f5f",
           "arrowhead": 0,
           "arrowwidth": 1
          },
          "autotypenumbers": "strict",
          "coloraxis": {
           "colorbar": {
            "outlinewidth": 0,
            "ticks": ""
           }
          },
          "colorscale": {
           "diverging": [
            [
             0,
             "#8e0152"
            ],
            [
             0.1,
             "#c51b7d"
            ],
            [
             0.2,
             "#de77ae"
            ],
            [
             0.3,
             "#f1b6da"
            ],
            [
             0.4,
             "#fde0ef"
            ],
            [
             0.5,
             "#f7f7f7"
            ],
            [
             0.6,
             "#e6f5d0"
            ],
            [
             0.7,
             "#b8e186"
            ],
            [
             0.8,
             "#7fbc41"
            ],
            [
             0.9,
             "#4d9221"
            ],
            [
             1,
             "#276419"
            ]
           ],
           "sequential": [
            [
             0,
             "#0d0887"
            ],
            [
             0.1111111111111111,
             "#46039f"
            ],
            [
             0.2222222222222222,
             "#7201a8"
            ],
            [
             0.3333333333333333,
             "#9c179e"
            ],
            [
             0.4444444444444444,
             "#bd3786"
            ],
            [
             0.5555555555555556,
             "#d8576b"
            ],
            [
             0.6666666666666666,
             "#ed7953"
            ],
            [
             0.7777777777777778,
             "#fb9f3a"
            ],
            [
             0.8888888888888888,
             "#fdca26"
            ],
            [
             1,
             "#f0f921"
            ]
           ],
           "sequentialminus": [
            [
             0,
             "#0d0887"
            ],
            [
             0.1111111111111111,
             "#46039f"
            ],
            [
             0.2222222222222222,
             "#7201a8"
            ],
            [
             0.3333333333333333,
             "#9c179e"
            ],
            [
             0.4444444444444444,
             "#bd3786"
            ],
            [
             0.5555555555555556,
             "#d8576b"
            ],
            [
             0.6666666666666666,
             "#ed7953"
            ],
            [
             0.7777777777777778,
             "#fb9f3a"
            ],
            [
             0.8888888888888888,
             "#fdca26"
            ],
            [
             1,
             "#f0f921"
            ]
           ]
          },
          "colorway": [
           "#636efa",
           "#EF553B",
           "#00cc96",
           "#ab63fa",
           "#FFA15A",
           "#19d3f3",
           "#FF6692",
           "#B6E880",
           "#FF97FF",
           "#FECB52"
          ],
          "font": {
           "color": "#2a3f5f"
          },
          "geo": {
           "bgcolor": "white",
           "lakecolor": "white",
           "landcolor": "#E5ECF6",
           "showlakes": true,
           "showland": true,
           "subunitcolor": "white"
          },
          "hoverlabel": {
           "align": "left"
          },
          "hovermode": "closest",
          "mapbox": {
           "style": "light"
          },
          "paper_bgcolor": "white",
          "plot_bgcolor": "#E5ECF6",
          "polar": {
           "angularaxis": {
            "gridcolor": "white",
            "linecolor": "white",
            "ticks": ""
           },
           "bgcolor": "#E5ECF6",
           "radialaxis": {
            "gridcolor": "white",
            "linecolor": "white",
            "ticks": ""
           }
          },
          "scene": {
           "xaxis": {
            "backgroundcolor": "#E5ECF6",
            "gridcolor": "white",
            "gridwidth": 2,
            "linecolor": "white",
            "showbackground": true,
            "ticks": "",
            "zerolinecolor": "white"
           },
           "yaxis": {
            "backgroundcolor": "#E5ECF6",
            "gridcolor": "white",
            "gridwidth": 2,
            "linecolor": "white",
            "showbackground": true,
            "ticks": "",
            "zerolinecolor": "white"
           },
           "zaxis": {
            "backgroundcolor": "#E5ECF6",
            "gridcolor": "white",
            "gridwidth": 2,
            "linecolor": "white",
            "showbackground": true,
            "ticks": "",
            "zerolinecolor": "white"
           }
          },
          "shapedefaults": {
           "line": {
            "color": "#2a3f5f"
           }
          },
          "ternary": {
           "aaxis": {
            "gridcolor": "white",
            "linecolor": "white",
            "ticks": ""
           },
           "baxis": {
            "gridcolor": "white",
            "linecolor": "white",
            "ticks": ""
           },
           "bgcolor": "#E5ECF6",
           "caxis": {
            "gridcolor": "white",
            "linecolor": "white",
            "ticks": ""
           }
          },
          "title": {
           "x": 0.05
          },
          "xaxis": {
           "automargin": true,
           "gridcolor": "white",
           "linecolor": "white",
           "ticks": "",
           "title": {
            "standoff": 15
           },
           "zerolinecolor": "white",
           "zerolinewidth": 2
          },
          "yaxis": {
           "automargin": true,
           "gridcolor": "white",
           "linecolor": "white",
           "ticks": "",
           "title": {
            "standoff": 15
           },
           "zerolinecolor": "white",
           "zerolinewidth": 2
          }
         }
        },
        "title": {
         "text": "Weight Class Distribution",
         "x": 0.05
        },
        "xaxis": {
         "anchor": "y",
         "domain": [
          0,
          1
         ],
         "gridcolor": "rgba(0,0,0,0.05)",
         "title": {
          "text": "Count"
         }
        },
        "yaxis": {
         "anchor": "x",
         "categoryarray": [
          "Women's Featherweight",
          "Catch Weight",
          "Women's Bantamweight",
          "Women's Flyweight",
          "Women's Strawweight",
          "Flyweight",
          "Heavyweight",
          "Light Heavyweight",
          "Bantamweight",
          "Featherweight",
          "Middleweight",
          "Welterweight",
          "Lightweight"
         ],
         "categoryorder": "array",
         "domain": [
          0,
          1
         ],
         "title": {
          "text": ""
         }
        }
       }
      },
      "image/png": "[encoded data removed]"
     },
     "metadata": {},
     "output_type": "display_data"
    }
   ],
   "source": [
    "weight_counts = ufc['WeightClass'].value_counts().reset_index()\n",
    "weight_counts.columns = ['WeightClass', 'Count']\n",
    "\n",
    "fig = px.bar(weight_counts, x = 'Count', y = 'WeightClass', orientation = 'h',\n",
    "             color = 'WeightClass', color_discrete_sequence = px.colors.qualitative.Pastel,\n",
    "             title = 'Weight Class Distribution')\n",
    "\n",
    "fig.update_layout(plot_bgcolor = 'white', paper_bgcolor = 'white',\n",
    "                  font = dict(family = \"Helvetica Neue\", size = 14, color = \"#333\"),\n",
    "                  xaxis = dict(title = 'Count', gridcolor = 'rgba(0,0,0,0.05)'),\n",
    "                  yaxis = dict(title = ''), title_x = 0.05,\n",
    "                  showlegend = False, bargap = 0.3, height = 600)\n",
    "\n",
    "fig.update_traces(marker_line_width = 0.5, marker_line_color = 'rgba(0,0,0,0.1)')\n",
    "fig.show()"
   ]
  },
  {
   "cell_type": "code",
   "execution_count": 50,
   "id": "936ee56a-b83d-45a2-aa7d-8b8e93afe6bb",
   "metadata": {},
   "outputs": [
    {
     "data": {
      "application/vnd.plotly.v1+json": {
       "config": {
        "plotlyServerURL": "https://plot.ly"
       },
       "data": [
        {
         "hovertemplate": "WeightClass=%{x}<br>Count=%{y}<extra></extra>",
         "legendgroup": "",
         "marker": {
          "color": "#A0B3FF",
          "line": {
           "color": "rgba(0,0,0,0.15)",
           "width": 1
          },
          "pattern": {
           "shape": ""
          }
         },
         "name": "",
         "orientation": "v",
         "showlegend": false,
         "textposition": "auto",
         "type": "bar",
         "x": [
          "Flyweight",
          "Bantamweight",
          "Featherweight",
          "Lightweight",
          "Welterweight",
          "Middleweight",
          "Light Heavyweight",
          "Heavyweight"
         ],
         "xaxis": "x",
         "y": {
          "bdata": "YQGnAvICMgQCBA8D9QHwAQ==",
          "dtype": "i2"
         },
         "yaxis": "y"
        }
       ],
       "layout": {
        "bargap": 0,
        "barmode": "relative",
        "font": {
         "color": "#333",
         "family": "Helvetica Neue",
         "size": 14
        },
        "legend": {
         "tracegroupgap": 0
        },
        "paper_bgcolor": "white",
        "plot_bgcolor": "white",
        "showlegend": false,
        "template": {
         "data": {
          "bar": [
           {
            "error_x": {
             "color": "#2a3f5f"
            },
            "error_y": {
             "color": "#2a3f5f"
            },
            "marker": {
             "line": {
              "color": "#E5ECF6",
              "width": 0.5
             },
             "pattern": {
              "fillmode": "overlay",
              "size": 10,
              "solidity": 0.2
             }
            },
            "type": "bar"
           }
          ],
          "barpolar": [
           {
            "marker": {
             "line": {
              "color": "#E5ECF6",
              "width": 0.5
             },
             "pattern": {
              "fillmode": "overlay",
              "size": 10,
              "solidity": 0.2
             }
            },
            "type": "barpolar"
           }
          ],
          "carpet": [
           {
            "aaxis": {
             "endlinecolor": "#2a3f5f",
             "gridcolor": "white",
             "linecolor": "white",
             "minorgridcolor": "white",
             "startlinecolor": "#2a3f5f"
            },
            "baxis": {
             "endlinecolor": "#2a3f5f",
             "gridcolor": "white",
             "linecolor": "white",
             "minorgridcolor": "white",
             "startlinecolor": "#2a3f5f"
            },
            "type": "carpet"
           }
          ],
          "choropleth": [
           {
            "colorbar": {
             "outlinewidth": 0,
             "ticks": ""
            },
            "type": "choropleth"
           }
          ],
          "contour": [
           {
            "colorbar": {
             "outlinewidth": 0,
             "ticks": ""
            },
            "colorscale": [
             [
              0,
              "#0d0887"
             ],
             [
              0.1111111111111111,
              "#46039f"
             ],
             [
              0.2222222222222222,
              "#7201a8"
             ],
             [
              0.3333333333333333,
              "#9c179e"
             ],
             [
              0.4444444444444444,
              "#bd3786"
             ],
             [
              0.5555555555555556,
              "#d8576b"
             ],
             [
              0.6666666666666666,
              "#ed7953"
             ],
             [
              0.7777777777777778,
              "#fb9f3a"
             ],
             [
              0.8888888888888888,
              "#fdca26"
             ],
             [
              1,
              "#f0f921"
             ]
            ],
            "type": "contour"
           }
          ],
          "contourcarpet": [
           {
            "colorbar": {
             "outlinewidth": 0,
             "ticks": ""
            },
            "type": "contourcarpet"
           }
          ],
          "heatmap": [
           {
            "colorbar": {
             "outlinewidth": 0,
             "ticks": ""
            },
            "colorscale": [
             [
              0,
              "#0d0887"
             ],
             [
              0.1111111111111111,
              "#46039f"
             ],
             [
              0.2222222222222222,
              "#7201a8"
             ],
             [
              0.3333333333333333,
              "#9c179e"
             ],
             [
              0.4444444444444444,
              "#bd3786"
             ],
             [
              0.5555555555555556,
              "#d8576b"
             ],
             [
              0.6666666666666666,
              "#ed7953"
             ],
             [
              0.7777777777777778,
              "#fb9f3a"
             ],
             [
              0.8888888888888888,
              "#fdca26"
             ],
             [
              1,
              "#f0f921"
             ]
            ],
            "type": "heatmap"
           }
          ],
          "histogram": [
           {
            "marker": {
             "pattern": {
              "fillmode": "overlay",
              "size": 10,
              "solidity": 0.2
             }
            },
            "type": "histogram"
           }
          ],
          "histogram2d": [
           {
            "colorbar": {
             "outlinewidth": 0,
             "ticks": ""
            },
            "colorscale": [
             [
              0,
              "#0d0887"
             ],
             [
              0.1111111111111111,
              "#46039f"
             ],
             [
              0.2222222222222222,
              "#7201a8"
             ],
             [
              0.3333333333333333,
              "#9c179e"
             ],
             [
              0.4444444444444444,
              "#bd3786"
             ],
             [
              0.5555555555555556,
              "#d8576b"
             ],
             [
              0.6666666666666666,
              "#ed7953"
             ],
             [
              0.7777777777777778,
              "#fb9f3a"
             ],
             [
              0.8888888888888888,
              "#fdca26"
             ],
             [
              1,
              "#f0f921"
             ]
            ],
            "type": "histogram2d"
           }
          ],
          "histogram2dcontour": [
           {
            "colorbar": {
             "outlinewidth": 0,
             "ticks": ""
            },
            "colorscale": [
             [
              0,
              "#0d0887"
             ],
             [
              0.1111111111111111,
              "#46039f"
             ],
             [
              0.2222222222222222,
              "#7201a8"
             ],
             [
              0.3333333333333333,
              "#9c179e"
             ],
             [
              0.4444444444444444,
              "#bd3786"
             ],
             [
              0.5555555555555556,
              "#d8576b"
             ],
             [
              0.6666666666666666,
              "#ed7953"
             ],
             [
              0.7777777777777778,
              "#fb9f3a"
             ],
             [
              0.8888888888888888,
              "#fdca26"
             ],
             [
              1,
              "#f0f921"
             ]
            ],
            "type": "histogram2dcontour"
           }
          ],
          "mesh3d": [
           {
            "colorbar": {
             "outlinewidth": 0,
             "ticks": ""
            },
            "type": "mesh3d"
           }
          ],
          "parcoords": [
           {
            "line": {
             "colorbar": {
              "outlinewidth": 0,
              "ticks": ""
             }
            },
            "type": "parcoords"
           }
          ],
          "pie": [
           {
            "automargin": true,
            "type": "pie"
           }
          ],
          "scatter": [
           {
            "fillpattern": {
             "fillmode": "overlay",
             "size": 10,
             "solidity": 0.2
            },
            "type": "scatter"
           }
          ],
          "scatter3d": [
           {
            "line": {
             "colorbar": {
              "outlinewidth": 0,
              "ticks": ""
             }
            },
            "marker": {
             "colorbar": {
              "outlinewidth": 0,
              "ticks": ""
             }
            },
            "type": "scatter3d"
           }
          ],
          "scattercarpet": [
           {
            "marker": {
             "colorbar": {
              "outlinewidth": 0,
              "ticks": ""
             }
            },
            "type": "scattercarpet"
           }
          ],
          "scattergeo": [
           {
            "marker": {
             "colorbar": {
              "outlinewidth": 0,
              "ticks": ""
             }
            },
            "type": "scattergeo"
           }
          ],
          "scattergl": [
           {
            "marker": {
             "colorbar": {
              "outlinewidth": 0,
              "ticks": ""
             }
            },
            "type": "scattergl"
           }
          ],
          "scattermap": [
           {
            "marker": {
             "colorbar": {
              "outlinewidth": 0,
              "ticks": ""
             }
            },
            "type": "scattermap"
           }
          ],
          "scattermapbox": [
           {
            "marker": {
             "colorbar": {
              "outlinewidth": 0,
              "ticks": ""
             }
            },
            "type": "scattermapbox"
           }
          ],
          "scatterpolar": [
           {
            "marker": {
             "colorbar": {
              "outlinewidth": 0,
              "ticks": ""
             }
            },
            "type": "scatterpolar"
           }
          ],
          "scatterpolargl": [
           {
            "marker": {
             "colorbar": {
              "outlinewidth": 0,
              "ticks": ""
             }
            },
            "type": "scatterpolargl"
           }
          ],
          "scatterternary": [
           {
            "marker": {
             "colorbar": {
              "outlinewidth": 0,
              "ticks": ""
             }
            },
            "type": "scatterternary"
           }
          ],
          "surface": [
           {
            "colorbar": {
             "outlinewidth": 0,
             "ticks": ""
            },
            "colorscale": [
             [
              0,
              "#0d0887"
             ],
             [
              0.1111111111111111,
              "#46039f"
             ],
             [
              0.2222222222222222,
              "#7201a8"
             ],
             [
              0.3333333333333333,
              "#9c179e"
             ],
             [
              0.4444444444444444,
              "#bd3786"
             ],
             [
              0.5555555555555556,
              "#d8576b"
             ],
             [
              0.6666666666666666,
              "#ed7953"
             ],
             [
              0.7777777777777778,
              "#fb9f3a"
             ],
             [
              0.8888888888888888,
              "#fdca26"
             ],
             [
              1,
              "#f0f921"
             ]
            ],
            "type": "surface"
           }
          ],
          "table": [
           {
            "cells": {
             "fill": {
              "color": "#EBF0F8"
             },
             "line": {
              "color": "white"
             }
            },
            "header": {
             "fill": {
              "color": "#C8D4E3"
             },
             "line": {
              "color": "white"
             }
            },
            "type": "table"
           }
          ]
         },
         "layout": {
          "annotationdefaults": {
           "arrowcolor": "#2a3f5f",
           "arrowhead": 0,
           "arrowwidth": 1
          },
          "autotypenumbers": "strict",
          "coloraxis": {
           "colorbar": {
            "outlinewidth": 0,
            "ticks": ""
           }
          },
          "colorscale": {
           "diverging": [
            [
             0,
             "#8e0152"
            ],
            [
             0.1,
             "#c51b7d"
            ],
            [
             0.2,
             "#de77ae"
            ],
            [
             0.3,
             "#f1b6da"
            ],
            [
             0.4,
             "#fde0ef"
            ],
            [
             0.5,
             "#f7f7f7"
            ],
            [
             0.6,
             "#e6f5d0"
            ],
            [
             0.7,
             "#b8e186"
            ],
            [
             0.8,
             "#7fbc41"
            ],
            [
             0.9,
             "#4d9221"
            ],
            [
             1,
             "#276419"
            ]
           ],
           "sequential": [
            [
             0,
             "#0d0887"
            ],
            [
             0.1111111111111111,
             "#46039f"
            ],
            [
             0.2222222222222222,
             "#7201a8"
            ],
            [
             0.3333333333333333,
             "#9c179e"
            ],
            [
             0.4444444444444444,
             "#bd3786"
            ],
            [
             0.5555555555555556,
             "#d8576b"
            ],
            [
             0.6666666666666666,
             "#ed7953"
            ],
            [
             0.7777777777777778,
             "#fb9f3a"
            ],
            [
             0.8888888888888888,
             "#fdca26"
            ],
            [
             1,
             "#f0f921"
            ]
           ],
           "sequentialminus": [
            [
             0,
             "#0d0887"
            ],
            [
             0.1111111111111111,
             "#46039f"
            ],
            [
             0.2222222222222222,
             "#7201a8"
            ],
            [
             0.3333333333333333,
             "#9c179e"
            ],
            [
             0.4444444444444444,
             "#bd3786"
            ],
            [
             0.5555555555555556,
             "#d8576b"
            ],
            [
             0.6666666666666666,
             "#ed7953"
            ],
            [
             0.7777777777777778,
             "#fb9f3a"
            ],
            [
             0.8888888888888888,
             "#fdca26"
            ],
            [
             1,
             "#f0f921"
            ]
           ]
          },
          "colorway": [
           "#636efa",
           "#EF553B",
           "#00cc96",
           "#ab63fa",
           "#FFA15A",
           "#19d3f3",
           "#FF6692",
           "#B6E880",
           "#FF97FF",
           "#FECB52"
          ],
          "font": {
           "color": "#2a3f5f"
          },
          "geo": {
           "bgcolor": "white",
           "lakecolor": "white",
           "landcolor": "#E5ECF6",
           "showlakes": true,
           "showland": true,
           "subunitcolor": "white"
          },
          "hoverlabel": {
           "align": "left"
          },
          "hovermode": "closest",
          "mapbox": {
           "style": "light"
          },
          "paper_bgcolor": "white",
          "plot_bgcolor": "#E5ECF6",
          "polar": {
           "angularaxis": {
            "gridcolor": "white",
            "linecolor": "white",
            "ticks": ""
           },
           "bgcolor": "#E5ECF6",
           "radialaxis": {
            "gridcolor": "white",
            "linecolor": "white",
            "ticks": ""
           }
          },
          "scene": {
           "xaxis": {
            "backgroundcolor": "#E5ECF6",
            "gridcolor": "white",
            "gridwidth": 2,
            "linecolor": "white",
            "showbackground": true,
            "ticks": "",
            "zerolinecolor": "white"
           },
           "yaxis": {
            "backgroundcolor": "#E5ECF6",
            "gridcolor": "white",
            "gridwidth": 2,
            "linecolor": "white",
            "showbackground": true,
            "ticks": "",
            "zerolinecolor": "white"
           },
           "zaxis": {
            "backgroundcolor": "#E5ECF6",
            "gridcolor": "white",
            "gridwidth": 2,
            "linecolor": "white",
            "showbackground": true,
            "ticks": "",
            "zerolinecolor": "white"
           }
          },
          "shapedefaults": {
           "line": {
            "color": "#2a3f5f"
           }
          },
          "ternary": {
           "aaxis": {
            "gridcolor": "white",
            "linecolor": "white",
            "ticks": ""
           },
           "baxis": {
            "gridcolor": "white",
            "linecolor": "white",
            "ticks": ""
           },
           "bgcolor": "#E5ECF6",
           "caxis": {
            "gridcolor": "white",
            "linecolor": "white",
            "ticks": ""
           }
          },
          "title": {
           "x": 0.05
          },
          "xaxis": {
           "automargin": true,
           "gridcolor": "white",
           "linecolor": "white",
           "ticks": "",
           "title": {
            "standoff": 15
           },
           "zerolinecolor": "white",
           "zerolinewidth": 2
          },
          "yaxis": {
           "automargin": true,
           "gridcolor": "white",
           "linecolor": "white",
           "ticks": "",
           "title": {
            "standoff": 15
           },
           "zerolinecolor": "white",
           "zerolinewidth": 2
          }
         }
        },
        "title": {
         "text": "# of Fights Across Weight Classes",
         "x": 0.05
        },
        "xaxis": {
         "anchor": "y",
         "domain": [
          0,
          1
         ],
         "tickangle": -15,
         "title": {
          "text": ""
         }
        },
        "yaxis": {
         "anchor": "x",
         "domain": [
          0,
          1
         ],
         "gridcolor": "rgba(0,0,0,0.05)",
         "title": {
          "text": "Count"
         }
        }
       }
      },
      "image/png": "[encoded data removed]"
     },
     "metadata": {},
     "output_type": "display_data"
    }
   ],
   "source": [
    "mens_weightclasses = ['Flyweight', 'Bantamweight', 'Featherweight', 'Lightweight',\n",
    "                'Welterweight', 'Middleweight', 'Light Heavyweight', 'Heavyweight']\n",
    "\n",
    "# filter + order\n",
    "mens_df = ufc[ufc['WeightClass'].isin(mens_weightclasses)]\n",
    "mens_counts = mens_df['WeightClass'].value_counts().reindex(mens_weightclasses).reset_index()\n",
    "mens_counts.columns = ['WeightClass', 'Count']\n",
    "\n",
    "fig = px.bar(mens_counts, x = 'WeightClass', y = 'Count',\n",
    "             color_discrete_sequence = ['#A0B3FF'],\n",
    "             title = '# of Fights Across Weight Classes')\n",
    "\n",
    "fig.update_layout(plot_bgcolor = 'white', paper_bgcolor = 'white',\n",
    "                font = dict(family = \"Helvetica Neue\", size = 14, color = \"#333\"),\n",
    "                xaxis = dict(title = '', tickangle = -15),\n",
    "                yaxis = dict(title = 'Count', gridcolor = 'rgba(0,0,0,0.05)'),\n",
    "                title_x = 0.05, showlegend = False, bargap = 0)\n",
    "\n",
    "fig.update_traces(marker_line_width = 1, marker_line_color = 'rgba(0,0,0,0.15)')\n",
    "fig.show()"
   ]
  },
  {
   "cell_type": "code",
   "execution_count": 59,
   "id": "229127f3-ac0c-4035-a5d0-b30c9b88fb21",
   "metadata": {},
   "outputs": [
    {
     "data": {
      "application/vnd.plotly.v1+json": {
       "config": {
        "plotlyServerURL": "https://plot.ly"
       },
       "data": [
        {
         "histnorm": "probability density",
         "marker": {
          "color": "#A0C4FF"
         },
         "name": "Histogram",
         "nbinsx": 30,
         "opacity": 0.7,
         "type": "histogram",
         "x": {
          "bdata": "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",
          "dtype": "i1"
         }
        },
        {
         "line": {
          "color": "darkblue",
          "width": 2
         },
         "mode": "lines",
         "name": "KDE",
         "type": "scatter",
         "x": {
          "bdata": "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",
          "dtype": "f8"
         },
         "y": {
          "bdata": "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",
          "dtype": "f8"
         }
        }
       ],
       "layout": {
        "bargap": 0.05,
        "font": {
         "color": "#333",
         "family": "Helvetica Neue",
         "size": 14
        },
        "paper_bgcolor": "white",
        "plot_bgcolor": "white",
        "shapes": [
         {
          "line": {
           "color": "black",
           "dash": "dash",
           "width": 1
          },
          "type": "line",
          "x0": 0,
          "x1": 0,
          "xref": "x",
          "y0": 0,
          "y1": 1,
          "yref": "y domain"
         }
        ],
        "showlegend": false,
        "template": {
         "data": {
          "bar": [
           {
            "error_x": {
             "color": "#2a3f5f"
            },
            "error_y": {
             "color": "#2a3f5f"
            },
            "marker": {
             "line": {
              "color": "#E5ECF6",
              "width": 0.5
             },
             "pattern": {
              "fillmode": "overlay",
              "size": 10,
              "solidity": 0.2
             }
            },
            "type": "bar"
           }
          ],
          "barpolar": [
           {
            "marker": {
             "line": {
              "color": "#E5ECF6",
              "width": 0.5
             },
             "pattern": {
              "fillmode": "overlay",
              "size": 10,
              "solidity": 0.2
             }
            },
            "type": "barpolar"
           }
          ],
          "carpet": [
           {
            "aaxis": {
             "endlinecolor": "#2a3f5f",
             "gridcolor": "white",
             "linecolor": "white",
             "minorgridcolor": "white",
             "startlinecolor": "#2a3f5f"
            },
            "baxis": {
             "endlinecolor": "#2a3f5f",
             "gridcolor": "white",
             "linecolor": "white",
             "minorgridcolor": "white",
             "startlinecolor": "#2a3f5f"
            },
            "type": "carpet"
           }
          ],
          "choropleth": [
           {
            "colorbar": {
             "outlinewidth": 0,
             "ticks": ""
            },
            "type": "choropleth"
           }
          ],
          "contour": [
           {
            "colorbar": {
             "outlinewidth": 0,
             "ticks": ""
            },
            "colorscale": [
             [
              0,
              "#0d0887"
             ],
             [
              0.1111111111111111,
              "#46039f"
             ],
             [
              0.2222222222222222,
              "#7201a8"
             ],
             [
              0.3333333333333333,
              "#9c179e"
             ],
             [
              0.4444444444444444,
              "#bd3786"
             ],
             [
              0.5555555555555556,
              "#d8576b"
             ],
             [
              0.6666666666666666,
              "#ed7953"
             ],
             [
              0.7777777777777778,
              "#fb9f3a"
             ],
             [
              0.8888888888888888,
              "#fdca26"
             ],
             [
              1,
              "#f0f921"
             ]
            ],
            "type": "contour"
           }
          ],
          "contourcarpet": [
           {
            "colorbar": {
             "outlinewidth": 0,
             "ticks": ""
            },
            "type": "contourcarpet"
           }
          ],
          "heatmap": [
           {
            "colorbar": {
             "outlinewidth": 0,
             "ticks": ""
            },
            "colorscale": [
             [
              0,
              "#0d0887"
             ],
             [
              0.1111111111111111,
              "#46039f"
             ],
             [
              0.2222222222222222,
              "#7201a8"
             ],
             [
              0.3333333333333333,
              "#9c179e"
             ],
             [
              0.4444444444444444,
              "#bd3786"
             ],
             [
              0.5555555555555556,
              "#d8576b"
             ],
             [
              0.6666666666666666,
              "#ed7953"
             ],
             [
              0.7777777777777778,
              "#fb9f3a"
             ],
             [
              0.8888888888888888,
              "#fdca26"
             ],
             [
              1,
              "#f0f921"
             ]
            ],
            "type": "heatmap"
           }
          ],
          "histogram": [
           {
            "marker": {
             "pattern": {
              "fillmode": "overlay",
              "size": 10,
              "solidity": 0.2
             }
            },
            "type": "histogram"
           }
          ],
          "histogram2d": [
           {
            "colorbar": {
             "outlinewidth": 0,
             "ticks": ""
            },
            "colorscale": [
             [
              0,
              "#0d0887"
             ],
             [
              0.1111111111111111,
              "#46039f"
             ],
             [
              0.2222222222222222,
              "#7201a8"
             ],
             [
              0.3333333333333333,
              "#9c179e"
             ],
             [
              0.4444444444444444,
              "#bd3786"
             ],
             [
              0.5555555555555556,
              "#d8576b"
             ],
             [
              0.6666666666666666,
              "#ed7953"
             ],
             [
              0.7777777777777778,
              "#fb9f3a"
             ],
             [
              0.8888888888888888,
              "#fdca26"
             ],
             [
              1,
              "#f0f921"
             ]
            ],
            "type": "histogram2d"
           }
          ],
          "histogram2dcontour": [
           {
            "colorbar": {
             "outlinewidth": 0,
             "ticks": ""
            },
            "colorscale": [
             [
              0,
              "#0d0887"
             ],
             [
              0.1111111111111111,
              "#46039f"
             ],
             [
              0.2222222222222222,
              "#7201a8"
             ],
             [
              0.3333333333333333,
              "#9c179e"
             ],
             [
              0.4444444444444444,
              "#bd3786"
             ],
             [
              0.5555555555555556,
              "#d8576b"
             ],
             [
              0.6666666666666666,
              "#ed7953"
             ],
             [
              0.7777777777777778,
              "#fb9f3a"
             ],
             [
              0.8888888888888888,
              "#fdca26"
             ],
             [
              1,
              "#f0f921"
             ]
            ],
            "type": "histogram2dcontour"
           }
          ],
          "mesh3d": [
           {
            "colorbar": {
             "outlinewidth": 0,
             "ticks": ""
            },
            "type": "mesh3d"
           }
          ],
          "parcoords": [
           {
            "line": {
             "colorbar": {
              "outlinewidth": 0,
              "ticks": ""
             }
            },
            "type": "parcoords"
           }
          ],
          "pie": [
           {
            "automargin": true,
            "type": "pie"
           }
          ],
          "scatter": [
           {
            "fillpattern": {
             "fillmode": "overlay",
             "size": 10,
             "solidity": 0.2
            },
            "type": "scatter"
           }
          ],
          "scatter3d": [
           {
            "line": {
             "colorbar": {
              "outlinewidth": 0,
              "ticks": ""
             }
            },
            "marker": {
             "colorbar": {
              "outlinewidth": 0,
              "ticks": ""
             }
            },
            "type": "scatter3d"
           }
          ],
          "scattercarpet": [
           {
            "marker": {
             "colorbar": {
              "outlinewidth": 0,
              "ticks": ""
             }
            },
            "type": "scattercarpet"
           }
          ],
          "scattergeo": [
           {
            "marker": {
             "colorbar": {
              "outlinewidth": 0,
              "ticks": ""
             }
            },
            "type": "scattergeo"
           }
          ],
          "scattergl": [
           {
            "marker": {
             "colorbar": {
              "outlinewidth": 0,
              "ticks": ""
             }
            },
            "type": "scattergl"
           }
          ],
          "scattermap": [
           {
            "marker": {
             "colorbar": {
              "outlinewidth": 0,
              "ticks": ""
             }
            },
            "type": "scattermap"
           }
          ],
          "scattermapbox": [
           {
            "marker": {
             "colorbar": {
              "outlinewidth": 0,
              "ticks": ""
             }
            },
            "type": "scattermapbox"
           }
          ],
          "scatterpolar": [
           {
            "marker": {
             "colorbar": {
              "outlinewidth": 0,
              "ticks": ""
             }
            },
            "type": "scatterpolar"
           }
          ],
          "scatterpolargl": [
           {
            "marker": {
             "colorbar": {
              "outlinewidth": 0,
              "ticks": ""
             }
            },
            "type": "scatterpolargl"
           }
          ],
          "scatterternary": [
           {
            "marker": {
             "colorbar": {
              "outlinewidth": 0,
              "ticks": ""
             }
            },
            "type": "scatterternary"
           }
          ],
          "surface": [
           {
            "colorbar": {
             "outlinewidth": 0,
             "ticks": ""
            },
            "colorscale": [
             [
              0,
              "#0d0887"
             ],
             [
              0.1111111111111111,
              "#46039f"
             ],
             [
              0.2222222222222222,
              "#7201a8"
             ],
             [
              0.3333333333333333,
              "#9c179e"
             ],
             [
              0.4444444444444444,
              "#bd3786"
             ],
             [
              0.5555555555555556,
              "#d8576b"
             ],
             [
              0.6666666666666666,
              "#ed7953"
             ],
             [
              0.7777777777777778,
              "#fb9f3a"
             ],
             [
              0.8888888888888888,
              "#fdca26"
             ],
             [
              1,
              "#f0f921"
             ]
            ],
            "type": "surface"
           }
          ],
          "table": [
           {
            "cells": {
             "fill": {
              "color": "#EBF0F8"
             },
             "line": {
              "color": "white"
             }
            },
            "header": {
             "fill": {
              "color": "#C8D4E3"
             },
             "line": {
              "color": "white"
             }
            },
            "type": "table"
           }
          ]
         },
         "layout": {
          "annotationdefaults": {
           "arrowcolor": "#2a3f5f",
           "arrowhead": 0,
           "arrowwidth": 1
          },
          "autotypenumbers": "strict",
          "coloraxis": {
           "colorbar": {
            "outlinewidth": 0,
            "ticks": ""
           }
          },
          "colorscale": {
           "diverging": [
            [
             0,
             "#8e0152"
            ],
            [
             0.1,
             "#c51b7d"
            ],
            [
             0.2,
             "#de77ae"
            ],
            [
             0.3,
             "#f1b6da"
            ],
            [
             0.4,
             "#fde0ef"
            ],
            [
             0.5,
             "#f7f7f7"
            ],
            [
             0.6,
             "#e6f5d0"
            ],
            [
             0.7,
             "#b8e186"
            ],
            [
             0.8,
             "#7fbc41"
            ],
            [
             0.9,
             "#4d9221"
            ],
            [
             1,
             "#276419"
            ]
           ],
           "sequential": [
            [
             0,
             "#0d0887"
            ],
            [
             0.1111111111111111,
             "#46039f"
            ],
            [
             0.2222222222222222,
             "#7201a8"
            ],
            [
             0.3333333333333333,
             "#9c179e"
            ],
            [
             0.4444444444444444,
             "#bd3786"
            ],
            [
             0.5555555555555556,
             "#d8576b"
            ],
            [
             0.6666666666666666,
             "#ed7953"
            ],
            [
             0.7777777777777778,
             "#fb9f3a"
            ],
            [
             0.8888888888888888,
             "#fdca26"
            ],
            [
             1,
             "#f0f921"
            ]
           ],
           "sequentialminus": [
            [
             0,
             "#0d0887"
            ],
            [
             0.1111111111111111,
             "#46039f"
            ],
            [
             0.2222222222222222,
             "#7201a8"
            ],
            [
             0.3333333333333333,
             "#9c179e"
            ],
            [
             0.4444444444444444,
             "#bd3786"
            ],
            [
             0.5555555555555556,
             "#d8576b"
            ],
            [
             0.6666666666666666,
             "#ed7953"
            ],
            [
             0.7777777777777778,
             "#fb9f3a"
            ],
            [
             0.8888888888888888,
             "#fdca26"
            ],
            [
             1,
             "#f0f921"
            ]
           ]
          },
          "colorway": [
           "#636efa",
           "#EF553B",
           "#00cc96",
           "#ab63fa",
           "#FFA15A",
           "#19d3f3",
           "#FF6692",
           "#B6E880",
           "#FF97FF",
           "#FECB52"
          ],
          "font": {
           "color": "#2a3f5f"
          },
          "geo": {
           "bgcolor": "white",
           "lakecolor": "white",
           "landcolor": "#E5ECF6",
           "showlakes": true,
           "showland": true,
           "subunitcolor": "white"
          },
          "hoverlabel": {
           "align": "left"
          },
          "hovermode": "closest",
          "mapbox": {
           "style": "light"
          },
          "paper_bgcolor": "white",
          "plot_bgcolor": "#E5ECF6",
          "polar": {
           "angularaxis": {
            "gridcolor": "white",
            "linecolor": "white",
            "ticks": ""
           },
           "bgcolor": "#E5ECF6",
           "radialaxis": {
            "gridcolor": "white",
            "linecolor": "white",
            "ticks": ""
           }
          },
          "scene": {
           "xaxis": {
            "backgroundcolor": "#E5ECF6",
            "gridcolor": "white",
            "gridwidth": 2,
            "linecolor": "white",
            "showbackground": true,
            "ticks": "",
            "zerolinecolor": "white"
           },
           "yaxis": {
            "backgroundcolor": "#E5ECF6",
            "gridcolor": "white",
            "gridwidth": 2,
            "linecolor": "white",
            "showbackground": true,
            "ticks": "",
            "zerolinecolor": "white"
           },
           "zaxis": {
            "backgroundcolor": "#E5ECF6",
            "gridcolor": "white",
            "gridwidth": 2,
            "linecolor": "white",
            "showbackground": true,
            "ticks": "",
            "zerolinecolor": "white"
           }
          },
          "shapedefaults": {
           "line": {
            "color": "#2a3f5f"
           }
          },
          "ternary": {
           "aaxis": {
            "gridcolor": "white",
            "linecolor": "white",
            "ticks": ""
           },
           "baxis": {
            "gridcolor": "white",
            "linecolor": "white",
            "ticks": ""
           },
           "bgcolor": "#E5ECF6",
           "caxis": {
            "gridcolor": "white",
            "linecolor": "white",
            "ticks": ""
           }
          },
          "title": {
           "x": 0.05
          },
          "xaxis": {
           "automargin": true,
           "gridcolor": "white",
           "linecolor": "white",
           "ticks": "",
           "title": {
            "standoff": 15
           },
           "zerolinecolor": "white",
           "zerolinewidth": 2
          },
          "yaxis": {
           "automargin": true,
           "gridcolor": "white",
           "linecolor": "white",
           "ticks": "",
           "title": {
            "standoff": 15
           },
           "zerolinecolor": "white",
           "zerolinewidth": 2
          }
         }
        },
        "title": {
         "text": "Age Difference (Red - Blue)",
         "x": 0.05
        },
        "xaxis": {
         "title": {
          "text": "Age Difference"
         }
        },
        "yaxis": {
         "title": {
          "text": "Density"
         }
        }
       }
      },
      "image/png": "[encoded data removed]"
     },
     "metadata": {},
     "output_type": "display_data"
    }
   ],
   "source": [
    "age_diff = ufc['AgeDif'].dropna()\n",
    "\n",
    "# Calculate KDE\n",
    "kde = gaussian_kde(age_diff)\n",
    "x_kde = np.linspace(age_diff.min(), age_diff.max(), 500)\n",
    "y_kde = kde(x_kde)\n",
    "\n",
    "fig = go.Figure()\n",
    "\n",
    "fig.add_trace(go.Histogram(x = age_diff, nbinsx = 30, histnorm = 'probability density',\n",
    "                           marker_color = '#A0C4FF', opacity = 0.7, name = 'Histogram'))\n",
    "\n",
    "fig.add_trace(go.Scatter(x = x_kde, y = y_kde, mode = 'lines', line = dict(color = 'darkblue', width = 2), name = 'KDE'))\n",
    "fig.add_vline(x = 0, line_dash = 'dash', line_color = 'black', line_width = 1)\n",
    "\n",
    "fig.update_layout(title = 'Age Difference (Red - Blue)', xaxis_title = 'Age Difference', yaxis_title = 'Density',\n",
    "                  plot_bgcolor = 'white', paper_bgcolor = 'white', font = dict(family = 'Helvetica Neue', size = 14, color = '#333'),\n",
    "                  bargap = 0.05, title_x = 0.05, showlegend = False)\n",
    "fig.show()"
   ]
  },
  {
   "cell_type": "code",
   "execution_count": 76,
   "id": "4c0a0c64-8986-4841-8b83-3b266420cf60",
   "metadata": {},
   "outputs": [
    {
     "data": {
      "application/vnd.plotly.v1+json": {
       "config": {
        "plotlyServerURL": "https://plot.ly"
       },
       "data": [
        {
         "hovertemplate": "Winner=Red<br>RedOdds=%{x}<br>BlueOdds=%{y}<extra></extra>",
         "legendgroup": "Red",
         "marker": {
          "color": "rgb(228,26,28)",
          "symbol": "circle"
         },
         "mode": "markers",
         "name": "Red",
         "showlegend": true,
         "type": "scattergl",
         "x": {
          "bdata": "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",
          "dtype": "f8"
         },
         "xaxis": "x",
         "y": {
          "bdata": "AAAAAADgakAAAAAAAHByQAAAAAAAwHJAAAAAAACIg0AAAAAAAMByQAAAAAAAQGTAAAAAAABgaEAAAAAAAIBbQAAAAAAAoHlAAAAAAACgbkAAAAAAAIBkQAAAAAAAQGpAAAAAAACgfsAAAAAAAEBvQAAAAAAAAGFAAAAAAACgeUAAAAAAAOBqQAAAAAAAAIlAAAAAAAAgcsAAAAAAAFCEQAAAAAAAwG3AAAAAAACQikAAAAAAAMBcwAAAAAAAQG/AAAAAAAAgd0AAAAAAAAD4fwAAAAAAAPh/AAAAAAAA+H8AAAAAAMBiQAAAAAAAQGBAAAAAAABwckAAAAAAAAD4fwAAAAAAAPh/AAAAAAAA+H8AAAAAAAD4fwAAAAAAAPh/AAAAAACgbkAAAAAAAOBwQAAAAAAA4HBAAAAAAACAYUAAAAAAAABcwAAAAAAAAGlAAAAAAACQcMAAAAAAAEBgQAAAAAAAMIFAAAAAAACQekAAAAAAAABfQAAAAAAAgGZAAAAAAAAAYUAAAAAAAIiDwAAAAAAAoG5AAAAAAADAYUAAAAAAAEBqQAAAAAAAQGBAAAAAAACQesAAAAAAAAD4fwAAAAAAAPh/AAAAAADAckAAAAAAAABpQAAAAAAAYG1AAAAAAABgaEAAAAAAAABcwAAAAAAAAGlAAAAAAACgdEAAAAAAAIBiwAAAAAAAwHdAAAAAAAAA+H8AAAAAAAD4fwAAAAAAIHDAAAAAAAAgZ0AAAAAAABBzwAAAAAAAYHhAAAAAAABAWkAAAAAAAIBdwAAAAAAAcHxAAAAAAACIg0AAAAAAANBxQAAAAAAAAGlAAAAAAABAX8AAAAAAAEBlQAAAAAAAAPh/AAAAAAAA+H8AAAAAADCRQAAAAAAAQGpAAAAAAAAAbkAAAAAAAMCCQAAAAAAAQGpAAAAAAABgbUAAAAAAAAD4fwAAAAAAAFlAAAAAAACgcsAAAAAAAABkwAAAAAAAwIJAAAAAAAAA+H8AAAAAAAD4fwAAAAAAwHJAAAAAAAAgfEAAAAAAAAD4fwAAAAAAAPh/AAAAAAAA+H8AAAAAAAD4fwAAAAAAAPh/AAAAAAAA+H8AAAAAAEBvQAAAAAAAgFtAAAAAAABAYEAAAAAAAABuQAAAAAAAcIdAAAAAAAAAX0AAAAAAAIBbwAAAAAAAYGhAAAAAAADAckAAAAAAAIBrQAAAAAAAUHRAAAAAAADAbcAAAAAAAEBlQAAAAAAAAPh/AAAAAAAA+H8AAAAAAAD4fwAAAAAAAPh/AAAAAAAA+H8AAAAAACBiQAAAAAAAAGTAAAAAAADAbMAAAAAAAAD4fwAAAAAAAPh/AAAAAAAAaUAAAAAAAAB0QAAAAAAA4HDAAAAAAAAAX0AAAAAAAEBawAAAAAAAwHJAAAAAAAAA+H8AAAAAAIBcQAAAAAAAQGNAAAAAAABAb0AAAAAAAJCKQAAAAAAAAPh/AAAAAAAAWUAAAAAAAEBlQAAAAAAAQH9AAAAAAACgaUAAAAAAAGBzQAAAAAAAIHJAAAAAAADQccAAAAAAAGBzQAAAAAAAgGZAAAAAAACgZEAAAAAAAEBvwAAAAAAAgGtAAAAAAADAbEAAAAAAAAD4fwAAAAAAAPh/AAAAAAAA+H8AAAAAAAD4fwAAAAAAAPh/AAAAAAAA+H8AAAAAAAD4fwAAAAAAAPh/AAAAAAAA+H8AAAAAAIBZQAAAAAAAgFlAAAAAAAAA+H8AAAAAAAD4fwAAAAAAAPh/AAAAAAAA+H8AAAAAAAD4fwAAAAAAAPh/AAAAAAAA+H8AAAAAAAD4fwAAAAAAwGzAAAAAAAAAXsAAAAAAAABgQAAAAAAAgFnAAAAAAADAYkAAAAAAAMBkwAAAAAAAoHnAAAAAAAAgd0AAAAAAAAD4fwAAAAAAAPh/AAAAAAAA+H8AAAAAAAD4fwAAAAAA4GXAAAAAAADgYMAAAAAAAAD4fwAAAAAAgFtAAAAAAADgdUAAAAAAACCMQAAAAAAAQF/AAAAAAAAA+H8AAAAAAAD4fwAAAAAAAPh/AAAAAAAgZ0AAAAAAAEBvQAAAAAAAQFrAAAAAAADgZcAAAAAAAEBqQAAAAAAAgFtAAAAAAABAZcAAAAAAAEBrwAAAAAAA4HBAAAAAAACAWcAAAAAAAIBbQAAAAAAAQGVAAAAAAAAAZEAAAAAAAABhQAAAAAAAwGJAAAAAAAAAXkAAAAAAAEBkwAAAAAAAiIPAAAAAAACgacAAAAAAAAD4fwAAAAAAAPh/AAAAAAAA+H8AAAAAAAD4fwAAAAAAYG1AAAAAAABAa8AAAAAAAEBgQAAAAAAA4GDAAAAAAAAgd0AAAAAAAEBgQAAAAAAAcHJAAAAAAAAA+H8AAAAAAIBmwAAAAAAA4HVAAAAAAAAAiUAAAAAAAAB5QAAAAAAAgFxAAAAAAAAAicAAAAAAAAB0QAAAAAAAAIlAAAAAAADgcEAAAAAAADCBQAAAAAAAwGFAAAAAAADgYMAAAAAAAMB3QAAAAAAAgFtAAAAAAABAZUAAAAAAAABuQAAAAAAAgGZAAAAAAAAAYUAAAAAAAMBnQAAAAAAAkIpAAAAAAACAW8AAAAAAAMByQAAAAAAAQG/AAAAAAABAY0AAAAAAAEBgQAAAAAAAwFzAAAAAAAAA+H8AAAAAAAD4fwAAAAAAAPh/AAAAAABAZUAAAAAAAOBqQAAAAAAAAPh/AAAAAAAA+H8AAAAAAAD4fwAAAAAAAPh/AAAAAABAZcAAAAAAAMB3wAAAAAAAIGJAAAAAAAAAbkAAAAAAAKB0QAAAAAAAYHhAAAAAAABAYEAAAAAAAKBpQAAAAAAA4HBAAAAAAACAdsAAAAAAAIBrQAAAAAAAAPh/AAAAAAAA+H8AAAAAAAD4fwAAAAAAAPh/AAAAAAAA+H8AAAAAAAD4fwAAAAAAAPh/AAAAAAAA+H8AAAAAAAD4fwAAAAAAgHFAAAAAAACAZEAAAAAAAABhQAAAAAAAQH9AAAAAAABQicAAAAAAAEBgQAAAAAAAAHlAAAAAAAAA+H8AAAAAAEBawAAAAAAAAPh/AAAAAAAA+H8AAAAAAAD4fwAAAAAAAPh/AAAAAACAdkAAAAAAAEBwQAAAAAAAwGJAAAAAAADAgkAAAAAAACB8QAAAAAAAIHJAAAAAAABAf8AAAAAAAEBvwAAAAAAAQGDAAAAAAADgZUAAAAAAADCBQAAAAAAAAGlAAAAAAABAWsAAAAAAAAD4fwAAAAAAIHdAAAAAAABAZUAAAAAAAABuQAAAAAAAYGhAAAAAAAAA+H8AAAAAAAD4fwAAAAAAAPh/AAAAAACAa0AAAAAAAEB/QAAAAAAAoG5AAAAAAAAgcMAAAAAAAOB1QAAAAAAAwHJAAAAAAABAWkAAAAAAAAD4fwAAAAAAAPh/AAAAAAAA+H8AAAAAAAD4fwAAAAAAAPh/AAAAAACAcUAAAAAAAAD4fwAAAAAAAPh/AAAAAAAA+H8AAAAAAAD4fwAAAAAAAPh/AAAAAAAgZ0AAAAAAAEBwQAAAAAAAAGRAAAAAAADAZMAAAAAAAABZQAAAAAAAQG9AAAAAAABAf0AAAAAAAGBtQAAAAAAAYHNAAAAAAABAcEAAAAAAAEBaQAAAAAAAAPh/AAAAAABAdUAAAAAAAIBkQAAAAAAAgF7AAAAAAADAbEAAAAAAAABuQAAAAAAA4HVAAAAAAAAA+H8AAAAAAABkQAAAAAAAgGRAAAAAAACAZEAAAAAAACBiQAAAAAAAgGRAAAAAAABwckAAAAAAACBiQAAAAAAAgFxAAAAAAADgYMAAAAAAAMByQAAAAAAAQH9AAAAAAABAYMAAAAAAAEBqQAAAAAAAiINAAAAAAACAYUAAAAAAAABhQAAAAAAAQGVAAAAAAACAdsAAAAAAAIBiwAAAAAAAAF9AAAAAAABAb0AAAAAAAIBhQAAAAAAAcHJAAAAAAABAZcAAAAAAAABkQAAAAAAAAPh/AAAAAAAA+H8AAAAAAEBgwAAAAAAAEHPAAAAAAADAYUAAAAAAAIBiwAAAAAAAQHBAAAAAAADAbEAAAAAAAABpQAAAAAAAYGhAAAAAAADAckAAAAAAAEBlwAAAAAAAwGFAAAAAAACAW0AAAAAAAIBmQAAAAAAAAPh/AAAAAAAA+H8AAAAAAAD4fwAAAAAA4GrAAAAAAABwckAAAAAAACBiQAAAAAAAYGhAAAAAAAAAbkAAAAAAAAD4fwAAAAAAAHlAAAAAAACAZkAAAAAAAABuwAAAAAAAAF5AAAAAAADAYsAAAAAAAOBwQAAAAAAA4GBAAAAAAAAAXkAAAAAAAIBbwAAAAAAA4HpAAAAAAAAAXkAAAAAAAABhQAAAAAAAAGVAAAAAAACgbkAAAAAAAABmQAAAAAAAAPh/AAAAAAAA+H8AAAAAAAD4fwAAAAAAAPh/AAAAAACAa0AAAAAAAMB8QAAAAAAAAGFAAAAAAADAbMAAAAAAAAD4fwAAAAAAAPh/AAAAAAAgbMAAAAAAAIBnQAAAAAAAAGJAAAAAAACAaEAAAAAAAABbQAAAAAAAAFtAAAAAAABwh0AAAAAAAIBjwAAAAAAAAGRAAAAAAAAAZEAAAAAAAAD4fwAAAAAAAGLAAAAAAADAYcAAAAAAAEBoQAAAAAAA4HBAAAAAAAAA+H8AAAAAAABnQAAAAAAAgGtAAAAAAADAYEAAAAAAAABfwAAAAAAAMHHAAAAAAACAXEAAAAAAAABjQAAAAAAAQGpAAAAAAABAYkAAAAAAAIBmQAAAAAAAgGdAAAAAAAAAW0AAAAAAAABcQAAAAAAAgGPAAAAAAACAXsAAAAAAAABhQAAAAAAAAF9AAAAAAACAXkAAAAAAAABewAAAAAAAsINAAAAAAADAd0AAAAAAAMBswAAAAAAAoHRAAAAAAAAAYcAAAAAAAABZQAAAAAAAAGPAAAAAAACghEAAAAAAAEBjQAAAAAAAQHVAAAAAAAAAYsAAAAAAAGBzQAAAAAAAoGlAAAAAAABAYkAAAAAAAIBeQAAAAAAAAGLAAAAAAACAYMAAAAAAAMByQAAAAAAAAF3AAAAAAACAXcAAAAAAAMBjwAAAAAAAAGJAAAAAAADAZcAAAAAAAEBqwAAAAAAAAGVAAAAAAACAaMAAAAAAAABnQAAAAAAAAFtAAAAAAADAYMAAAAAAAIB2QAAAAAAAQGrAAAAAAADgakAAAAAAAGBzQAAAAAAAAGlAAAAAAACAZkAAAAAAAGBzwAAAAAAAAF7AAAAAAAAA+H8AAAAAAABcwAAAAAAAoG7AAAAAAABAb8AAAAAAAGBzQAAAAAAAAGfAAAAAAACgaUAAAAAAAEB6QAAAAAAAgFrAAAAAAABwgkAAAAAAAABjQAAAAAAAoGlAAAAAAACAdkAAAAAAAEBnQAAAAAAAQGLAAAAAAADAYUAAAAAAAHCHQAAAAAAAgFlAAAAAAADgakAAAAAAAABeQAAAAAAAcHfAAAAAAACgbkAAAAAAAOBgQAAAAAAAAPh/AAAAAACQikAAAAAAAIBhQAAAAAAAAPh/AAAAAADAXEAAAAAAADCBQAAAAAAAIGdAAAAAAABAX8AAAAAAAMBcwAAAAAAAQGXAAAAAAACgeUAAAAAAAEBqQAAAAAAAgGbAAAAAAAAgckAAAAAAAJBwQAAAAAAAwHJAAAAAAABgY0AAAAAAAOBwQAAAAAAAAFlAAAAAAACAW8AAAAAAACBsQAAAAAAAgHZAAAAAAADQcUAAAAAAAEBfQAAAAAAAIGdAAAAAAABAZUAAAAAAAACJQAAAAAAAYHhAAAAAAADAckAAAAAAAMBiQAAAAAAAgFvAAAAAAABAekAAAAAAAOBgwAAAAAAAwFxAAAAAAADghUAAAAAAAAB0QAAAAAAAwIJAAAAAAADgcEAAAAAAAAB5QAAAAAAAcHJAAAAAAABAWsAAAAAAAEBlQAAAAAAAQHVAAAAAAABAZcAAAAAAACBiQAAAAAAAgFvAAAAAAACAYUAAAAAAAEBwQAAAAAAAgGtAAAAAAADgYEAAAAAAAGBtQAAAAAAAgGFAAAAAAABAcEAAAAAAAEBlwAAAAAAAgGFAAAAAAAAAWUAAAAAAAABuQAAAAAAAQGXAAAAAAAAAdEAAAAAAAMBswAAAAAAAQGDAAAAAAADAbMAAAAAAAMB3wAAAAAAAAGlAAAAAAAAgckAAAAAAAKBkQAAAAAAA4H9AAAAAAACAYUAAAAAAAMBiwAAAAAAAoGRAAAAAAACAW8AAAAAAAMBiQAAAAAAAgGFAAAAAAAAA+H8AAAAAAOBgQAAAAAAAQHVAAAAAAADAYkAAAAAAAKBkwAAAAAAAgFvAAAAAAADAZ8AAAAAAAMBcQAAAAAAAQFrAAAAAAACgaUAAAAAAAEBlQAAAAAAAwIJAAAAAAADAckAAAAAAAEBfQAAAAAAAQFpAAAAAAACAZkAAAAAAAGBjwAAAAAAAQHVAAAAAAABgY0AAAAAAAEBvwAAAAAAA4GDAAAAAAAAAXkAAAAAAACBnQAAAAAAAcIdAAAAAAABAdUAAAAAAAIBmQAAAAAAAMHvAAAAAAABAX0AAAAAAAGBzQAAAAAAAYGNAAAAAAADAbEAAAAAAAOBwQAAAAAAAgGtAAAAAAADghUAAAAAAAABkQAAAAAAAoGRAAAAAAAAAXkAAAAAAAIBxwAAAAAAA4GVAAAAAAADAXEAAAAAAAKB5QAAAAAAAIGdAAAAAAADgasAAAAAAAOBlQAAAAAAAoHnAAAAAAABAYEAAAAAAAMBiwAAAAAAAgHtAAAAAAACgZEAAAAAAAIBmwAAAAAAAAH5AAAAAAABAYMAAAAAAAHByQAAAAAAAwHdAAAAAAACAZkAAAAAAAEBqQAAAAAAAIGdAAAAAAACgbkAAAAAAAEBqwAAAAAAAQG9AAAAAAACAa0AAAAAAADBxQAAAAAAAwIJAAAAAAAAAdMAAAAAAAAB5QAAAAAAAQFpAAAAAAADAZ0AAAAAAAEB1wAAAAAAAgGZAAAAAAADgasAAAAAAAKB0wAAAAAAA4G9AAAAAAABwckAAAAAAAIBxwAAAAAAAUIRAAAAAAADgcEAAAAAAAKBkQAAAAAAAAF7AAAAAAACAZkAAAAAAAKBkQAAAAAAAwHxAAAAAAADAZ8AAAAAAAIBhQAAAAAAAQGVAAAAAAAAgfEAAAAAAAABZQAAAAAAAAF5AAAAAAADgZUAAAAAAAGBjwAAAAAAAgFvAAAAAAADAbEAAAAAAAEBlQAAAAAAAIHdAAAAAAADgdUAAAAAAAOB6QAAAAAAAAHlAAAAAAAAAbkAAAAAAAGBjwAAAAAAAQHDAAAAAAADAYkAAAAAAAKBpwAAAAAAAQGpAAAAAAABAZcAAAAAAAIBmQAAAAAAAQF/AAAAAAABAakAAAAAAAMBswAAAAAAAYGPAAAAAAABgY0AAAAAAADCBQAAAAAAA4GBAAAAAAABAekAAAAAAAGBjQAAAAAAAAGRAAAAAAAAAZEAAAAAAAMBcQAAAAAAAAGlAAAAAAABAWsAAAAAAAGBjwAAAAAAAoGnAAAAAAAAAbsAAAAAAAMBswAAAAAAAYGhAAAAAAADgcEAAAAAAADBxQAAAAAAAgHHAAAAAAABAakAAAAAAAKBuwAAAAAAAIHxAAAAAAACAYUAAAAAAAABkQAAAAAAAAGnAAAAAAADAbEAAAAAAAABZQAAAAAAAwGJAAAAAAABAWkAAAAAAAEBlQAAAAAAAgGtAAAAAAADAYkAAAAAAAGiAQAAAAAAAYGNAAAAAAACAa0AAAAAAAOB1QAAAAAAAAGlAAAAAAABAZUAAAAAAADB7QAAAAAAAIGxAAAAAAACAYcAAAAAAAABpwAAAAAAAAG7AAAAAAADAbEAAAAAAAGBjQAAAAAAA4GDAAAAAAABAYEAAAAAAACBnQAAAAAAAQG9AAAAAAACAW0AAAAAAAOBwQAAAAAAAQFrAAAAAAABAYMAAAAAAAIBrwAAAAAAAQGpAAAAAAADgYEAAAAAAAOB1QAAAAAAAQFpAAAAAAADAXMAAAAAAAIBbwAAAAAAAIGJAAAAAAABAZUAAAAAAAECPQAAAAAAAQFrAAAAAAADAZ0AAAAAAAGBjQAAAAAAAIHxAAAAAAAAgZ0AAAAAAAEBgQAAAAAAAAF7AAAAAAAAA+H8AAAAAACB8QAAAAAAA4GVAAAAAAAAAZEAAAAAAAJB6QAAAAAAA4GDAAAAAAADgYMAAAAAAAGBjQAAAAAAAMHtAAAAAAACgecAAAAAAAEBaQAAAAAAAYHNAAAAAAACgZEAAAAAAAMBiwAAAAAAAQFpAAAAAAABAZUAAAAAAADB7QAAAAAAAIGxAAAAAAADgYMAAAAAAADBxwAAAAAAAYGPAAAAAAABQhEAAAAAAAEBfwAAAAAAAwGLAAAAAAACAW8AAAAAAAAD4fwAAAAAAEHhAAAAAAAAAXkAAAAAAAIBbQAAAAAAAgHZAAAAAAADAbEAAAAAAACBiwAAAAAAA4GBAAAAAAACAZkAAAAAAAKBkQAAAAAAAAF7AAAAAAACAW0AAAAAAAKBuQAAAAAAAAGRAAAAAAACgdEAAAAAAAGBjQAAAAAAAgGFAAAAAAAAAbkAAAAAAAOBgwAAAAAAAoGTAAAAAAABgbcAAAAAAAKBkQAAAAAAAaIBAAAAAAADgakAAAAAAAIBhwAAAAAAAAG5AAAAAAADAXMAAAAAAAAB0QAAAAAAAQHBAAAAAAAAgbEAAAAAAAEBlwAAAAAAA4GBAAAAAAADgZUAAAAAAAGBoQAAAAAAA4HBAAAAAAADgcEAAAAAAAKBuQAAAAAAAgGFAAAAAAADgYEAAAAAAAABkwAAAAAAAoHRAAAAAAADgakAAAAAAAEBqwAAAAAAAAPh/AAAAAAAgbEAAAAAAAKBuQAAAAAAAAPh/AAAAAAAA+H8AAAAAAAD4fwAAAAAAAPh/AAAAAAAA+H8AAAAAAABkwAAAAAAAAG5AAAAAAACAW8AAAAAAAKB0QAAAAAAAQGpAAAAAAABAZUAAAAAAACBswAAAAAAAAF5AAAAAAADgYEAAAAAAAOBlQAAAAAAAYGPAAAAAAAAgYsAAAAAAAEBfwAAAAAAAIHJAAAAAAACAZkAAAAAAAIBhwAAAAAAAwGxAAAAAAACAYUAAAAAAAEBvQAAAAAAAwGdAAAAAAADAXEAAAAAAACBiQAAAAAAAAF5AAAAAAABAYMAAAAAAAEBgwAAAAAAAIGLAAAAAAACAW0AAAAAAAEBlQAAAAAAAIGJAAAAAAADgcEAAAAAAAIBrwAAAAAAAAGlAAAAAAABAb0AAAAAAAEBfQAAAAAAAAGRAAAAAAABAWkAAAAAAAABewAAAAAAAQF/AAAAAAABAYMAAAAAAAIBbwAAAAAAAIGJAAAAAAAAgcsAAAAAAACByQAAAAAAAsH1AAAAAAACAcUAAAAAAAEBfQAAAAAAAwHJAAAAAAACAcUAAAAAAAEBvQAAAAAAAAF7AAAAAAADAYkAAAAAAAOBlQAAAAAAAIGxAAAAAAAAAdEAAAAAAAMByQAAAAAAAwHJAAAAAAAAAbkAAAAAAAJB6QAAAAAAAQGpAAAAAAACAcUAAAAAAACBiQAAAAAAAIHJAAAAAAACAa0AAAAAAAAB0QAAAAAAAQF9AAAAAAADgb8AAAAAAAEBaQAAAAAAAYGhAAAAAAABgc0AAAAAAAOBqQAAAAAAAQGrAAAAAAADgYEAAAAAAAMBcwAAAAAAAQF/AAAAAAAAgbEAAAAAAAEBvQAAAAAAA0HbAAAAAAAAAdMAAAAAAAABeQAAAAAAAQG9AAAAAAACAa0AAAAAAAJB6QAAAAAAAQHBAAAAAAABAb0AAAAAAAEBgQAAAAAAAsH1AAAAAAAAgbEAAAAAAAOBgQAAAAAAAYG1AAAAAAABgY0AAAAAAAACJQAAAAAAAIHJAAAAAAACAZkAAAAAAAEBgQAAAAAAAEHhAAAAAAAAAZMAAAAAAAEBgQAAAAAAAwGJAAAAAAABAWkAAAAAAAPiBQAAAAAAAAGnAAAAAAABgY0AAAAAAAGBoQAAAAAAAIHxAAAAAAACgdEAAAAAAAMBiwAAAAAAAYGhAAAAAAABAWkAAAAAAAEBfQAAAAAAAAFlAAAAAAAAgfEAAAAAAAABpwAAAAAAAQGVAAAAAAABAX0AAAAAAAAB5QAAAAAAAQGVAAAAAAADgdUAAAAAAAABuQAAAAAAAQF9AAAAAAAAAacAAAAAAAABeQAAAAAAAwGJAAAAAAAAAXsAAAAAAAMBiQAAAAAAAwGJAAAAAAADAXMAAAAAAAIBhQAAAAAAAQF/AAAAAAACAW8AAAAAAAMBsQAAAAAAAQGVAAAAAAADAZ0AAAAAAAOBwQAAAAAAAQF9AAAAAAADgdcAAAAAAAABkwAAAAAAAoGTAAAAAAABgY8AAAAAAAGBoQAAAAAAAYGPAAAAAAABAZcAAAAAAAIBmQAAAAAAAYHNAAAAAAAAAWUAAAAAAAMCCQAAAAAAA4GVAAAAAAABgbUAAAAAAADB7QAAAAAAAAFlAAAAAAABAZMAAAAAAAEBaQAAAAAAAwFzAAAAAAAAggkAAAAAAAEBkQAAAAAAAAG5AAAAAAABAX0AAAAAAACBjQAAAAAAAQFxAAAAAAABgaEAAAAAAAIBbQAAAAAAAYG1AAAAAAACAZkAAAAAAADBxQAAAAAAAgGFAAAAAAABAZMAAAAAAAIBmQAAAAAAAQGfAAAAAAABAYEAAAAAAAABeQAAAAAAA4GTAAAAAAAAgZ0AAAAAAADB2QAAAAAAAMHHAAAAAAAAAXkAAAAAAAIBiwAAAAAAAgGdAAAAAAABgZ0AAAAAAAIBZQAAAAAAAQGBAAAAAAACAWsAAAAAAAABeQAAAAAAAwGDAAAAAAABgaEAAAAAAAHB3QAAAAAAAAGRAAAAAAADgasAAAAAAAIBbQAAAAAAAIGLAAAAAAAAAXEAAAAAAANBxQAAAAAAAQF/AAAAAAABwckAAAAAAAGBoQAAAAAAAYHhAAAAAAACAW0AAAAAAAMBaQAAAAAAAQF/AAAAAAAAAXMAAAAAAAABewAAAAAAAIGdAAAAAAABgaEAAAAAAAABpwAAAAAAAAGPAAAAAAABgY8AAAAAAAIBmQAAAAAAAoGlAAAAAAACgbkAAAAAAAPB0QAAAAAAAoGRAAAAAAABAcEAAAAAAAIB2QAAAAAAAAGTAAAAAAABAb8AAAAAAAGBjQAAAAAAAAGlAAAAAAADAZ0AAAAAAAEBqwAAAAAAAoGlAAAAAAABAYMAAAAAAAJBwQAAAAAAA4GBAAAAAAACAYUAAAAAAAEBvwAAAAAAAwGdAAAAAAAAAdEAAAAAAAKBuQAAAAAAAYGPAAAAAAAAAacAAAAAAAEBfQAAAAAAAwF9AAAAAAABAakAAAAAAAGBzQAAAAAAA4GDAAAAAAABgbUAAAAAAAMBaQAAAAAAAQGrAAAAAAABAZkAAAAAAAJB1QAAAAAAAQFrAAAAAAAAgfEAAAAAAAOBgwAAAAAAAoGRAAAAAAADgcEAAAAAAAEBvQAAAAAAAwGxAAAAAAADweUAAAAAAAIBbQAAAAAAAoG7AAAAAAABAf0AAAAAAANB2QAAAAAAAgGHAAAAAAADgYEAAAAAAAMBswAAAAAAAgGZAAAAAAABAZUAAAAAAAOBgwAAAAAAAQGBAAAAAAADgasAAAAAAACBhQAAAAAAAQFrAAAAAAABgYcAAAAAAAMBnwAAAAAAAYGhAAAAAAACAbEAAAAAAAMBlQAAAAAAAQGpAAAAAAABAdUAAAAAAAMBcwAAAAAAAAF5AAAAAAADAckAAAAAAAABZQAAAAAAAwGzAAAAAAAAQc8AAAAAAAPB0wAAAAAAAQFpAAAAAAABAYMAAAAAAAIBdwAAAAAAAgGLAAAAAAADAbMAAAAAAAIBbQAAAAAAAQGDAAAAAAAAAbkAAAAAAAOBjwAAAAAAAwHJAAAAAAADAckAAAAAAAMBcQAAAAAAAQF9AAAAAAABwd0AAAAAAAEBhQAAAAAAAIGJAAAAAAADgY8AAAAAAAGBjQAAAAAAAQF3AAAAAAAAAXkAAAAAAAEBfwAAAAAAAgFvAAAAAAADgZUAAAAAAACBnwAAAAAAAMHFAAAAAAAAgYUAAAAAAANBxQAAAAAAAgGFAAAAAAADAXEAAAAAAAABjwAAAAAAAwGfAAAAAAACQekAAAAAAAOBvQAAAAAAAQGVAAAAAAAAAZEAAAAAAAABcQAAAAAAAQGpAAAAAAADAXEAAAAAAAIBhQAAAAAAA8HTAAAAAAAAAZEAAAAAAAEBvQAAAAAAAIGxAAAAAAACQikAAAAAAAJBwwAAAAAAAwGJAAAAAAACgaUAAAAAAAEBgQAAAAAAAAF5AAAAAAADAbEAAAAAAAOBkwAAAAAAAgGFAAAAAAACgaUAAAAAAABBzwAAAAAAAcHJAAAAAAABAX8AAAAAAAGiAQAAAAAAAoHRAAAAAAAAgZ0AAAAAAAMBcQAAAAAAAAFtAAAAAAAAgZ0AAAAAAAABeQAAAAAAAQH9AAAAAAABAdkAAAAAAAFBxQAAAAAAAgHJAAAAAAABgYEAAAAAAAOBvQAAAAAAAgFvAAAAAAADAYkAAAAAAAEBlQAAAAAAAQG9AAAAAAABAYUAAAAAAAABpwAAAAAAAQG9AAAAAAAAgZUAAAAAAAOBqQAAAAAAA0HNAAAAAAAAgbEAAAAAAAAB5QAAAAAAAQGpAAAAAAACQcMAAAAAAAOBlwAAAAAAAAGRAAAAAAADAWUAAAAAAAIBeQAAAAAAAYHVAAAAAAAAgYcAAAAAAAABeQAAAAAAAwG5AAAAAAACAXMAAAAAAAOBiQAAAAAAAwGJAAAAAAADgYcAAAAAAAKBvQAAAAAAA4GTAAAAAAAAgbUAAAAAAAEBwQAAAAAAAwHJAAAAAAAAAWUAAAAAAAIBhQAAAAAAAoGlAAAAAAABAakAAAAAAAIBmQAAAAAAA8HTAAAAAAABgZ0AAAAAAAMBiQAAAAAAAQF/AAAAAAAAgYcAAAAAAAPB0wAAAAAAAQG/AAAAAAABgaEAAAAAAADBxQAAAAAAAYGxAAAAAAADgakAAAAAAAABpQAAAAAAAQGBAAAAAAADAYMAAAAAAAABcwAAAAAAAsHNAAAAAAACgZMAAAAAAACBiQAAAAAAAAG5AAAAAAADgbUAAAAAAAABmQAAAAAAAYGHAAAAAAACgdEAAAAAAAIBmQAAAAAAAIGHAAAAAAAAAXMAAAAAAAIBdwAAAAAAAAGRAAAAAAADAYkAAAAAAAABkQAAAAAAAwGLAAAAAAADQdEAAAAAAAIBnQAAAAAAAQGTAAAAAAAAAXEAAAAAAAEB1QAAAAAAAgGJAAAAAAACAdsAAAAAAAABkQAAAAAAAkHBAAAAAAADAWkAAAAAAAMBiQAAAAAAA8HTAAAAAAADAZsAAAAAAAIBbQAAAAAAAIGJAAAAAAADghUAAAAAAAABbQAAAAAAAgGtAAAAAAAAgZEAAAAAAAIBrQAAAAAAAwHJAAAAAAAAAdEAAAAAAAIBmQAAAAAAAAFzAAAAAAAAAWUAAAAAAAOBgQAAAAAAAYGhAAAAAAADgasAAAAAAAIBrQAAAAAAAAFxAAAAAAAAAXEAAAAAAAIBhQAAAAAAAwFxAAAAAAACwfUAAAAAAAMBnQAAAAAAAQGVAAAAAAADgZUAAAAAAAEB/QAAAAAAAQGVAAAAAAAAgYkAAAAAAAABcwAAAAAAAwGFAAAAAAABgaEAAAAAAAIBmQAAAAAAAYG1AAAAAAABgbUAAAAAAABBzwAAAAAAA4GpAAAAAAABAYUAAAAAAAFB0QAAAAAAAgGHAAAAAAACAYUAAAAAAAIBbQAAAAAAAAG7AAAAAAABAasAAAAAAAABewAAAAAAAIGfAAAAAAAAgZ8AAAAAAAABpQAAAAAAAoGNAAAAAAAAQc0AAAAAAANiDQAAAAAAAUH5AAAAAAABAX0AAAAAAACB8QAAAAAAAQFrAAAAAAADAXEAAAAAAAGBowAAAAAAAgFtAAAAAAABAakAAAAAAAIBbQAAAAAAAwHJAAAAAAADwdEAAAAAAAEBgwAAAAAAAMHFAAAAAAADAWcAAAAAAAIBbwAAAAAAAYGPAAAAAAADgakAAAAAAAIBgwAAAAAAAQFrAAAAAAABAZUAAAAAAAGBjwAAAAAAAgFvAAAAAAADwdEAAAAAAAABewAAAAAAAAGRAAAAAAABAWsAAAAAAAIBgwAAAAAAAwGJAAAAAAADAYsAAAAAAAGBzQAAAAAAAgGFAAAAAAACgbkAAAAAAAOBgQAAAAAAA8HRAAAAAAADAXEAAAAAAAKB0wAAAAAAA4GBAAAAAAADgYMAAAAAAACBnQAAAAAAAIGxAAAAAAABAZUAAAAAAALBzQAAAAAAAwGJAAAAAAACwc0AAAAAAAABcQAAAAAAAAG5AAAAAAABAZUAAAAAAAABjQAAAAAAA4GTAAAAAAADAXEAAAAAAAMByQAAAAAAAYGhAAAAAAAAAfkAAAAAAAOBgwAAAAAAAgFtAAAAAAABIgkAAAAAAAKBpQAAAAAAAwHdAAAAAAABAYMAAAAAAAMBsQAAAAAAAAF7AAAAAAADAXEAAAAAAAEBfwAAAAAAAAF7AAAAAAACAYcAAAAAAAOBlQAAAAAAAQGVAAAAAAACAa0AAAAAAAIBrwAAAAAAAYGPAAAAAAABgY0AAAAAAAMBsQAAAAAAAAFlAAAAAAADAYsAAAAAAAFB0QAAAAAAAMIFAAAAAAADQdkAAAAAAABCDQAAAAAAAIGdAAAAAAABAYEAAAAAAAAB0wAAAAAAAQFxAAAAAAAAAbkAAAAAAAMBcQAAAAAAAYHNAAAAAAABgaEAAAAAAAEBlwAAAAAAAQH9AAAAAAABAWkAAAAAAAIBbQAAAAAAAAF7AAAAAAAAwcUAAAAAAAEBaQAAAAAAAAF7AAAAAAADwicAAAAAAAAB0wAAAAAAAQFpAAAAAAADgYMAAAAAAAEBawAAAAAAA4GXAAAAAAACAXcAAAAAAAEBaQAAAAAAAAGlAAAAAAABAfkAAAAAAAABpQAAAAAAA4GNAAAAAAAAgYEAAAAAAAEBjwAAAAAAAoGRAAAAAAADQdkAAAAAAACBiQAAAAAAAcHdAAAAAAABAb0AAAAAAAHByQAAAAAAAIGJAAAAAAAAAZMAAAAAAACBswAAAAAAAQFpAAAAAAADgZUAAAAAAAEBfQAAAAAAAQHBAAAAAAABAYMAAAAAAAFB0QAAAAAAA4G/AAAAAAAAAeUAAAAAAAIBhQAAAAAAAAHRAAAAAAACQdUAAAAAAAOBgQAAAAAAAYGhAAAAAAACAa0AAAAAAAGBtQAAAAAAAwGxAAAAAAABAX0AAAAAAAOBwQAAAAAAAoGlAAAAAAADgYEAAAAAAAEBawAAAAAAAQFrAAAAAAABAZcAAAAAAAOBlwAAAAAAAgGZAAAAAAADAXEAAAAAAAEBawAAAAAAAAGTAAAAAAACQcEAAAAAAACBiQAAAAAAAQGBAAAAAAADAXEAAAAAAAKBuwAAAAAAAAF5AAAAAAABAZUAAAAAAAABpwAAAAAAAwGJAAAAAAAAgZ8AAAAAAAGB9QAAAAAAAwGLAAAAAAABgY8AAAAAAAEBvQAAAAAAA4GXAAAAAAABAX0AAAAAAAMBiwAAAAAAAAF5AAAAAAABgY0AAAAAAAKBuQAAAAAAAYGNAAAAAAAAAXkAAAAAAAEBqQAAAAAAAYHNAAAAAAABAYEAAAAAAAHB3QAAAAAAAAHnAAAAAAAAgYkAAAAAAAPB0QAAAAAAAgGZAAAAAAAAgfEAAAAAAAMBcwAAAAAAAYGPAAAAAAAAgYkAAAAAAAGBoQAAAAAAAIGLAAAAAAADweUAAAAAAAEBgQAAAAAAAQG9AAAAAAABQdEAAAAAAAEBawAAAAAAA4HDAAAAAAADAXMAAAAAAAABkwAAAAAAAwGdAAAAAAABQdEAAAAAAALBzQAAAAAAAkHpAAAAAAABAb8AAAAAAAKBkQAAAAAAAAHRAAAAAAABAWkAAAAAAAKBkQAAAAAAA4G/AAAAAAAAAZEAAAAAAAIBbwAAAAAAAAGTAAAAAAAAgcsAAAAAAAIBmQAAAAAAAAFlAAAAAAABAWsAAAAAAAABkwAAAAAAAoG5AAAAAAACgZEAAAAAAAEBfQAAAAAAA4IVAAAAAAABAakAAAAAAAEBfQAAAAAAAoGRAAAAAAAAgZ0AAAAAAACBiQAAAAAAAgGHAAAAAAABwd0AAAAAAAABewAAAAAAAgFtAAAAAAABAb0AAAAAAAEBgQAAAAAAAAHRAAAAAAAAAXsAAAAAAAIBhQAAAAAAAgGvAAAAAAACQekAAAAAAAMBcwAAAAAAAMHFAAAAAAACwc0AAAAAAADBxQAAAAAAA4HVAAAAAAACAYcAAAAAAAEBgQAAAAAAAAF5AAAAAAADAXMAAAAAAAEBqQAAAAAAA4GXAAAAAAABAWsAAAAAAAOBgwAAAAAAAAGRAAAAAAABAZcAAAAAAAABewAAAAAAAMHbAAAAAAABAZcAAAAAAAIBmQAAAAAAAgGZAAAAAAACAYUAAAAAAAEBqQAAAAAAAQFrAAAAAAABQfkAAAAAAAMByQAAAAAAAgGvAAAAAAABAcMAAAAAAAHB3QAAAAAAAQGVAAAAAAAAAfkAAAAAAAEBqQAAAAAAAgGZAAAAAAACgZEAAAAAAAJB1QAAAAAAAIHJAAAAAAACwc0AAAAAAAEBvQAAAAAAAIHJAAAAAAADwdEAAAAAAAEBaQAAAAAAAAF5AAAAAAAAAZEAAAAAAAMBnQAAAAAAAgGHAAAAAAAAAXkAAAAAAAMByQAAAAAAAoGTAAAAAAADghUAAAAAAAOBlQAAAAAAAaIBAAAAAAACAYUAAAAAAAIBmQAAAAAAA4GBAAAAAAADAXMAAAAAAAIBbQAAAAAAAQGDAAAAAAABAWkAAAAAAAMBcwAAAAAAAwGLAAAAAAADghUAAAAAAAPB0QAAAAAAAkHpAAAAAAACAa0AAAAAAAMCCQAAAAAAAAGnAAAAAAAAwgUAAAAAAAMBcQAAAAAAAUHRAAAAAAABAWkAAAAAAAMBcQAAAAAAAwGJAAAAAAADghUAAAAAAAIBbwAAAAAAAIGJAAAAAAABAf0AAAAAAAPB0QAAAAAAA4GDAAAAAAACgbkAAAAAAAABZQAAAAAAAcHdAAAAAAACAW0AAAAAAAKBpQAAAAAAAQFpAAAAAAABwfEAAAAAAAKBpQAAAAAAAQHBAAAAAAABAb0AAAAAAAKB0wAAAAAAAwGdAAAAAAADgdUAAAAAAAIBbwAAAAAAAQGBAAAAAAACAYcAAAAAAAEBgwAAAAAAAIHxAAAAAAACgZEAAAAAAAMBiwAAAAAAAQF9AAAAAAAAgckAAAAAAACBnQAAAAAAAgHRAAAAAAABgbUAAAAAAAEBvQAAAAAAAQGXAAAAAAAAgZ0AAAAAAAGBtQAAAAAAAwGLAAAAAAADAYkAAAAAAAGBjwAAAAAAAAF5AAAAAAAAwcUAAAAAAAMBcQAAAAAAAQGBAAAAAAADAZ8AAAAAAAGBjQAAAAAAAQHXAAAAAAAAAXsAAAAAAAABewAAAAAAAgGZAAAAAAAAAaUAAAAAAAEBlQAAAAAAA4G/AAAAAAABgY0AAAAAAAMBcQAAAAAAAMIFAAAAAAADAYkAAAAAAAABuwAAAAAAAQGBAAAAAAABAWsAAAAAAAOBgQAAAAAAA4GVAAAAAAAAAZMAAAAAAAJBwQAAAAAAAkHBAAAAAAABAasAAAAAAAHB3QAAAAAAAwGLAAAAAAACgeUAAAAAAAIB2QAAAAAAAQGpAAAAAAABAX0AAAAAAAMBsQAAAAAAAsHNAAAAAAACAa0AAAAAAAIBbwAAAAAAAQGVAAAAAAAAAWUAAAAAAAGBoQAAAAAAAwGdAAAAAAADgYMAAAAAAACBswAAAAAAAIGfAAAAAAACAW0AAAAAAACBswAAAAAAAcHdAAAAAAAAAaUAAAAAAAGBjQAAAAAAAgFvAAAAAAADgb8AAAAAAAKBuQAAAAAAA8HlAAAAAAABAX8AAAAAAAKBuQAAAAAAAAFlAAAAAAABAZcAAAAAAAEBgQAAAAAAAwFzAAAAAAAAgYkAAAAAAAOBwwAAAAAAAIGJAAAAAAACAW8AAAAAAAEBvQAAAAAAAQGVAAAAAAABAWkAAAAAAAIBhQAAAAAAAkHpAAAAAAACAYUAAAAAAAGiAwAAAAAAAoG5AAAAAAAAgYsAAAAAAAOBgQAAAAAAAYGNAAAAAAACgbkAAAAAAAABewAAAAAAAAF5AAAAAAACAcUAAAAAAAIBxQAAAAAAAkHpAAAAAAADgYMAAAAAAAJB6QAAAAAAAgGZAAAAAAADgdcAAAAAAAJB6QAAAAAAAwGJAAAAAAADAckAAAAAAANB7QAAAAAAAYGNAAAAAAABAZcAAAAAAAEBfQAAAAAAAQHBAAAAAAAAAXsAAAAAAAPB0QAAAAAAAAGnAAAAAAACAYUAAAAAAAHB3QAAAAAAAoGTAAAAAAAAAXkAAAAAAAFCEQAAAAAAAQGpAAAAAAADAZ0AAAAAAALBzQAAAAAAAkHBAAAAAAAAgfEAAAAAAABB9QAAAAAAAUHRAAAAAAABAf0AAAAAAANBxQAAAAAAAAF5AAAAAAABgaEAAAAAAAEBlQAAAAAAAgGFAAAAAAACAYUAAAAAAAKBkQAAAAAAAcHJAAAAAAABgY8AAAAAAAOBgwAAAAAAAQH9AAAAAAAAAZEAAAAAAAAB0wAAAAAAAQGVAAAAAAAAAeUAAAAAAAHB3QAAAAAAAIGJAAAAAAADAZ0AAAAAAAGBtQAAAAAAAgGHAAAAAAACAYUAAAAAAAFCEQAAAAAAAQI9AAAAAAAAgYsAAAAAAAOB1QAAAAAAAIGJAAAAAAAA4iEAAAAAAANCBQAAAAAAAIHxAAAAAAADgekAAAAAAAKB+QAAAAAAAkHpAAAAAAADAXMAAAAAAAIB2QAAAAAAAIIxAAAAAAABAYEAAAAAAAIBbwAAAAAAAwGJAAAAAAADgZUAAAAAAAEBqwAAAAAAA4GXAAAAAAACAW8AAAAAAAIBhwAAAAAAAAF7AAAAAAADgYMAAAAAAADiIQAAAAAAAoHTAAAAAAABAZUAAAAAAAABeQAAAAAAAcHJAAAAAAAAAZEAAAAAAAABpQAAAAAAAwFzAAAAAAABAWkAAAAAAAIBxQAAAAAAA4GVAAAAAAABAX8AAAAAAAGBtQAAAAAAAAFlAAAAAAABwd0AAAAAAAABewAAAAAAAQHBAAAAAAACAW8AAAAAAAEBgQAAAAAAAcHdAAAAAAABgaEAAAAAAAABpwAAAAAAAwFzAAAAAAACgZEAAAAAAAOBlQAAAAAAAAGTAAAAAAACgZEAAAAAAAEBawAAAAAAAgFvAAAAAAABAWsAAAAAAAOBgwAAAAAAAQGXAAAAAAAAAXkAAAAAAAMBiQAAAAAAAQFrAAAAAAADAYsAAAAAAAIBbQAAAAAAAwGLAAAAAAADgYMAAAAAAAEBfQAAAAAAAsHNAAAAAAACAW0AAAAAAAIBrwAAAAAAAIGLAAAAAAACgaUAAAAAAAKBuQAAAAAAAwGfAAAAAAADAYkAAAAAAAGBtQAAAAAAAQF9AAAAAAADAbEAAAAAAAFB0QAAAAAAAgGZAAAAAAAAAZEAAAAAAAOBlQAAAAAAAgHZAAAAAAADAgkAAAAAAAGiAQAAAAAAAoGlAAAAAAAAAecAAAAAAAABkwAAAAAAAYGPAAAAAAAAAdEAAAAAAAGBoQAAAAAAAgGRAAAAAAAAgYkAAAAAAAGBoQAAAAAAAUHTAAAAAAABAf0AAAAAAAIBrQAAAAAAAIGxAAAAAAABAYEAAAAAAACBiwAAAAAAAAGRAAAAAAAAAXsAAAAAAAABuQAAAAAAAQG9AAAAAAABgbUAAAAAAAKBuQAAAAAAAAGTAAAAAAABAWsAAAAAAAEBgQAAAAAAAQGXAAAAAAAAgYkAAAAAAAEBlQAAAAAAAQFpAAAAAAACgaUAAAAAAAKBkwAAAAAAA4GVAAAAAAABgfUAAAAAAAJB1QAAAAAAAYH1AAAAAAACAW8AAAAAAAEBawAAAAAAAQH9AAAAAAACgZEAAAAAAAMBcwAAAAAAAkHVAAAAAAACgZEAAAAAAAIBbQAAAAAAAQHDAAAAAAAAAicAAAAAAAFCEQAAAAAAAQF9AAAAAAACAYUAAAAAAAIBbwAAAAAAA4GpAAAAAAABAakAAAAAAAIBrwAAAAAAAgGZAAAAAAAAAXsAAAAAAAIBbwAAAAAAA4GVAAAAAAACQc0AAAAAAAOBlQAAAAAAAIGLAAAAAAACAcUAAAAAAACBnwAAAAAAAYG1AAAAAAAAgYsAAAAAAAEBvQAAAAAAAQGVAAAAAAACAW8AAAAAAAIBhQAAAAAAAAGTAAAAAAACgbsAAAAAAAOCFQAAAAAAAAFlAAAAAAABAZcAAAAAAAMBnwAAAAAAA4GpAAAAAAACgacAAAAAAAABpQAAAAAAAAFlAAAAAAABAYMAAAAAAAIBhwAAAAAAAAF5AAAAAAACQekAAAAAAAKBkQAAAAAAA4GBAAAAAAABAYMAAAAAAABBzQAAAAAAAQGXAAAAAAADQcUAAAAAAAMBswAAAAAAA4GBAAAAAAACAYcAAAAAAAMBcQAAAAAAAoG5AAAAAAACgZMAAAAAAAGiAQAAAAAAAQGrAAAAAAADAY0AAAAAAAKBuQAAAAAAAwGfAAAAAAACQcEAAAAAAAKB0QAAAAAAAwGfAAAAAAABgY0AAAAAAAKBkQAAAAAAA4GBAAAAAAAAgYsAAAAAAAIBxQAAAAAAAQF9AAAAAAADgYEAAAAAAACBiwAAAAAAAgGFAAAAAAACAYUAAAAAAAOBgQAAAAAAAQF9AAAAAAABwd0AAAAAAAEBfwAAAAAAAwGfAAAAAAADgZcAAAAAAAIBrQAAAAAAAQHBAAAAAAABAZcAAAAAAAEBqQAAAAAAAgFtAAAAAAABAWsAAAAAAAPB5QAAAAAAAwGdAAAAAAADgZUAAAAAAAMBnQAAAAAAAwGfAAAAAAABAZUAAAAAAAIBhwAAAAAAAAHlAAAAAAADAcsAAAAAAAIBhQAAAAAAAQGpAAAAAAABAb0AAAAAAAABeQAAAAAAA4G9AAAAAAABgfUAAAAAAAKBuQAAAAAAA4HrAAAAAAACAW8AAAAAAACByQAAAAAAAYHNAAAAAAABgbkAAAAAAAKBkQAAAAAAA4G/AAAAAAACgZEAAAAAAAGBjwAAAAAAAYGNAAAAAAABAX8AAAAAAAOBgQAAAAAAA4GXAAAAAAACAZkAAAAAAAIBbwAAAAAAAEHhAAAAAAACAW0AAAAAAAKB0QAAAAAAAwGdAAAAAAAAgYsAAAAAAACBsQAAAAAAAIHxAAAAAAADAYsAAAAAAAIBmQAAAAAAAcHJAAAAAAACgbkAAAAAAAFCEQAAAAAAA4GVAAAAAAADgb8AAAAAAAEBaQAAAAAAAMIHAAAAAAACQdUAAAAAAAEBlQAAAAAAA4GBAAAAAAADwdEAAAAAAAIBbwAAAAAAAQGBAAAAAAADgb8AAAAAAAABewAAAAAAAAHlAAAAAAADwdEAAAAAAAPB0QAAAAAAAUIRAAAAAAABwd0AAAAAAACBiwAAAAAAAUHRAAAAAAACAYcAAAAAAAEBawAAAAAAAAHTAAAAAAADAgsAAAAAAAIBbQAAAAAAAgFtAAAAAAABAcEAAAAAAAEBqQAAAAAAAoGRAAAAAAAAgfEAAAAAAAAB0QAAAAAAAQGpAAAAAAADgZcAAAAAAAOBlwAAAAAAAgFtAAAAAAAAgYkAAAAAAAGBjQAAAAAAAoGlAAAAAAAAAXsAAAAAAAIBmQAAAAAAAAIlAAAAAAADgYEAAAAAAAMBcwAAAAAAAQGDAAAAAAAAgZ8AAAAAAAGBjwAAAAAAAQGrAAAAAAAAAZEAAAAAAAEB/QAAAAAAAAHlAAAAAAABAX0AAAAAAAKBkQAAAAAAAIHJAAAAAAABAZcAAAAAAACByQAAAAAAAIGdAAAAAAABgaEAAAAAAACBsQAAAAAAAkHpAAAAAAACAYUAAAAAAAKBpQAAAAAAAQGpAAAAAAAAgckAAAAAAAEBawAAAAAAAoGRAAAAAAACAcUAAAAAAAJB6QAAAAAAAcHdAAAAAAACQdcAAAAAAACBiwAAAAAAAAGTAAAAAAADgb0AAAAAAAOB1wAAAAAAAwFxAAAAAAABAWkAAAAAAADB7QAAAAAAAQHBAAAAAAABgbUAAAAAAAEBqQAAAAAAAQF9AAAAAAAAwcUAAAAAAAIB7QAAAAAAAQGrAAAAAAADgZUAAAAAAAEBlQAAAAAAAAG5AAAAAAADAY0AAAAAAACBsQAAAAAAAQHDAAAAAAADAY0AAAAAAAIBrQAAAAAAAQG9AAAAAAABgfcAAAAAAAMBcQAAAAAAAIGJAAAAAAABQfkAAAAAAAMBiwAAAAAAAYG1AAAAAAAAgYkAAAAAAAKBkQAAAAAAAQFrAAAAAAAAAXkAAAAAAAIBbwAAAAAAAAHRAAAAAAAAgfEAAAAAAAPB0QAAAAAAAgGFAAAAAAABQdEAAAAAAAEBaQAAAAAAAAG5AAAAAAACgbkAAAAAAAOBwQAAAAAAAwGLAAAAAAADghUAAAAAAAEBgwAAAAAAA4GBAAAAAAABQdEAAAAAAAABeQAAAAAAAoHTAAAAAAACQekAAAAAAAIBhwAAAAAAAAG5AAAAAAABAYMAAAAAAAIB2QAAAAAAAoG5AAAAAAADgakAAAAAAAMBcwAAAAAAAoG5AAAAAAADAXEAAAAAAAEBfQAAAAAAAMHFAAAAAAABAWsAAAAAAAJB6QAAAAAAAAF7AAAAAAABgY0AAAAAAAGBjwAAAAAAAUHRAAAAAAADgYEAAAAAAAIBhQAAAAAAAQGrAAAAAAABAZUAAAAAAAEBvQAAAAAAAgGHAAAAAAACAW0AAAAAAAGBjQAAAAAAAwGLAAAAAAABAX0AAAAAAAABeQAAAAAAAQGBAAAAAAADAXMAAAAAAAEBgwAAAAAAAwFzAAAAAAAAwgUAAAAAAAGBzQAAAAAAAYG1AAAAAAABAb0AAAAAAAABewAAAAAAAIHxAAAAAAADAZ0AAAAAAAIB2QAAAAAAA8ITAAAAAAABgY0AAAAAAAEBvQAAAAAAAMIFAAAAAAAAgckAAAAAAAEBfwAAAAAAA0HNAAAAAAAAAZEAAAAAAAEBfQAAAAAAAgFvAAAAAAACAW0AAAAAAAABewAAAAAAAQF/AAAAAAAAgckAAAAAAAABeQAAAAAAAAF5AAAAAAADAYkAAAAAAAOBgQAAAAAAAwGfAAAAAAADAZ0AAAAAAAEBfQAAAAAAAAFlAAAAAAACAcUAAAAAAACBiwAAAAAAAAGVAAAAAAABgc8AAAAAAAMBiQAAAAAAAQFpAAAAAAABAb0AAAAAAAEBvQAAAAAAAYG3AAAAAAAAAZEAAAAAAAEBqQAAAAAAA4HVAAAAAAABQdEAAAAAAAKBkQAAAAAAAwGdAAAAAAABAYEAAAAAAAEBlQAAAAAAAwGdAAAAAAADAgkAAAAAAAGBkQAAAAAAA4GBAAAAAAACgZEAAAAAAAMBsQAAAAAAAQGBAAAAAAAAAXsAAAAAAAMBnwAAAAAAAwGLAAAAAAAAAXkAAAAAAAIBbwAAAAAAAgHFAAAAAAABAb0AAAAAAANB2QAAAAAAAQGBAAAAAAABAYMAAAAAAAABeQAAAAAAAoG5AAAAAAABgY8AAAAAAAOB6QAAAAAAAQHDAAAAAAABAZUAAAAAAAEBfQAAAAAAAQGBAAAAAAADAYkAAAAAAACBnQAAAAAAAgGZAAAAAAABQdEAAAAAAAJBwQAAAAAAA0HFAAAAAAABAWkAAAAAAAGBjwAAAAAAAoGTAAAAAAADAcsAAAAAAAIBbwAAAAAAAwFzAAAAAAABAWsAAAAAAAMB8QAAAAAAAAGlAAAAAAAAgYkAAAAAAAOBgQAAAAAAAkHpAAAAAAACAa0AAAAAAAKBkQAAAAAAAgHtAAAAAAABAZcAAAAAAAEBqwAAAAAAAQF/AAAAAAADAXEAAAAAAAEBfQAAAAAAAAGTAAAAAAABQhEAAAAAAAGB9QAAAAAAA8HRAAAAAAADgYEAAAAAAAIBbwAAAAAAAwFzAAAAAAADgZUAAAAAAAMBiwAAAAAAAoGTAAAAAAACAe0AAAAAAAIBxQAAAAAAAAF7AAAAAAABAYEAAAAAAAABewAAAAAAAAG5AAAAAAAAgYsAAAAAAAEBfQAAAAAAAIGxAAAAAAACAW0AAAAAAAIBmQAAAAAAAkHpAAAAAAABAYEAAAAAAAIBbQAAAAAAAQH9AAAAAAADAYkAAAAAAADBxQAAAAAAAQGDAAAAAAAAAacAAAAAAAABpQAAAAAAAgGFAAAAAAACAdkAAAAAAAOBgwAAAAAAAIGJAAAAAAADgZUAAAAAAAMBsQAAAAAAAIHJAAAAAAABAX0AAAAAAAABpQAAAAAAA8HRAAAAAAADweUAAAAAAAEBwQAAAAAAAAF5AAAAAAADwdEAAAAAAADBxQAAAAAAAQG9AAAAAAABgY0AAAAAAAIBbwAAAAAAAQGDAAAAAAABgbUAAAAAAAEBgQAAAAAAAAF5AAAAAAADAZ0AAAAAAAOBwQAAAAAAAwFzAAAAAAAAAaUAAAAAAAMBcQAAAAAAAwHJAAAAAAADgakAAAAAAACB8QAAAAAAAIGLAAAAAAAAAaUAAAAAAAEBqQAAAAAAAgGZAAAAAAACAZkAAAAAAAEBfwAAAAAAAMIFAAAAAAACgbsAAAAAAAEBfwAAAAAAAAGTAAAAAAACAa0AAAAAAAEBlwAAAAAAAkHVAAAAAAACAYcAAAAAAAHByQAAAAAAA8HRAAAAAAABgeEAAAAAAAKBuQAAAAAAAoG5AAAAAAACAW0AAAAAAAIBhQAAAAAAAYHNAAAAAAACAZkAAAAAAAOBgwAAAAAAAIGJAAAAAAABAWsAAAAAAAOBvQAAAAAAAQF9AAAAAAABgeEAAAAAAAIBbQAAAAAAAQGpAAAAAAADgYEAAAAAAACBsQAAAAAAAQF/AAAAAAACQc0AAAAAAAMBiQAAAAAAAwFxAAAAAAABwd0AAAAAAAEBawAAAAAAAgGZAAAAAAABgaEAAAAAAAEBawAAAAAAAYGhAAAAAAACAa0AAAAAAALBzQAAAAAAAwGxAAAAAAABQdMAAAAAAAABkQAAAAAAAYGhAAAAAAAAAXkAAAAAAAIBbwAAAAAAAQFrAAAAAAAAgYsAAAAAAAEBaQAAAAAAAQHBAAAAAAABAYMAAAAAAAIBhwAAAAAAAAG5AAAAAAADAkkAAAAAAAABkwAAAAAAAIHJAAAAAAADAckAAAAAAAGBtQAAAAAAAQF9AAAAAAABgbcAAAAAAAABewAAAAAAAAGlAAAAAAABQdEAAAAAAAEBlQAAAAAAAQHBAAAAAAAAgYkAAAAAAAEBqQAAAAAAAIHxAAAAAAADAbEAAAAAAAMBcQAAAAAAA4H9AAAAAAACAcUAAAAAAAJBwQAAAAAAAgFvAAAAAAAAgZ0AAAAAAAHByQAAAAAAAoGRAAAAAAAAgZ8AAAAAAAABZQAAAAAAAIGdAAAAAAACAYUAAAAAAAFCEQAAAAAAAQFrAAAAAAAAAeUAAAAAAACBiwAAAAAAAQGBAAAAAAAAAZMAAAAAAAIBbwAAAAAAAwGJAAAAAAABAcEAAAAAAAMBcQAAAAAAAQGBAAAAAAABAX8AAAAAAAFB+wAAAAAAAgFvAAAAAAADAYkAAAAAAAIBbQAAAAAAAwFzAAAAAAABAb0AAAAAAAEBqQAAAAAAAwFzAAAAAAABAb0AAAAAAAOBlwAAAAAAAIGfAAAAAAACgZEAAAAAAAEBvQAAAAAAAcIdAAAAAAAAAZEAAAAAAAMByQAAAAAAAgHFAAAAAAACAW8AAAAAAAIBbwAAAAAAAQFrAAAAAAADAbEAAAAAAABBzQAAAAAAAgHZAAAAAAABwckAAAAAAACBnQAAAAAAAAGRAAAAAAADAXEAAAAAAAOBvQAAAAAAAQFrAAAAAAADwdEAAAAAAAPB0QAAAAAAAQH9AAAAAAABgY8AAAAAAAIBbQAAAAAAAwFzAAAAAAAAgfEAAAAAAAEBqQAAAAAAAIGxAAAAAAABgY0AAAAAAAKBuQAAAAAAA4GBAAAAAAADAYkAAAAAAAMBiwAAAAAAAcHdAAAAAAAAAaUAAAAAAAKBuQAAAAAAA4GpAAAAAAACAZkAAAAAAAABkwAAAAAAAQFrAAAAAAACAa0AAAAAAAGBjwAAAAAAAIHxAAAAAAACAZkAAAAAAAMBiwAAAAAAAIGJAAAAAAADAYkAAAAAAAKBkwAAAAAAAAF5AAAAAAAAAaUAAAAAAAABeQAAAAAAAQF/AAAAAAACAdkAAAAAAAGB4QAAAAAAAoG5AAAAAAABAX8AAAAAAAFCEwAAAAAAAIGJAAAAAAADAXEAAAAAAAGBtQAAAAAAAQF/AAAAAAACAYcAAAAAAAIBmQAAAAAAAQF9AAAAAAACAYcAAAAAAAFCEQAAAAAAAoHRAAAAAAABgfUAAAAAAAMBiQAAAAAAAgGFAAAAAAABwckAAAAAAAMByQAAAAAAAwGdAAAAAAAAwgUAAAAAAAEBqQAAAAAAAQF/AAAAAAACgdMAAAAAAAIBhwAAAAAAAgFtAAAAAAACgdMAAAAAAAOB1QAAAAAAAwGdAAAAAAABAYEAAAAAAAOBgwAAAAAAA6IxAAAAAAACgbkAAAAAAAFCEQAAAAAAAoG7AAAAAAADgcMAAAAAAAPB0QAAAAAAAUHRAAAAAAACAW0AAAAAAAOBwQAAAAAAA8HlAAAAAAADweUAAAAAAAABuQAAAAAAAQGDAAAAAAAAAaUAAAAAAAIBbQAAAAAAAkHpAAAAAAAAAXsAAAAAAAOBgQAAAAAAA4GpAAAAAAADgYMAAAAAAAIBxQAAAAAAAwGxAAAAAAABAYMAAAAAAAKBuQAAAAAAAQGXAAAAAAADQcUAAAAAAAPB0QAAAAAAAAGlAAAAAAABgc8AAAAAAABBzQAAAAAAAQFrAAAAAAADgekAAAAAAAOBgQAAAAAAAaIBAAAAAAABAj0AAAAAAAIB7wAAAAAAAYG3AAAAAAABAX8AAAAAAAOBqQAAAAAAAAGnAAAAAAABAZcAAAAAAAEBlQAAAAAAAAGTAAAAAAABAb8AAAAAAADB7QAAAAAAAgGHAAAAAAACwc0AAAAAAAKBpQAAAAAAA4HVAAAAAAABAcEAAAAAAAMBcQAAAAAAA8HdAAAAAAABAX8AAAAAAAEBaQAAAAAAAMJFAAAAAAADAZ0AAAAAAAOBlQAAAAAAAIHzAAAAAAABgY0AAAAAAACBnwAAAAAAAgHZAAAAAAAAAaUAAAAAAAIBxQAAAAAAAQGpAAAAAAACAYcAAAAAAAEBlQAAAAAAAQGVAAAAAAADgYEAAAAAAAOBvQAAAAAAAAF5AAAAAAABAdUAAAAAAAMBcQAAAAAAAUIRAAAAAAADAZ0AAAAAAAFB0QAAAAAAAIGdAAAAAAABAX0AAAAAAAGBoQAAAAAAAgGHAAAAAAACAYUAAAAAAAABeQAAAAAAAwGfAAAAAAADgakAAAAAAANBxQAAAAAAAAHlAAAAAAAAgbEAAAAAAAAB5QAAAAAAA4GDAAAAAAACAYcAAAAAAAABpQAAAAAAAIGfAAAAAAABAZUAAAAAAAOBlwAAAAAAAAF7AAAAAAABAakAAAAAAAKBkwAAAAAAAQGXAAAAAAABAYEAAAAAAAFCEQAAAAAAAwGJAAAAAAABgY0AAAAAAAEBfQAAAAAAAQHVAAAAAAACgZEAAAAAAAMCCQAAAAAAAYHNAAAAAAABAYEAAAAAAAABuQAAAAAAAgGFAAAAAAABgaEAAAAAAAIBxwAAAAAAAAHlAAAAAAADgZcAAAAAAAGBoQAAAAAAAyIlAAAAAAACAYcAAAAAAAOBvwAAAAAAAoGTAAAAAAADAbEAAAAAAAEBfQAAAAAAAQFrAAAAAAADAYkAAAAAAAOBlQAAAAAAAQGXAAAAAAAAgckAAAAAAADBxwAAAAAAA4G/AAAAAAADAXMAAAAAAAMBiQAAAAAAA8HRAAAAAAABAf0AAAAAAAGiAQAAAAAAAMIFAAAAAAADgZUAAAAAAAAB5QAAAAAAAAHlAAAAAAACQekAAAAAAADCBQAAAAAAA4GDAAAAAAABgY8AAAAAAAIBhwAAAAAAAAF5AAAAAAABgaEAAAAAAAIBbwAAAAAAAgGZAAAAAAABAb8AAAAAAAACEQAAAAAAAwGJAAAAAAABAX0AAAAAAAIBbwAAAAAAAgGtAAAAAAADgasAAAAAAAPB0QAAAAAAAgHFAAAAAAADgZUAAAAAAAGBtQAAAAAAAaJBAAAAAAADAXMAAAAAAAABeQAAAAAAAAF7AAAAAAADAbMAAAAAAAMBcQAAAAAAAkHpAAAAAAABAYEAAAAAAANB2QAAAAAAA8HRAAAAAAABQdEAAAAAAAKBpQAAAAAAAQGBAAAAAAAAAXsAAAAAAACBnwAAAAAAAwFzAAAAAAADQdkAAAAAAAABkwAAAAAAAaIBAAAAAAAAwgUAAAAAAAFB0wAAAAAAAQGVAAAAAAADgakAAAAAAAMBiQAAAAAAAQHVAAAAAAACgdEAAAAAAABBzQAAAAAAAgHFAAAAAAADggEAAAAAAAEBgQAAAAAAAwGxAAAAAAACAa0AAAAAAANCBQAAAAAAAwFzAAAAAAAAAacAAAAAAAKBuwAAAAAAAAG5AAAAAAACgZMAAAAAAAAB5QAAAAAAAKIRAAAAAAADAXMAAAAAAADiIQAAAAAAAoGTAAAAAAABAakAAAAAAAABewAAAAAAAgGtAAAAAAABAZUAAAAAAAOBwQAAAAAAA4GXAAAAAAABAX0AAAAAAAKBkQAAAAAAA4GXAAAAAAACAW0AAAAAAAJCKQAAAAAAAqIZAAAAAAADgesAAAAAAAOBqwAAAAAAAOIhAAAAAAADgYMAAAAAAAACJQAAAAAAAQGXAAAAAAACwc0AAAAAAAGBjQAAAAAAAwFxAAAAAAAAgZkAAAAAAAMBcQAAAAAAAAF5AAAAAAAAgfEAAAAAAAEBlQAAAAAAA0IFAAAAAAAAgZ0AAAAAAABiFQAAAAAAAAIlAAAAAAABQdEAAAAAAACBiQAAAAAAAAHlAAAAAAACwfcAAAAAAAOBlwAAAAAAAMHZAAAAAAABAb0AAAAAAACBnQAAAAAAAAH5AAAAAAABAakAAAAAAACBnQAAAAAAAgFvAAAAAAACAYcAAAAAAANBxQAAAAAAAuIBAAAAAAACYgkAAAAAAAABpQAAAAAAA0HFAAAAAAAAAeUAAAAAAANBxQAAAAAAAcHJAAAAAAACohkAAAAAAADB7QAAAAAAAwGfAAAAAAACAa0AAAAAAAABkQAAAAAAAwHdAAAAAAACgZEAAAAAAAEBqQAAAAAAA4G9AAAAAAACAW8AAAAAAAMB3QAAAAAAAoGTAAAAAAABgbUAAAAAAAEBqQAAAAAAAYG3AAAAAAACQcEAAAAAAACB8QAAAAAAAQF9AAAAAAAAgbMAAAAAAAEB1QAAAAAAA4GrAAAAAAABgeEAAAAAAAEBgwAAAAAAAgGFAAAAAAADgb0AAAAAAAEBfwAAAAAAAgHRAAAAAAAAgfEAAAAAAACBnwAAAAAAA4GRAAAAAAABAekAAAAAAAIBrwAAAAAAAIGdAAAAAAAAAXkAAAAAAAABpQAAAAAAAwIFAAAAAAACAdkAAAAAAAMB3QAAAAAAAAHlAAAAAAAAgckAAAAAAAIBxQAAAAAAAwHdAAAAAAADAgkAAAAAAAABZQAAAAAAAIHxAAAAAAABgeEAAAAAAAIBbQAAAAAAAgGdAAAAAAABAcEAAAAAAAEBgQAAAAAAAgGFAAAAAAAAAbkAAAAAAAPiRQAAAAAAAQF9AAAAAAABgaEAAAAAAALB9QAAAAAAAIHJAAAAAAABgY8AAAAAAAIBbQAAAAAAAkH9AAAAAAAAgYkAAAAAAAIBxQAAAAAAA4GpAAAAAAADggEAAAAAAAOBgQAAAAAAA4IBAAAAAAABAX0AAAAAAAOBqQAAAAAAAwGdAAAAAAABAWsAAAAAAANBxQAAAAAAAAFlAAAAAAAAAXkAAAAAAAEBlQAAAAAAAQF/AAAAAAABAZUAAAAAAAIBfwAAAAAAAQGrAAAAAAABAb8AAAAAAAEB/QAAAAAAAQGVAAAAAAAAwe0AAAAAAACCMQAAAAAAAoG5AAAAAAADgYEAAAAAAAEBaQAAAAAAA4GBAAAAAAACIg0AAAAAAAMBcQAAAAAAAYGPAAAAAAAAgYsAAAAAAAIBhwAAAAAAAkHVAAAAAAAAQc0AAAAAAAOBqQAAAAAAAwGdAAAAAAADAYsAAAAAAACBswAAAAAAAwGfAAAAAAACgaUAAAAAAAEBlQAAAAAAAsHPAAAAAAAAgZ0AAAAAAAEBfQAAAAAAAAHTAAAAAAAAAfkAAAAAAAMBcQAAAAAAAcHJAAAAAAADggEAAAAAAAICBQAAAAAAAoIRAAAAAAACgeUAAAAAAAJBwQAAAAAAAIGJAAAAAAAAAXkAAAAAAAKBuwAAAAAAAgGtAAAAAAABAcEAAAAAAAOBwQAAAAAAAsHNAAAAAAADgZcAAAAAAAGBjQAAAAAAAIGfAAAAAAACwfUAAAAAAAKB0QAAAAAAAoG5AAAAAAABAZUAAAAAAAHB3QAAAAAAAwGzAAAAAAADAbMAAAAAAAEBlQAAAAAAA4IVAAAAAAADgb0AAAAAAANCBQAAAAAAAQF/AAAAAAABAZcAAAAAAAKBpQAAAAAAAQG9AAAAAAAAAb0AAAAAAAABvQAAAAAAAwGLAAAAAAADAZEAAAAAAAABpwAAAAAAAoHlAAAAAAABAYEAAAAAAAMBsQAAAAAAAYGNAAAAAAADAXEAAAAAAAEBwQAAAAAAAgFtAAAAAAACgbkAAAAAAAICBQAAAAAAAQFpAAAAAAABgY0AAAAAAAMBiwAAAAAAAYGNAAAAAAADgYMAAAAAAAIBrwAAAAAAAQFrAAAAAAACgaUAAAAAAAEBgwAAAAAAAAH5AAAAAAADgb0AAAAAAACBsQAAAAAAAgGFAAAAAAACAcUAAAAAAALiAQAAAAAAAUHlAAAAAAAAwe0AAAAAAAHByQAAAAAAAIHJAAAAAAACAYUAAAAAAAJBwQAAAAAAAQGBAAAAAAABAWsAAAAAAAMBiwAAAAAAAaIBAAAAAAAAAZEAAAAAAAOBgQAAAAAAAgGFAAAAAAADQcUAAAAAAAAB0QAAAAAAAQGBAAAAAAADAbMAAAAAAAEBlwAAAAAAAEHPAAAAAAACAcUAAAAAAACBiwAAAAAAAYGPAAAAAAADAZ0AAAAAAAEBwQAAAAAAAYHhAAAAAAAAAiUAAAAAAAEBlQAAAAAAA4GDAAAAAAAAAeUAAAAAAACBiQAAAAAAAAHRAAAAAAAAAWUAAAAAAAIBrwAAAAAAAQGVAAAAAAABAZcAAAAAAAHB6QAAAAAAAoG5AAAAAAACQcEAAAAAAAHB3QAAAAAAAIGJAAAAAAABAYEAAAAAAAEBwQAAAAAAAAGnAAAAAAABgY8AAAAAAAJCKQAAAAAAAoG5AAAAAAADggEAAAAAAACBiQAAAAAAA4IBAAAAAAADgakAAAAAAAEBqQAAAAAAA0HFAAAAAAABAYEAAAAAAAOBvwAAAAAAA4G9AAAAAAAAQfUAAAAAAACBywAAAAAAAsHPAAAAAAABAZUAAAAAAACBnwAAAAAAAsHPAAAAAAACAdEAAAAAAADB7QAAAAAAAAGRAAAAAAAAAbkAAAAAAACB8QAAAAAAAgGFAAAAAAAAAiUAAAAAAAOBvQAAAAAAAkHVAAAAAAAAgbEAAAAAAAEBwQAAAAAAAQFpAAAAAAABAekAAAAAAAFB0QAAAAAAAwIJAAAAAAABAcEAAAAAAAGBjQAAAAAAAgGFAAAAAAAAAb0AAAAAAAEBqQAAAAAAAEHPAAAAAAADAZ0AAAAAAADB7QAAAAAAAIIxAAAAAAABwgkAAAAAAAABkwAAAAAAAIGJAAAAAAABgaEAAAAAAAIBbwAAAAAAA4GrAAAAAAAAQc0AAAAAAAMCCQAAAAAAAAGRAAAAAAABAX8AAAAAAAIBhQAAAAAAAIGdAAAAAAAAgYsAAAAAAAIBxQAAAAAAAQHBAAAAAAAAAZEAAAAAAAABowAAAAAAAAHlAAAAAAACAa0AAAAAAAIBxwAAAAAAAgHZAAAAAAADgcEAAAAAAAMBnQAAAAAAAwGdAAAAAAACAW0AAAAAAACBiQAAAAAAAAF5AAAAAAACAYUAAAAAAAABpQAAAAAAAAFvAAAAAAAAAZMAAAAAAAHByQAAAAAAAoG5AAAAAAABgY0AAAAAAAMBnwAAAAAAA4HNAAAAAAABQdEAAAAAAAOBlwAAAAAAAWIFAAAAAAABwd0AAAAAAAIBrQAAAAAAAIGLAAAAAAABAYMAAAAAAAGBjQAAAAAAAQF9AAAAAAABAYEAAAAAAAMCCQAAAAAAAoGRAAAAAAADAYsAAAAAAAKBuQAAAAAAAgGHAAAAAAADgYMAAAAAAACB8QAAAAAAAcHJAAAAAAABAcEAAAAAAACBnQAAAAAAAIGxAAAAAAAAAaMAAAAAAACBsQAAAAAAAQGpAAAAAAABAWkAAAAAAACBmQAAAAAAAgGtAAAAAAADAXEAAAAAAAKB3QAAAAAAAIHJAAAAAAAAAaUAAAAAAAGBjQAAAAAAAIHJAAAAAAAAgbEAAAAAAAIBhwAAAAAAAQHVAAAAAAADAXMAAAAAAAOBlQAAAAAAAQF/AAAAAAAAAZEAAAAAAAEB1QAAAAAAAgGFAAAAAAACgZEAAAAAAAMBiQAAAAAAAAGnAAAAAAABgeEAAAAAAAFB0wAAAAAAAIGdAAAAAAAAwe0AAAAAAABB9QAAAAAAAYGPAAAAAAAAwdkAAAAAAAOBgQAAAAAAAcHdAAAAAAABAdUAAAAAAACBiQAAAAAAAwGzAAAAAAADAbMAAAAAAAIBxQAAAAAAA4GpAAAAAAACghEAAAAAAAMCCQAAAAAAAYGPAAAAAAAAAZMAAAAAAAIBhQAAAAAAAwFzAAAAAAADAckAAAAAAACCCQAAAAAAAwGxAAAAAAAAAWUAAAAAAADB7QAAAAAAAIGJAAAAAAADAbMAAAAAAAEBgwAAAAAAA4G9AAAAAAACAcUAAAAAAACBnwAAAAAAAQGXAAAAAAAAgfEAAAAAAANBxQAAAAAAAoGTAAAAAAADAXEAAAAAAAGBoQAAAAAAAwFxAAAAAAAAgbEAAAAAAAOBkQAAAAAAAQGBAAAAAAABohUAAAAAAAKB5QAAAAAAAwGJAAAAAAAAwdkAAAAAAAIBmQAAAAAAA4GJAAAAAAABQeUAAAAAAAACJQAAAAAAAIGZAAAAAAABwd0AAAAAAAEBqQAAAAAAAsHNAAAAAAAAwe0AAAAAAAKBuQAAAAAAAoGRAAAAAAABgfUAAAAAAACBiQAAAAAAAgFvAAAAAAADgZEAAAAAAAEBeQAAAAAAA4GBAAAAAAABAf0AAAAAAAOCAQAAAAAAA4GVAAAAAAACAcUAAAAAAADB7QAAAAAAAQGrAAAAAAACAYcAAAAAAAIBfQAAAAAAAQG/AAAAAAABgc0AAAAAAAEBqwAAAAAAA0HZAAAAAAABgeEAAAAAAAMByQAAAAAAAwHdAAAAAAAAAZEAAAAAAACBiQAAAAAAAQF/AAAAAAACAa0AAAAAAANCBQAAAAAAAQHpAAAAAAABwd0AAAAAAAABvQAAAAAAAAGTAAAAAAACQcEAAAAAAADBxQAAAAAAAAGRAAAAAAAAAZEAAAAAAAEBawAAAAAAAQH9AAAAAAADAZ0AAAAAAAOBwQAAAAAAAIHJAAAAAAABgbUAAAAAAAOBlQAAAAAAAIHxAAAAAAACgbkAAAAAAAMBcwAAAAAAAYGNAAAAAAADQcUAAAAAAAGiFQAAAAAAAoGRAAAAAAADgakAAAAAAAOBvQAAAAAAAQGVAAAAAAAAAfkAAAAAAAIBbwAAAAAAAQFpAAAAAAACAcUAAAAAAAAB0wAAAAAAA4H9AAAAAAAAAWUAAAAAAAAB+QAAAAAAAIHJAAAAAAACgZEAAAAAAAGB4QAAAAAAAIGxAAAAAAADAZ0AAAAAAAFB5QAAAAAAAQFpAAAAAAAAAXkAAAAAAAMBiwAAAAAAA+IFAAAAAAADAbEAAAAAAAOBgQAAAAAAAAGlAAAAAAACwfcAAAAAAACBywAAAAAAAgGtAAAAAAACAW0AAAAAAABB9QAAAAAAAQF9AAAAAAAAAeUAAAAAAAOBlQAAAAAAAAF5AAAAAAACgdEAAAAAAAOCAQAAAAAAAAF7AAAAAAADAcsAAAAAAAABpwAAAAAAAAGRAAAAAAABgaEAAAAAAAOCFQAAAAAAAIGZAAAAAAADgc0AAAAAAAKB0QAAAAAAAQFrAAAAAAADgZUAAAAAAANB2QAAAAAAAAGTAAAAAAAAgYsAAAAAAAGBjwAAAAAAAkHBAAAAAAACAW8AAAAAAACBnQAAAAAAAwHJAAAAAAADAZ0AAAAAAAGBjwAAAAAAAAFlAAAAAAABAXUAAAAAAAABpwAAAAAAAoGRAAAAAAADAZ0AAAAAAAMBiQAAAAAAAoGlAAAAAAACAYUAAAAAAAEBlQAAAAAAAwGdAAAAAAAAgfEAAAAAAAOBqQAAAAAAAwFtAAAAAAABAWkAAAAAAAKBkwAAAAAAA0HFAAAAAAAAgckAAAAAAAGB4QAAAAAAAQGVAAAAAAADAXMAAAAAAAEB6QAAAAAAAQGVAAAAAAADAcsAAAAAAAABuwAAAAAAAAG9AAAAAAAAAXkAAAAAAAKBuQAAAAAAAQFrAAAAAAACAW8AAAAAAAOBqQAAAAAAAoGlAAAAAAABQlEAAAAAAADB2QAAAAAAA4GpAAAAAAAAgZ0AAAAAAAABuwAAAAAAAwHLAAAAAAADAZ0AAAAAAAMBiQAAAAAAAoG5AAAAAAAAAbkAAAAAAAOBwQAAAAAAAoGNAAAAAAAAgbEAAAAAAAMBnQAAAAAAAwFxAAAAAAACAZ0AAAAAAAABpQAAAAAAAYGhAAAAAAAAgckAAAAAAACBnwAAAAAAAYHhAAAAAAAAAaUAAAAAAAABuQAAAAAAAAIlAAAAAAADAZ0AAAAAAAEB6QAAAAAAAAGjAAAAAAAAAdEAAAAAAAEBaQAAAAAAAwGdAAAAAAAAAXkAAAAAAAMBsQAAAAAAAwGdAAAAAAAAgYsAAAAAAAIBxQAAAAAAAYG1AAAAAAABAZUAAAAAAACBiQAAAAAAAAGRAAAAAAADgcEAAAAAAAKBkwAAAAAAAQGpAAAAAAABAYkAAAAAAAGBtQAAAAAAAQGpAAAAAAACghEAAAAAAACBnQAAAAAAAYHNAAAAAAABgbcAAAAAAAEBfwAAAAAAAgGvAAAAAAABAWkAAAAAAAMBlwAAAAAAA4GrAAAAAAABAZUAAAAAAABBzQAAAAAAA4IBAAAAAAADQcUAAAAAAADB7QAAAAAAAMHZAAAAAAABAb0AAAAAAAEBaQAAAAAAAAGlAAAAAAADAZ0AAAAAAAOBlQAAAAAAAAF7AAAAAAADAXEAAAAAAAABpQAAAAAAA4G/AAAAAAABAdUAAAAAAAMByQAAAAAAAIHdAAAAAAADgZUAAAAAAAHByQAAAAAAA4HVAAAAAAADgZUAAAAAAAOBvQAAAAAAA4HBAAAAAAAAAacAAAAAAANCBQAAAAAAAQHBAAAAAAADgZUAAAAAAACBnwAAAAAAAIHBAAAAAAABAekAAAAAAAEBaQAAAAAAAAG5AAAAAAAAAaUAAAAAAAAB0QAAAAAAAwGdAAAAAAACAYUAAAAAAAKB0QAAAAAAAAF7AAAAAAAAgYkAAAAAAAMByQAAAAAAAwGLAAAAAAAAAWUAAAAAAAEBlQAAAAAAA4GVAAAAAAAAAZMAAAAAAAMBnQAAAAAAAQFrAAAAAAAAAZMAAAAAAAABeQAAAAAAAAF5AAAAAAABAakAAAAAAAEBwwAAAAAAAQGBAAAAAAACwc0AAAAAAAIBkQAAAAAAAgHFAAAAAAADgb0AAAAAAAEB6QAAAAAAAMHZAAAAAAAAAY0AAAAAAAMBiQAAAAAAAAF5AAAAAAAAAXkAAAAAAAABbQAAAAAAA4HXAAAAAAABAWsAAAAAAAABpQAAAAAAAMHFAAAAAAACAYcAAAAAAAMBiQAAAAAAAIGfAAAAAAADAd0AAAAAAAIB0QAAAAAAAAGTAAAAAAACAe0AAAAAAAEBlQAAAAAAAkHDAAAAAAADAYsAAAAAAAABZQAAAAAAAgHHAAAAAAACAe0AAAAAAAOCAQAAAAAAAQHBAAAAAAADgcEAAAAAAAIBrwAAAAAAAQF9AAAAAAABgbcAAAAAAAABuQAAAAAAAQHVAAAAAAAAgZ8AAAAAAAOBvQAAAAAAAAGjAAAAAAABAcEAAAAAAAMBsQAAAAAAAcHJAAAAAAAAAZEAAAAAAAECFQAAAAAAAsHNAAAAAAAAgYsAAAAAAAABeQAAAAAAAgHHAAAAAAABAZUAAAAAAACBwQAAAAAAAwGxAAAAAAACAcUAAAAAAAMBbwAAAAAAAoHlAAAAAAABgbUAAAAAAAIBrQAAAAAAAYGNAAAAAAABAX8AAAAAAAABvQAAAAAAAYGhAAAAAAAAAaUAAAAAAANB7QAAAAAAAEHNAAAAAAACAdEAAAAAAAMBhQAAAAAAAAGZAAAAAAABAdUAAAAAAAAB0QAAAAAAAQFrAAAAAAABAYMAAAAAAALB9QAAAAAAAoG7AAAAAAADgYEAAAAAAAMB3QAAAAAAAIGdAAAAAAAAgYsAAAAAAAFB0QAAAAAAAgHFAAAAAAABAYEAAAAAAAEBqQAAAAAAAwFxAAAAAAAAwe0AAAAAAADBxQAAAAAAAwFxAAAAAAABAYEAAAAAAACBmQAAAAAAAoGTAAAAAAACAccAAAAAAAHByQAAAAAAAsHNAAAAAAACgbkAAAAAAAEB6QAAAAAAAwGdAAAAAAACAYEAAAAAAACBmQAAAAAAAIHJAAAAAAADgc0AAAAAAAIBcwAAAAAAAwFzAAAAAAADAYkAAAAAAAIB2QAAAAAAAgGvAAAAAAACAZEAAAAAAAIBiwAAAAAAAkHVAAAAAAADQdkAAAAAAACBiQAAAAAAA0HZAAAAAAADwdEAAAAAAAKBpQAAAAAAAAG5AAAAAAADgcMAAAAAAAOBwQAAAAAAAgFtAAAAAAAAQc0AAAAAAAOCAQAAAAAAAQGDAAAAAAADAZ0AAAAAAAIBnQAAAAAAAAGDAAAAAAADQdkAAAAAAANBxQAAAAAAAQHVAAAAAAACAZkAAAAAAAMBcQAAAAAAAAHRAAAAAAAAAbkAAAAAAAEBwQAAAAAAA4G9AAAAAAAAwdkAAAAAAAJB6QAAAAAAAIGdAAAAAAAAAaUAAAAAAACBiQAAAAAAAAHRAAAAAAAAAbkAAAAAAAIBbwAAAAAAAMHtAAAAAAABwd0AAAAAAAGBtQAAAAAAAYHNAAAAAAADgYMAAAAAAAABpQAAAAAAAwGFAAAAAAACAZEAAAAAAAEBwQAAAAAAAIHdAAAAAAABgY0AAAAAAAEBqQAAAAAAAAF5AAAAAAABgeMAAAAAAAEB/QAAAAAAAwGdAAAAAAABAb8AAAAAAAEBlQAAAAAAAIGxAAAAAAAAgd0AAAAAAACBiQAAAAAAA4G9AAAAAAABAekAAAAAAACBnwAAAAAAAgFzAAAAAAACQcEAAAAAAAIBgwAAAAAAAgGvAAAAAAABwd0AAAAAAAGB4QAAAAAAAAFlAAAAAAACQdUAAAAAAAPB0QAAAAAAAIHJAAAAAAABgbUAAAAAAAMB8QAAAAAAAQGNAAAAAAACAYEAAAAAAAMBnQAAAAAAAgGHAAAAAAABAZUAAAAAAAEBawAAAAAAAwILAAAAAAADAW8AAAAAAAOBvQAAAAAAA0HFAAAAAAADgYEAAAAAAAEBlwAAAAAAAIGdAAAAAAABgfcAAAAAAAOBvwAAAAAAA4GpAAAAAAABAcEAAAAAAACBiQAAAAAAA4HpAAAAAAAAAaUAAAAAAAIBhQAAAAAAAoGBAAAAAAACAW0AAAAAAADBxQAAAAAAA4GDAAAAAAABAasAAAAAAAIBrwAAAAAAAgFtAAAAAAAAAacAAAAAAANB2QAAAAAAAwGdAAAAAAAAwcUAAAAAAAIBbQAAAAAAAQGBAAAAAAADAd0AAAAAAAEB1QAAAAAAAUHlAAAAAAAAwe0AAAAAAAOBzQAAAAAAAAFvAAAAAAAAgZ0AAAAAAAEBlQAAAAAAAQF/AAAAAAAAAZEAAAAAAAGBtQAAAAAAAYGRAAAAAAABAWkAAAAAAAAB0QAAAAAAA0HZAAAAAAACQcEAAAAAAADB2QAAAAAAAYG1AAAAAAAAAZEAAAAAAAIBrQAAAAAAAgHZAAAAAAAAgYkAAAAAAAOBgwAAAAAAA4G9AAAAAAAAgZ0AAAAAAAGBoQAAAAAAAQHBAAAAAAAAAdMAAAAAAAABkQAAAAAAAIHJAAAAAAAAAXsAAAAAAAEBvQAAAAAAAkHDAAAAAAADAZ0AAAAAAAABgwAAAAAAAIHBAAAAAAADgb0AAAAAAACByQAAAAAAAYG1AAAAAAAAQc0AAAAAAAIBmQAAAAAAA4GDAAAAAAAAAaUAAAAAAACBswAAAAAAAwGxAAAAAAADAbEAAAAAAAIBkQAAAAAAAQFpAAAAAAADgdcAAAAAAAIBbwAAAAAAAgGZAAAAAAADAX0AAAAAAAEBvQAAAAAAAwHLAAAAAAABAWsAAAAAAAABpwAAAAAAAYHhAAAAAAACAW0AAAAAAAMBiwAAAAAAA4HBAAAAAAABAYEAAAAAAAMBnQAAAAAAAgGtAAAAAAACAW8AAAAAAADBxwAAAAAAAYG3AAAAAAACQekAAAAAAAKBpQAAAAAAAQGVAAAAAAADAXMAAAAAAAKBuQAAAAAAAgFnAAAAAAABAdcAAAAAAAIBmQAAAAAAAwGdAAAAAAACAZkAAAAAAAABkQAAAAAAAgGHAAAAAAAAgYsAAAAAAAEBqQAAAAAAAQGVAAAAAAACAW8AAAAAAACBnQAAAAAAAwGdAAAAAAACgZMAAAAAAAABkQAAAAAAA4GVAAAAAAADAZ0AAAAAAAEBmwAAAAAAAQFrAAAAAAABgbUAAAAAAAIBkQAAAAAAAAG5AAAAAAACAZkAAAAAAAOBqQAAAAAAAwFxAAAAAAABAasAAAAAAAEBfwAAAAAAAYGjAAAAAAAAAZMAAAAAAAABpQAAAAAAA4HDAAAAAAABAf0AAAAAAAMBnQAAAAAAA4GVAAAAAAAAgckAAAAAAAMBnQAAAAAAAkHBAAAAAAACgeUAAAAAAAIBfwAAAAAAAgF/AAAAAAAAgaMAAAAAAAGBzQAAAAAAAQGVAAAAAAADQgkAAAAAAAIBrwAAAAAAAAGVAAAAAAADgYEAAAAAAAABowAAAAAAAAGVAAAAAAACAYkAAAAAAADBxQAAAAAAAgGHAAAAAAABAakAAAAAAACBiwAAAAAAAgGZAAAAAAABgc8AAAAAAAEBlQAAAAAAAgGZAAAAAAACAYUAAAAAAAKBlwAAAAAAAIGfAAAAAAAAAYMAAAAAAAJBwQAAAAAAAQGDAAAAAAACAZkAAAAAAADB2QAAAAAAAYHNAAAAAAABAZUAAAAAAAMBsQAAAAAAA4HVAAAAAAADAbMAAAAAAADCBQAAAAAAAQHVAAAAAAAAAZMAAAAAAAEBwwAAAAAAAoGlAAAAAAADAckAAAAAAACByQAAAAAAAgGZAAAAAAACgZEAAAAAAAMBswAAAAAAAsH1AAAAAAADgYEAAAAAAAKBpwAAAAAAAMIFAAAAAAADAZ0AAAAAAACByQAAAAAAAYGhAAAAAAAAAZEAAAAAAAIBmQAAAAAAAwGdAAAAAAADAbEAAAAAAALBzQAAAAAAAAFlAAAAAAADwdEAAAAAAAOBlQAAAAAAAgGtAAAAAAADwdEA=",
          "dtype": "f8"
         },
         "yaxis": "y"
        },
        {
         "hovertemplate": "Winner=Blue<br>RedOdds=%{x}<br>BlueOdds=%{y}<extra></extra>",
         "legendgroup": "Blue",
         "marker": {
          "color": "rgb(55,126,184)",
          "symbol": "circle"
         },
         "mode": "markers",
         "name": "Blue",
         "showlegend": true,
         "type": "scattergl",
         "x": {
          "bdata": "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",
          "dtype": "f8"
         },
         "xaxis": "x",
         "y": {
          "bdata": "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",
          "dtype": "f8"
         },
         "yaxis": "y"
        }
       ],
       "layout": {
        "height": 500,
        "legend": {
         "title": {
          "text": "Winner"
         },
         "tracegroupgap": 0
        },
        "template": {
         "data": {
          "bar": [
           {
            "error_x": {
             "color": "#2a3f5f"
            },
            "error_y": {
             "color": "#2a3f5f"
            },
            "marker": {
             "line": {
              "color": "#E5ECF6",
              "width": 0.5
             },
             "pattern": {
              "fillmode": "overlay",
              "size": 10,
              "solidity": 0.2
             }
            },
            "type": "bar"
           }
          ],
          "barpolar": [
           {
            "marker": {
             "line": {
              "color": "#E5ECF6",
              "width": 0.5
             },
             "pattern": {
              "fillmode": "overlay",
              "size": 10,
              "solidity": 0.2
             }
            },
            "type": "barpolar"
           }
          ],
          "carpet": [
           {
            "aaxis": {
             "endlinecolor": "#2a3f5f",
             "gridcolor": "white",
             "linecolor": "white",
             "minorgridcolor": "white",
             "startlinecolor": "#2a3f5f"
            },
            "baxis": {
             "endlinecolor": "#2a3f5f",
             "gridcolor": "white",
             "linecolor": "white",
             "minorgridcolor": "white",
             "startlinecolor": "#2a3f5f"
            },
            "type": "carpet"
           }
          ],
          "choropleth": [
           {
            "colorbar": {
             "outlinewidth": 0,
             "ticks": ""
            },
            "type": "choropleth"
           }
          ],
          "contour": [
           {
            "colorbar": {
             "outlinewidth": 0,
             "ticks": ""
            },
            "colorscale": [
             [
              0,
              "#0d0887"
             ],
             [
              0.1111111111111111,
              "#46039f"
             ],
             [
              0.2222222222222222,
              "#7201a8"
             ],
             [
              0.3333333333333333,
              "#9c179e"
             ],
             [
              0.4444444444444444,
              "#bd3786"
             ],
             [
              0.5555555555555556,
              "#d8576b"
             ],
             [
              0.6666666666666666,
              "#ed7953"
             ],
             [
              0.7777777777777778,
              "#fb9f3a"
             ],
             [
              0.8888888888888888,
              "#fdca26"
             ],
             [
              1,
              "#f0f921"
             ]
            ],
            "type": "contour"
           }
          ],
          "contourcarpet": [
           {
            "colorbar": {
             "outlinewidth": 0,
             "ticks": ""
            },
            "type": "contourcarpet"
           }
          ],
          "heatmap": [
           {
            "colorbar": {
             "outlinewidth": 0,
             "ticks": ""
            },
            "colorscale": [
             [
              0,
              "#0d0887"
             ],
             [
              0.1111111111111111,
              "#46039f"
             ],
             [
              0.2222222222222222,
              "#7201a8"
             ],
             [
              0.3333333333333333,
              "#9c179e"
             ],
             [
              0.4444444444444444,
              "#bd3786"
             ],
             [
              0.5555555555555556,
              "#d8576b"
             ],
             [
              0.6666666666666666,
              "#ed7953"
             ],
             [
              0.7777777777777778,
              "#fb9f3a"
             ],
             [
              0.8888888888888888,
              "#fdca26"
             ],
             [
              1,
              "#f0f921"
             ]
            ],
            "type": "heatmap"
           }
          ],
          "histogram": [
           {
            "marker": {
             "pattern": {
              "fillmode": "overlay",
              "size": 10,
              "solidity": 0.2
             }
            },
            "type": "histogram"
           }
          ],
          "histogram2d": [
           {
            "colorbar": {
             "outlinewidth": 0,
             "ticks": ""
            },
            "colorscale": [
             [
              0,
              "#0d0887"
             ],
             [
              0.1111111111111111,
              "#46039f"
             ],
             [
              0.2222222222222222,
              "#7201a8"
             ],
             [
              0.3333333333333333,
              "#9c179e"
             ],
             [
              0.4444444444444444,
              "#bd3786"
             ],
             [
              0.5555555555555556,
              "#d8576b"
             ],
             [
              0.6666666666666666,
              "#ed7953"
             ],
             [
              0.7777777777777778,
              "#fb9f3a"
             ],
             [
              0.8888888888888888,
              "#fdca26"
             ],
             [
              1,
              "#f0f921"
             ]
            ],
            "type": "histogram2d"
           }
          ],
          "histogram2dcontour": [
           {
            "colorbar": {
             "outlinewidth": 0,
             "ticks": ""
            },
            "colorscale": [
             [
              0,
              "#0d0887"
             ],
             [
              0.1111111111111111,
              "#46039f"
             ],
             [
              0.2222222222222222,
              "#7201a8"
             ],
             [
              0.3333333333333333,
              "#9c179e"
             ],
             [
              0.4444444444444444,
              "#bd3786"
             ],
             [
              0.5555555555555556,
              "#d8576b"
             ],
             [
              0.6666666666666666,
              "#ed7953"
             ],
             [
              0.7777777777777778,
              "#fb9f3a"
             ],
             [
              0.8888888888888888,
              "#fdca26"
             ],
             [
              1,
              "#f0f921"
             ]
            ],
            "type": "histogram2dcontour"
           }
          ],
          "mesh3d": [
           {
            "colorbar": {
             "outlinewidth": 0,
             "ticks": ""
            },
            "type": "mesh3d"
           }
          ],
          "parcoords": [
           {
            "line": {
             "colorbar": {
              "outlinewidth": 0,
              "ticks": ""
             }
            },
            "type": "parcoords"
           }
          ],
          "pie": [
           {
            "automargin": true,
            "type": "pie"
           }
          ],
          "scatter": [
           {
            "fillpattern": {
             "fillmode": "overlay",
             "size": 10,
             "solidity": 0.2
            },
            "type": "scatter"
           }
          ],
          "scatter3d": [
           {
            "line": {
             "colorbar": {
              "outlinewidth": 0,
              "ticks": ""
             }
            },
            "marker": {
             "colorbar": {
              "outlinewidth": 0,
              "ticks": ""
             }
            },
            "type": "scatter3d"
           }
          ],
          "scattercarpet": [
           {
            "marker": {
             "colorbar": {
              "outlinewidth": 0,
              "ticks": ""
             }
            },
            "type": "scattercarpet"
           }
          ],
          "scattergeo": [
           {
            "marker": {
             "colorbar": {
              "outlinewidth": 0,
              "ticks": ""
             }
            },
            "type": "scattergeo"
           }
          ],
          "scattergl": [
           {
            "marker": {
             "colorbar": {
              "outlinewidth": 0,
              "ticks": ""
             }
            },
            "type": "scattergl"
           }
          ],
          "scattermap": [
           {
            "marker": {
             "colorbar": {
              "outlinewidth": 0,
              "ticks": ""
             }
            },
            "type": "scattermap"
           }
          ],
          "scattermapbox": [
           {
            "marker": {
             "colorbar": {
              "outlinewidth": 0,
              "ticks": ""
             }
            },
            "type": "scattermapbox"
           }
          ],
          "scatterpolar": [
           {
            "marker": {
             "colorbar": {
              "outlinewidth": 0,
              "ticks": ""
             }
            },
            "type": "scatterpolar"
           }
          ],
          "scatterpolargl": [
           {
            "marker": {
             "colorbar": {
              "outlinewidth": 0,
              "ticks": ""
             }
            },
            "type": "scatterpolargl"
           }
          ],
          "scatterternary": [
           {
            "marker": {
             "colorbar": {
              "outlinewidth": 0,
              "ticks": ""
             }
            },
            "type": "scatterternary"
           }
          ],
          "surface": [
           {
            "colorbar": {
             "outlinewidth": 0,
             "ticks": ""
            },
            "colorscale": [
             [
              0,
              "#0d0887"
             ],
             [
              0.1111111111111111,
              "#46039f"
             ],
             [
              0.2222222222222222,
              "#7201a8"
             ],
             [
              0.3333333333333333,
              "#9c179e"
             ],
             [
              0.4444444444444444,
              "#bd3786"
             ],
             [
              0.5555555555555556,
              "#d8576b"
             ],
             [
              0.6666666666666666,
              "#ed7953"
             ],
             [
              0.7777777777777778,
              "#fb9f3a"
             ],
             [
              0.8888888888888888,
              "#fdca26"
             ],
             [
              1,
              "#f0f921"
             ]
            ],
            "type": "surface"
           }
          ],
          "table": [
           {
            "cells": {
             "fill": {
              "color": "#EBF0F8"
             },
             "line": {
              "color": "white"
             }
            },
            "header": {
             "fill": {
              "color": "#C8D4E3"
             },
             "line": {
              "color": "white"
             }
            },
            "type": "table"
           }
          ]
         },
         "layout": {
          "annotationdefaults": {
           "arrowcolor": "#2a3f5f",
           "arrowhead": 0,
           "arrowwidth": 1
          },
          "autotypenumbers": "strict",
          "coloraxis": {
           "colorbar": {
            "outlinewidth": 0,
            "ticks": ""
           }
          },
          "colorscale": {
           "diverging": [
            [
             0,
             "#8e0152"
            ],
            [
             0.1,
             "#c51b7d"
            ],
            [
             0.2,
             "#de77ae"
            ],
            [
             0.3,
             "#f1b6da"
            ],
            [
             0.4,
             "#fde0ef"
            ],
            [
             0.5,
             "#f7f7f7"
            ],
            [
             0.6,
             "#e6f5d0"
            ],
            [
             0.7,
             "#b8e186"
            ],
            [
             0.8,
             "#7fbc41"
            ],
            [
             0.9,
             "#4d9221"
            ],
            [
             1,
             "#276419"
            ]
           ],
           "sequential": [
            [
             0,
             "#0d0887"
            ],
            [
             0.1111111111111111,
             "#46039f"
            ],
            [
             0.2222222222222222,
             "#7201a8"
            ],
            [
             0.3333333333333333,
             "#9c179e"
            ],
            [
             0.4444444444444444,
             "#bd3786"
            ],
            [
             0.5555555555555556,
             "#d8576b"
            ],
            [
             0.6666666666666666,
             "#ed7953"
            ],
            [
             0.7777777777777778,
             "#fb9f3a"
            ],
            [
             0.8888888888888888,
             "#fdca26"
            ],
            [
             1,
             "#f0f921"
            ]
           ],
           "sequentialminus": [
            [
             0,
             "#0d0887"
            ],
            [
             0.1111111111111111,
             "#46039f"
            ],
            [
             0.2222222222222222,
             "#7201a8"
            ],
            [
             0.3333333333333333,
             "#9c179e"
            ],
            [
             0.4444444444444444,
             "#bd3786"
            ],
            [
             0.5555555555555556,
             "#d8576b"
            ],
            [
             0.6666666666666666,
             "#ed7953"
            ],
            [
             0.7777777777777778,
             "#fb9f3a"
            ],
            [
             0.8888888888888888,
             "#fdca26"
            ],
            [
             1,
             "#f0f921"
            ]
           ]
          },
          "colorway": [
           "#636efa",
           "#EF553B",
           "#00cc96",
           "#ab63fa",
           "#FFA15A",
           "#19d3f3",
           "#FF6692",
           "#B6E880",
           "#FF97FF",
           "#FECB52"
          ],
          "font": {
           "color": "#2a3f5f"
          },
          "geo": {
           "bgcolor": "white",
           "lakecolor": "white",
           "landcolor": "#E5ECF6",
           "showlakes": true,
           "showland": true,
           "subunitcolor": "white"
          },
          "hoverlabel": {
           "align": "left"
          },
          "hovermode": "closest",
          "mapbox": {
           "style": "light"
          },
          "paper_bgcolor": "white",
          "plot_bgcolor": "#E5ECF6",
          "polar": {
           "angularaxis": {
            "gridcolor": "white",
            "linecolor": "white",
            "ticks": ""
           },
           "bgcolor": "#E5ECF6",
           "radialaxis": {
            "gridcolor": "white",
            "linecolor": "white",
            "ticks": ""
           }
          },
          "scene": {
           "xaxis": {
            "backgroundcolor": "#E5ECF6",
            "gridcolor": "white",
            "gridwidth": 2,
            "linecolor": "white",
            "showbackground": true,
            "ticks": "",
            "zerolinecolor": "white"
           },
           "yaxis": {
            "backgroundcolor": "#E5ECF6",
            "gridcolor": "white",
            "gridwidth": 2,
            "linecolor": "white",
            "showbackground": true,
            "ticks": "",
            "zerolinecolor": "white"
           },
           "zaxis": {
            "backgroundcolor": "#E5ECF6",
            "gridcolor": "white",
            "gridwidth": 2,
            "linecolor": "white",
            "showbackground": true,
            "ticks": "",
            "zerolinecolor": "white"
           }
          },
          "shapedefaults": {
           "line": {
            "color": "#2a3f5f"
           }
          },
          "ternary": {
           "aaxis": {
            "gridcolor": "white",
            "linecolor": "white",
            "ticks": ""
           },
           "baxis": {
            "gridcolor": "white",
            "linecolor": "white",
            "ticks": ""
           },
           "bgcolor": "#E5ECF6",
           "caxis": {
            "gridcolor": "white",
            "linecolor": "white",
            "ticks": ""
           }
          },
          "title": {
           "x": 0.05
          },
          "xaxis": {
           "automargin": true,
           "gridcolor": "white",
           "linecolor": "white",
           "ticks": "",
           "title": {
            "standoff": 15
           },
           "zerolinecolor": "white",
           "zerolinewidth": 2
          },
          "yaxis": {
           "automargin": true,
           "gridcolor": "white",
           "linecolor": "white",
           "ticks": "",
           "title": {
            "standoff": 15
           },
           "zerolinecolor": "white",
           "zerolinewidth": 2
          }
         }
        },
        "title": {
         "text": "Betting Odds: Red vs Blue Corner"
        },
        "width": 700,
        "xaxis": {
         "anchor": "y",
         "domain": [
          0,
          1
         ],
         "title": {
          "text": "RedOdds"
         }
        },
        "yaxis": {
         "anchor": "x",
         "domain": [
          0,
          1
         ],
         "title": {
          "text": "BlueOdds"
         }
        }
       }
      },
      "image/png": "[encoded data removed]"
     },
     "metadata": {},
     "output_type": "display_data"
    }
   ],
   "source": [
    "fig = px.scatter(ufc, x = \"RedOdds\", y = \"BlueOdds\", color = \"Winner\", title = \"Betting Odds: Red vs Blue Corner\",\n",
    "    color_discrete_sequence = px.colors.qualitative.Set1)\n",
    "\n",
    "fig.update_layout(width = 700, height = 500)\n",
    "fig.show()"
   ]
  },
  {
   "cell_type": "code",
   "execution_count": 92,
   "id": "31f122cf-2f84-4b57-9109-7b5c4375676b",
   "metadata": {},
   "outputs": [
    {
     "data": {
      "application/vnd.plotly.v1+json": {
       "config": {
        "plotlyServerURL": "https://plot.ly"
       },
       "data": [
        {
         "hovertemplate": "Event Location=%{x}<br>Number of Fights=%{text}<extra></extra>",
         "legendgroup": "",
         "marker": {
          "color": "#636efa",
          "pattern": {
           "shape": ""
          }
         },
         "name": "",
         "orientation": "v",
         "showlegend": false,
         "text": {
          "bdata": "AAAAAAC2oEAAAAAAAABrQAAAAAAAIGBAAAAAAADAWUAAAAAAAABYQAAAAAAAAFhAAAAAAACAVUAAAAAAAMBUQAAAAAAAAFRAAAAAAACAU0AAAAAAAABTQAAAAAAAAFJAAAAAAACAUUAAAAAAAEBRQAAAAAAAQFFA",
          "dtype": "f8"
         },
         "textposition": "outside",
         "type": "bar",
         "x": [
          "Las Vegas, Nevada, USA",
          "Abu Dhabi, Abu Dhabi, United Arab Emirates",
          "London, England, United Kingdom",
          "Newark, New Jersey, USA",
          "New York City, New York, USA",
          "Houston, Texas, USA",
          "Toronto, Ontario, Canada",
          "Boston, Massachusetts, USA",
          "Chicago, Illinois, USA",
          "Anaheim, California, USA",
          "Rio de Janeiro, Rio de Janeiro, Brazil",
          "Stockholm, Sweden",
          "Jacksonville, Florida, USA",
          "Mexico City, Distrito Federal, Mexico",
          "Sao Paulo, Sao Paulo, Brazil"
         ],
         "xaxis": "x",
         "y": {
          "bdata": "WwjYAIEAZwBgAGAAVgBTAFAATgBMAEgARgBFAEUA",
          "dtype": "i2"
         },
         "yaxis": "y"
        }
       ],
       "layout": {
        "barmode": "relative",
        "font": {
         "color": "#333",
         "family": "Helvetica Neue",
         "size": 14
        },
        "height": 700,
        "legend": {
         "tracegroupgap": 0
        },
        "paper_bgcolor": "white",
        "plot_bgcolor": "white",
        "template": {
         "data": {
          "bar": [
           {
            "error_x": {
             "color": "#2a3f5f"
            },
            "error_y": {
             "color": "#2a3f5f"
            },
            "marker": {
             "line": {
              "color": "#E5ECF6",
              "width": 0.5
             },
             "pattern": {
              "fillmode": "overlay",
              "size": 10,
              "solidity": 0.2
             }
            },
            "type": "bar"
           }
          ],
          "barpolar": [
           {
            "marker": {
             "line": {
              "color": "#E5ECF6",
              "width": 0.5
             },
             "pattern": {
              "fillmode": "overlay",
              "size": 10,
              "solidity": 0.2
             }
            },
            "type": "barpolar"
           }
          ],
          "carpet": [
           {
            "aaxis": {
             "endlinecolor": "#2a3f5f",
             "gridcolor": "white",
             "linecolor": "white",
             "minorgridcolor": "white",
             "startlinecolor": "#2a3f5f"
            },
            "baxis": {
             "endlinecolor": "#2a3f5f",
             "gridcolor": "white",
             "linecolor": "white",
             "minorgridcolor": "white",
             "startlinecolor": "#2a3f5f"
            },
            "type": "carpet"
           }
          ],
          "choropleth": [
           {
            "colorbar": {
             "outlinewidth": 0,
             "ticks": ""
            },
            "type": "choropleth"
           }
          ],
          "contour": [
           {
            "colorbar": {
             "outlinewidth": 0,
             "ticks": ""
            },
            "colorscale": [
             [
              0,
              "#0d0887"
             ],
             [
              0.1111111111111111,
              "#46039f"
             ],
             [
              0.2222222222222222,
              "#7201a8"
             ],
             [
              0.3333333333333333,
              "#9c179e"
             ],
             [
              0.4444444444444444,
              "#bd3786"
             ],
             [
              0.5555555555555556,
              "#d8576b"
             ],
             [
              0.6666666666666666,
              "#ed7953"
             ],
             [
              0.7777777777777778,
              "#fb9f3a"
             ],
             [
              0.8888888888888888,
              "#fdca26"
             ],
             [
              1,
              "#f0f921"
             ]
            ],
            "type": "contour"
           }
          ],
          "contourcarpet": [
           {
            "colorbar": {
             "outlinewidth": 0,
             "ticks": ""
            },
            "type": "contourcarpet"
           }
          ],
          "heatmap": [
           {
            "colorbar": {
             "outlinewidth": 0,
             "ticks": ""
            },
            "colorscale": [
             [
              0,
              "#0d0887"
             ],
             [
              0.1111111111111111,
              "#46039f"
             ],
             [
              0.2222222222222222,
              "#7201a8"
             ],
             [
              0.3333333333333333,
              "#9c179e"
             ],
             [
              0.4444444444444444,
              "#bd3786"
             ],
             [
              0.5555555555555556,
              "#d8576b"
             ],
             [
              0.6666666666666666,
              "#ed7953"
             ],
             [
              0.7777777777777778,
              "#fb9f3a"
             ],
             [
              0.8888888888888888,
              "#fdca26"
             ],
             [
              1,
              "#f0f921"
             ]
            ],
            "type": "heatmap"
           }
          ],
          "histogram": [
           {
            "marker": {
             "pattern": {
              "fillmode": "overlay",
              "size": 10,
              "solidity": 0.2
             }
            },
            "type": "histogram"
           }
          ],
          "histogram2d": [
           {
            "colorbar": {
             "outlinewidth": 0,
             "ticks": ""
            },
            "colorscale": [
             [
              0,
              "#0d0887"
             ],
             [
              0.1111111111111111,
              "#46039f"
             ],
             [
              0.2222222222222222,
              "#7201a8"
             ],
             [
              0.3333333333333333,
              "#9c179e"
             ],
             [
              0.4444444444444444,
              "#bd3786"
             ],
             [
              0.5555555555555556,
              "#d8576b"
             ],
             [
              0.6666666666666666,
              "#ed7953"
             ],
             [
              0.7777777777777778,
              "#fb9f3a"
             ],
             [
              0.8888888888888888,
              "#fdca26"
             ],
             [
              1,
              "#f0f921"
             ]
            ],
            "type": "histogram2d"
           }
          ],
          "histogram2dcontour": [
           {
            "colorbar": {
             "outlinewidth": 0,
             "ticks": ""
            },
            "colorscale": [
             [
              0,
              "#0d0887"
             ],
             [
              0.1111111111111111,
              "#46039f"
             ],
             [
              0.2222222222222222,
              "#7201a8"
             ],
             [
              0.3333333333333333,
              "#9c179e"
             ],
             [
              0.4444444444444444,
              "#bd3786"
             ],
             [
              0.5555555555555556,
              "#d8576b"
             ],
             [
              0.6666666666666666,
              "#ed7953"
             ],
             [
              0.7777777777777778,
              "#fb9f3a"
             ],
             [
              0.8888888888888888,
              "#fdca26"
             ],
             [
              1,
              "#f0f921"
             ]
            ],
            "type": "histogram2dcontour"
           }
          ],
          "mesh3d": [
           {
            "colorbar": {
             "outlinewidth": 0,
             "ticks": ""
            },
            "type": "mesh3d"
           }
          ],
          "parcoords": [
           {
            "line": {
             "colorbar": {
              "outlinewidth": 0,
              "ticks": ""
             }
            },
            "type": "parcoords"
           }
          ],
          "pie": [
           {
            "automargin": true,
            "type": "pie"
           }
          ],
          "scatter": [
           {
            "fillpattern": {
             "fillmode": "overlay",
             "size": 10,
             "solidity": 0.2
            },
            "type": "scatter"
           }
          ],
          "scatter3d": [
           {
            "line": {
             "colorbar": {
              "outlinewidth": 0,
              "ticks": ""
             }
            },
            "marker": {
             "colorbar": {
              "outlinewidth": 0,
              "ticks": ""
             }
            },
            "type": "scatter3d"
           }
          ],
          "scattercarpet": [
           {
            "marker": {
             "colorbar": {
              "outlinewidth": 0,
              "ticks": ""
             }
            },
            "type": "scattercarpet"
           }
          ],
          "scattergeo": [
           {
            "marker": {
             "colorbar": {
              "outlinewidth": 0,
              "ticks": ""
             }
            },
            "type": "scattergeo"
           }
          ],
          "scattergl": [
           {
            "marker": {
             "colorbar": {
              "outlinewidth": 0,
              "ticks": ""
             }
            },
            "type": "scattergl"
           }
          ],
          "scattermap": [
           {
            "marker": {
             "colorbar": {
              "outlinewidth": 0,
              "ticks": ""
             }
            },
            "type": "scattermap"
           }
          ],
          "scattermapbox": [
           {
            "marker": {
             "colorbar": {
              "outlinewidth": 0,
              "ticks": ""
             }
            },
            "type": "scattermapbox"
           }
          ],
          "scatterpolar": [
           {
            "marker": {
             "colorbar": {
              "outlinewidth": 0,
              "ticks": ""
             }
            },
            "type": "scatterpolar"
           }
          ],
          "scatterpolargl": [
           {
            "marker": {
             "colorbar": {
              "outlinewidth": 0,
              "ticks": ""
             }
            },
            "type": "scatterpolargl"
           }
          ],
          "scatterternary": [
           {
            "marker": {
             "colorbar": {
              "outlinewidth": 0,
              "ticks": ""
             }
            },
            "type": "scatterternary"
           }
          ],
          "surface": [
           {
            "colorbar": {
             "outlinewidth": 0,
             "ticks": ""
            },
            "colorscale": [
             [
              0,
              "#0d0887"
             ],
             [
              0.1111111111111111,
              "#46039f"
             ],
             [
              0.2222222222222222,
              "#7201a8"
             ],
             [
              0.3333333333333333,
              "#9c179e"
             ],
             [
              0.4444444444444444,
              "#bd3786"
             ],
             [
              0.5555555555555556,
              "#d8576b"
             ],
             [
              0.6666666666666666,
              "#ed7953"
             ],
             [
              0.7777777777777778,
              "#fb9f3a"
             ],
             [
              0.8888888888888888,
              "#fdca26"
             ],
             [
              1,
              "#f0f921"
             ]
            ],
            "type": "surface"
           }
          ],
          "table": [
           {
            "cells": {
             "fill": {
              "color": "#EBF0F8"
             },
             "line": {
              "color": "white"
             }
            },
            "header": {
             "fill": {
              "color": "#C8D4E3"
             },
             "line": {
              "color": "white"
             }
            },
            "type": "table"
           }
          ]
         },
         "layout": {
          "annotationdefaults": {
           "arrowcolor": "#2a3f5f",
           "arrowhead": 0,
           "arrowwidth": 1
          },
          "autotypenumbers": "strict",
          "coloraxis": {
           "colorbar": {
            "outlinewidth": 0,
            "ticks": ""
           }
          },
          "colorscale": {
           "diverging": [
            [
             0,
             "#8e0152"
            ],
            [
             0.1,
             "#c51b7d"
            ],
            [
             0.2,
             "#de77ae"
            ],
            [
             0.3,
             "#f1b6da"
            ],
            [
             0.4,
             "#fde0ef"
            ],
            [
             0.5,
             "#f7f7f7"
            ],
            [
             0.6,
             "#e6f5d0"
            ],
            [
             0.7,
             "#b8e186"
            ],
            [
             0.8,
             "#7fbc41"
            ],
            [
             0.9,
             "#4d9221"
            ],
            [
             1,
             "#276419"
            ]
           ],
           "sequential": [
            [
             0,
             "#0d0887"
            ],
            [
             0.1111111111111111,
             "#46039f"
            ],
            [
             0.2222222222222222,
             "#7201a8"
            ],
            [
             0.3333333333333333,
             "#9c179e"
            ],
            [
             0.4444444444444444,
             "#bd3786"
            ],
            [
             0.5555555555555556,
             "#d8576b"
            ],
            [
             0.6666666666666666,
             "#ed7953"
            ],
            [
             0.7777777777777778,
             "#fb9f3a"
            ],
            [
             0.8888888888888888,
             "#fdca26"
            ],
            [
             1,
             "#f0f921"
            ]
           ],
           "sequentialminus": [
            [
             0,
             "#0d0887"
            ],
            [
             0.1111111111111111,
             "#46039f"
            ],
            [
             0.2222222222222222,
             "#7201a8"
            ],
            [
             0.3333333333333333,
             "#9c179e"
            ],
            [
             0.4444444444444444,
             "#bd3786"
            ],
            [
             0.5555555555555556,
             "#d8576b"
            ],
            [
             0.6666666666666666,
             "#ed7953"
            ],
            [
             0.7777777777777778,
             "#fb9f3a"
            ],
            [
             0.8888888888888888,
             "#fdca26"
            ],
            [
             1,
             "#f0f921"
            ]
           ]
          },
          "colorway": [
           "#636efa",
           "#EF553B",
           "#00cc96",
           "#ab63fa",
           "#FFA15A",
           "#19d3f3",
           "#FF6692",
           "#B6E880",
           "#FF97FF",
           "#FECB52"
          ],
          "font": {
           "color": "#2a3f5f"
          },
          "geo": {
           "bgcolor": "white",
           "lakecolor": "white",
           "landcolor": "#E5ECF6",
           "showlakes": true,
           "showland": true,
           "subunitcolor": "white"
          },
          "hoverlabel": {
           "align": "left"
          },
          "hovermode": "closest",
          "mapbox": {
           "style": "light"
          },
          "paper_bgcolor": "white",
          "plot_bgcolor": "#E5ECF6",
          "polar": {
           "angularaxis": {
            "gridcolor": "white",
            "linecolor": "white",
            "ticks": ""
           },
           "bgcolor": "#E5ECF6",
           "radialaxis": {
            "gridcolor": "white",
            "linecolor": "white",
            "ticks": ""
           }
          },
          "scene": {
           "xaxis": {
            "backgroundcolor": "#E5ECF6",
            "gridcolor": "white",
            "gridwidth": 2,
            "linecolor": "white",
            "showbackground": true,
            "ticks": "",
            "zerolinecolor": "white"
           },
           "yaxis": {
            "backgroundcolor": "#E5ECF6",
            "gridcolor": "white",
            "gridwidth": 2,
            "linecolor": "white",
            "showbackground": true,
            "ticks": "",
            "zerolinecolor": "white"
           },
           "zaxis": {
            "backgroundcolor": "#E5ECF6",
            "gridcolor": "white",
            "gridwidth": 2,
            "linecolor": "white",
            "showbackground": true,
            "ticks": "",
            "zerolinecolor": "white"
           }
          },
          "shapedefaults": {
           "line": {
            "color": "#2a3f5f"
           }
          },
          "ternary": {
           "aaxis": {
            "gridcolor": "white",
            "linecolor": "white",
            "ticks": ""
           },
           "baxis": {
            "gridcolor": "white",
            "linecolor": "white",
            "ticks": ""
           },
           "bgcolor": "#E5ECF6",
           "caxis": {
            "gridcolor": "white",
            "linecolor": "white",
            "ticks": ""
           }
          },
          "title": {
           "x": 0.05
          },
          "xaxis": {
           "automargin": true,
           "gridcolor": "white",
           "linecolor": "white",
           "ticks": "",
           "title": {
            "standoff": 15
           },
           "zerolinecolor": "white",
           "zerolinewidth": 2
          },
          "yaxis": {
           "automargin": true,
           "gridcolor": "white",
           "linecolor": "white",
           "ticks": "",
           "title": {
            "standoff": 15
           },
           "zerolinecolor": "white",
           "zerolinewidth": 2
          }
         }
        },
        "title": {
         "text": "Top 15 Most Popular UFC Fight Locations",
         "x": 0.05
        },
        "width": 900,
        "xaxis": {
         "anchor": "y",
         "domain": [
          0,
          1
         ],
         "tickangle": -45,
         "title": {
          "text": "Event Location"
         }
        },
        "yaxis": {
         "anchor": "x",
         "domain": [
          0,
          1
         ],
         "title": {
          "text": "Number of Fights"
         }
        }
       }
      },
      "image/png": "[encoded data removed]"
     },
     "metadata": {},
     "output_type": "display_data"
    }
   ],
   "source": [
    "location_counts = ufc['Location'].value_counts().head(15).reset_index()\n",
    "location_counts.columns = ['Location', 'Number of Fights']\n",
    "\n",
    "fig = px.bar(location_counts, x = 'Location', y = 'Number of Fights',\n",
    "             title = 'Top 15 Most Popular UFC Fight Locations',\n",
    "             labels = {'Location': 'Event Location', 'Number of Fights': 'Number of Fights'},\n",
    "             text = 'Number of Fights')\n",
    "\n",
    "fig.update_traces(textposition = 'outside')\n",
    "\n",
    "fig.update_layout(xaxis_tickangle = -45, plot_bgcolor = 'white', paper_bgcolor = 'white',\n",
    "                  font = dict(family = 'Helvetica Neue', size = 14, color = '#333'),\n",
    "                  width = 900, height = 700, title_x = 0.05)\n",
    "\n",
    "fig.show()"
   ]
  },
  {
   "cell_type": "code",
   "execution_count": null,
   "id": "352183aa-e12a-44e0-a57c-13fceccb44ba",
   "metadata": {},
   "outputs": [],
   "source": []
  }
 ],
 "metadata": {
  "kernelspec": {
   "display_name": "Python 3 (ipykernel)",
   "language": "python",
   "name": "python3"
  },
  "language_info": {
   "codemirror_mode": {
    "name": "ipython",
    "version": 3
   },
   "file_extension": ".py",
   "mimetype": "text/x-python",
   "name": "python",
   "nbconvert_exporter": "python",
   "pygments_lexer": "ipython3",
   "version": "3.10.4"
  }
 },
 "nbformat": 4,
 "nbformat_minor": 5
}
